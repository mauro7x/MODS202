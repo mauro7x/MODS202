{
 "cells": [
  {
   "cell_type": "code",
   "execution_count": 91,
   "id": "2611faad",
   "metadata": {},
   "outputs": [],
   "source": [
    "import pandas as pd\n",
    "import matplotlib.pyplot as plt\n",
    "import numpy as np\n",
    "from statsmodels.stats.outliers_influence import variance_inflation_factor\n",
    "import statsmodels.regression.linear_model as sm"
   ]
  },
  {
   "cell_type": "markdown",
   "id": "e061e838",
   "metadata": {},
   "source": [
    "# Exercise 1"
   ]
  },
  {
   "cell_type": "code",
   "execution_count": 2,
   "id": "f56878df",
   "metadata": {},
   "outputs": [],
   "source": [
    "raw_data = pd.read_csv('MROZ.txt', delim_whitespace=True, header=None)"
   ]
  },
  {
   "cell_type": "code",
   "execution_count": 3,
   "id": "17957037",
   "metadata": {},
   "outputs": [
    {
     "data": {
      "text/plain": [
       "0      3.3540\n",
       "1      1.3889\n",
       "2      4.5455\n",
       "3      1.0965\n",
       "4      4.5918\n",
       "        ...  \n",
       "423    2.3118\n",
       "424    5.3061\n",
       "425    5.8675\n",
       "426    3.4091\n",
       "427    4.0816\n",
       "Name: 6, Length: 428, dtype: float64"
      ]
     },
     "execution_count": 3,
     "metadata": {},
     "output_type": "execute_result"
    }
   ],
   "source": [
    "# Variable wage = column 6\n",
    "data = raw_data.loc[raw_data[6] != '.']\n",
    "data = data.astype({6:'float'})\n",
    "data = data.loc[data[6] > 0]\n",
    "data[6]"
   ]
  },
  {
   "cell_type": "markdown",
   "id": "ec30a022",
   "metadata": {},
   "source": [
    "# Exercise 2"
   ]
  },
  {
   "cell_type": "code",
   "execution_count": 4,
   "id": "7a244da5",
   "metadata": {},
   "outputs": [],
   "source": [
    "# Wage = Column 6\n",
    "# Age = Column 4\n",
    "# Education = Column 5"
   ]
  },
  {
   "cell_type": "markdown",
   "id": "de97fbdd",
   "metadata": {},
   "source": [
    "### All women"
   ]
  },
  {
   "cell_type": "code",
   "execution_count": 5,
   "id": "f5caddab",
   "metadata": {},
   "outputs": [
    {
     "data": {
      "text/plain": [
       "count    428.000000\n",
       "mean       4.177682\n",
       "std        3.310282\n",
       "min        0.128200\n",
       "25%        2.262600\n",
       "50%        3.481900\n",
       "75%        4.970750\n",
       "max       25.000000\n",
       "Name: 6, dtype: float64"
      ]
     },
     "execution_count": 5,
     "metadata": {},
     "output_type": "execute_result"
    }
   ],
   "source": [
    "# Wage\n",
    "data[6].describe()"
   ]
  },
  {
   "cell_type": "code",
   "execution_count": 6,
   "id": "aee602fb",
   "metadata": {},
   "outputs": [
    {
     "data": {
      "text/plain": [
       "count    428.000000\n",
       "mean      41.971963\n",
       "std        7.721084\n",
       "min       30.000000\n",
       "25%       35.000000\n",
       "50%       42.000000\n",
       "75%       47.250000\n",
       "max       60.000000\n",
       "Name: 4, dtype: float64"
      ]
     },
     "execution_count": 6,
     "metadata": {},
     "output_type": "execute_result"
    }
   ],
   "source": [
    "# Age\n",
    "data[4].describe()"
   ]
  },
  {
   "cell_type": "code",
   "execution_count": 7,
   "id": "963e9ec7",
   "metadata": {},
   "outputs": [
    {
     "data": {
      "text/plain": [
       "count    428.000000\n",
       "mean      12.658879\n",
       "std        2.285376\n",
       "min        5.000000\n",
       "25%       12.000000\n",
       "50%       12.000000\n",
       "75%       14.000000\n",
       "max       17.000000\n",
       "Name: 5, dtype: float64"
      ]
     },
     "execution_count": 7,
     "metadata": {},
     "output_type": "execute_result"
    }
   ],
   "source": [
    "# Education\n",
    "data[5].describe()"
   ]
  },
  {
   "cell_type": "markdown",
   "id": "2465fb5e",
   "metadata": {},
   "source": [
    "### Women whose husband has a higher wage than the median"
   ]
  },
  {
   "cell_type": "code",
   "execution_count": 13,
   "id": "d08f3177",
   "metadata": {},
   "outputs": [],
   "source": [
    "# Men wages = Column 11\n",
    "husb_higher_med = data.loc[data[5] > data[5].median()]\n",
    "husb_higher_med[]"
   ]
  },
  {
   "cell_type": "code",
   "execution_count": 14,
   "id": "2ef89feb",
   "metadata": {},
   "outputs": [
    {
     "data": {
      "text/plain": [
       "count    144.000000\n",
       "mean       5.349451\n",
       "std        3.547190\n",
       "min        0.170900\n",
       "25%        2.960850\n",
       "50%        4.660750\n",
       "75%        7.035675\n",
       "max       22.500000\n",
       "Name: 6, dtype: float64"
      ]
     },
     "execution_count": 14,
     "metadata": {},
     "output_type": "execute_result"
    }
   ],
   "source": [
    "# Wage\n",
    "husb_higher_med[6].describe()"
   ]
  },
  {
   "cell_type": "code",
   "execution_count": 15,
   "id": "3430a5c2",
   "metadata": {},
   "outputs": [
    {
     "data": {
      "text/plain": [
       "count    144.000000\n",
       "mean      41.930556\n",
       "std        8.060655\n",
       "min       30.000000\n",
       "25%       35.000000\n",
       "50%       42.500000\n",
       "75%       47.000000\n",
       "max       60.000000\n",
       "Name: 4, dtype: float64"
      ]
     },
     "execution_count": 15,
     "metadata": {},
     "output_type": "execute_result"
    }
   ],
   "source": [
    "# Age\n",
    "husb_higher_med[4].describe()"
   ]
  },
  {
   "cell_type": "code",
   "execution_count": 16,
   "id": "64f18e66",
   "metadata": {},
   "outputs": [
    {
     "data": {
      "text/plain": [
       "count    144.000000\n",
       "mean      15.208333\n",
       "std        1.518534\n",
       "min       13.000000\n",
       "25%       14.000000\n",
       "50%       16.000000\n",
       "75%       17.000000\n",
       "max       17.000000\n",
       "Name: 5, dtype: float64"
      ]
     },
     "execution_count": 16,
     "metadata": {},
     "output_type": "execute_result"
    }
   ],
   "source": [
    "# Education\n",
    "husb_higher_med[5].describe()"
   ]
  },
  {
   "cell_type": "markdown",
   "id": "b43a4b09",
   "metadata": {},
   "source": [
    "### Women whose husband has a lower wage than the median"
   ]
  },
  {
   "cell_type": "code",
   "execution_count": 18,
   "id": "50c009c6",
   "metadata": {},
   "outputs": [
    {
     "data": {
      "text/html": [
       "<div>\n",
       "<style scoped>\n",
       "    .dataframe tbody tr th:only-of-type {\n",
       "        vertical-align: middle;\n",
       "    }\n",
       "\n",
       "    .dataframe tbody tr th {\n",
       "        vertical-align: top;\n",
       "    }\n",
       "\n",
       "    .dataframe thead th {\n",
       "        text-align: right;\n",
       "    }\n",
       "</style>\n",
       "<table border=\"1\" class=\"dataframe\">\n",
       "  <thead>\n",
       "    <tr style=\"text-align: right;\">\n",
       "      <th></th>\n",
       "      <th>0</th>\n",
       "      <th>1</th>\n",
       "      <th>2</th>\n",
       "      <th>3</th>\n",
       "      <th>4</th>\n",
       "      <th>5</th>\n",
       "      <th>6</th>\n",
       "      <th>7</th>\n",
       "      <th>8</th>\n",
       "      <th>9</th>\n",
       "      <th>...</th>\n",
       "      <th>12</th>\n",
       "      <th>13</th>\n",
       "      <th>14</th>\n",
       "      <th>15</th>\n",
       "      <th>16</th>\n",
       "      <th>17</th>\n",
       "      <th>18</th>\n",
       "      <th>19</th>\n",
       "      <th>20</th>\n",
       "      <th>21</th>\n",
       "    </tr>\n",
       "  </thead>\n",
       "  <tbody>\n",
       "    <tr>\n",
       "      <th>11</th>\n",
       "      <td>1</td>\n",
       "      <td>1960</td>\n",
       "      <td>0</td>\n",
       "      <td>1</td>\n",
       "      <td>42</td>\n",
       "      <td>11</td>\n",
       "      <td>4.5918</td>\n",
       "      <td>4.58</td>\n",
       "      <td>2375</td>\n",
       "      <td>47</td>\n",
       "      <td>...</td>\n",
       "      <td>28700</td>\n",
       "      <td>0.6215</td>\n",
       "      <td>14</td>\n",
       "      <td>7</td>\n",
       "      <td>5.0</td>\n",
       "      <td>0</td>\n",
       "      <td>14</td>\n",
       "      <td>19.70007</td>\n",
       "      <td>1.524272</td>\n",
       "      <td>196</td>\n",
       "    </tr>\n",
       "    <tr>\n",
       "      <th>14</th>\n",
       "      <td>1</td>\n",
       "      <td>1848</td>\n",
       "      <td>0</td>\n",
       "      <td>1</td>\n",
       "      <td>43</td>\n",
       "      <td>10</td>\n",
       "      <td>3.6797</td>\n",
       "      <td>3.38</td>\n",
       "      <td>2024</td>\n",
       "      <td>45</td>\n",
       "      <td>...</td>\n",
       "      <td>31431</td>\n",
       "      <td>0.5815</td>\n",
       "      <td>7</td>\n",
       "      <td>7</td>\n",
       "      <td>7.5</td>\n",
       "      <td>1</td>\n",
       "      <td>6</td>\n",
       "      <td>24.63091</td>\n",
       "      <td>1.302831</td>\n",
       "      <td>36</td>\n",
       "    </tr>\n",
       "    <tr>\n",
       "      <th>15</th>\n",
       "      <td>1</td>\n",
       "      <td>1224</td>\n",
       "      <td>0</td>\n",
       "      <td>3</td>\n",
       "      <td>35</td>\n",
       "      <td>11</td>\n",
       "      <td>1.3472</td>\n",
       "      <td>0.00</td>\n",
       "      <td>1694</td>\n",
       "      <td>38</td>\n",
       "      <td>...</td>\n",
       "      <td>19180</td>\n",
       "      <td>0.7215</td>\n",
       "      <td>16</td>\n",
       "      <td>10</td>\n",
       "      <td>7.5</td>\n",
       "      <td>1</td>\n",
       "      <td>9</td>\n",
       "      <td>17.53103</td>\n",
       "      <td>.2980284</td>\n",
       "      <td>81</td>\n",
       "    </tr>\n",
       "    <tr>\n",
       "      <th>30</th>\n",
       "      <td>1</td>\n",
       "      <td>1040</td>\n",
       "      <td>0</td>\n",
       "      <td>0</td>\n",
       "      <td>50</td>\n",
       "      <td>11</td>\n",
       "      <td>1.5385</td>\n",
       "      <td>0.00</td>\n",
       "      <td>1840</td>\n",
       "      <td>53</td>\n",
       "      <td>...</td>\n",
       "      <td>6719</td>\n",
       "      <td>0.7515</td>\n",
       "      <td>7</td>\n",
       "      <td>7</td>\n",
       "      <td>7.5</td>\n",
       "      <td>1</td>\n",
       "      <td>32</td>\n",
       "      <td>5.11896</td>\n",
       "      <td>.4308079</td>\n",
       "      <td>1024</td>\n",
       "    </tr>\n",
       "    <tr>\n",
       "      <th>35</th>\n",
       "      <td>1</td>\n",
       "      <td>690</td>\n",
       "      <td>0</td>\n",
       "      <td>1</td>\n",
       "      <td>42</td>\n",
       "      <td>11</td>\n",
       "      <td>2.4638</td>\n",
       "      <td>0.00</td>\n",
       "      <td>1896</td>\n",
       "      <td>44</td>\n",
       "      <td>...</td>\n",
       "      <td>15897</td>\n",
       "      <td>0.7515</td>\n",
       "      <td>10</td>\n",
       "      <td>3</td>\n",
       "      <td>7.5</td>\n",
       "      <td>0</td>\n",
       "      <td>0</td>\n",
       "      <td>14.19698</td>\n",
       "      <td>.9017048</td>\n",
       "      <td>0</td>\n",
       "    </tr>\n",
       "    <tr>\n",
       "      <th>...</th>\n",
       "      <td>...</td>\n",
       "      <td>...</td>\n",
       "      <td>...</td>\n",
       "      <td>...</td>\n",
       "      <td>...</td>\n",
       "      <td>...</td>\n",
       "      <td>...</td>\n",
       "      <td>...</td>\n",
       "      <td>...</td>\n",
       "      <td>...</td>\n",
       "      <td>...</td>\n",
       "      <td>...</td>\n",
       "      <td>...</td>\n",
       "      <td>...</td>\n",
       "      <td>...</td>\n",
       "      <td>...</td>\n",
       "      <td>...</td>\n",
       "      <td>...</td>\n",
       "      <td>...</td>\n",
       "      <td>...</td>\n",
       "      <td>...</td>\n",
       "    </tr>\n",
       "    <tr>\n",
       "      <th>401</th>\n",
       "      <td>1</td>\n",
       "      <td>800</td>\n",
       "      <td>0</td>\n",
       "      <td>1</td>\n",
       "      <td>48</td>\n",
       "      <td>8</td>\n",
       "      <td>3.8250</td>\n",
       "      <td>2.30</td>\n",
       "      <td>2000</td>\n",
       "      <td>52</td>\n",
       "      <td>...</td>\n",
       "      <td>62060</td>\n",
       "      <td>0.7515</td>\n",
       "      <td>7</td>\n",
       "      <td>7</td>\n",
       "      <td>7.5</td>\n",
       "      <td>0</td>\n",
       "      <td>2</td>\n",
       "      <td>59.00000</td>\n",
       "      <td>1.341558</td>\n",
       "      <td>4</td>\n",
       "    </tr>\n",
       "    <tr>\n",
       "      <th>409</th>\n",
       "      <td>1</td>\n",
       "      <td>778</td>\n",
       "      <td>0</td>\n",
       "      <td>0</td>\n",
       "      <td>47</td>\n",
       "      <td>8</td>\n",
       "      <td>3.2134</td>\n",
       "      <td>7.25</td>\n",
       "      <td>2058</td>\n",
       "      <td>51</td>\n",
       "      <td>...</td>\n",
       "      <td>31810</td>\n",
       "      <td>0.6915</td>\n",
       "      <td>12</td>\n",
       "      <td>12</td>\n",
       "      <td>5.0</td>\n",
       "      <td>1</td>\n",
       "      <td>11</td>\n",
       "      <td>29.30997</td>\n",
       "      <td>1.16733</td>\n",
       "      <td>121</td>\n",
       "    </tr>\n",
       "    <tr>\n",
       "      <th>417</th>\n",
       "      <td>1</td>\n",
       "      <td>1350</td>\n",
       "      <td>0</td>\n",
       "      <td>4</td>\n",
       "      <td>37</td>\n",
       "      <td>8</td>\n",
       "      <td>1.7407</td>\n",
       "      <td>2.10</td>\n",
       "      <td>2400</td>\n",
       "      <td>41</td>\n",
       "      <td>...</td>\n",
       "      <td>15100</td>\n",
       "      <td>0.7515</td>\n",
       "      <td>7</td>\n",
       "      <td>7</td>\n",
       "      <td>3.0</td>\n",
       "      <td>0</td>\n",
       "      <td>4</td>\n",
       "      <td>12.75006</td>\n",
       "      <td>.5542873</td>\n",
       "      <td>16</td>\n",
       "    </tr>\n",
       "    <tr>\n",
       "      <th>419</th>\n",
       "      <td>1</td>\n",
       "      <td>1984</td>\n",
       "      <td>1</td>\n",
       "      <td>3</td>\n",
       "      <td>36</td>\n",
       "      <td>11</td>\n",
       "      <td>4.4859</td>\n",
       "      <td>3.26</td>\n",
       "      <td>1656</td>\n",
       "      <td>38</td>\n",
       "      <td>...</td>\n",
       "      <td>19600</td>\n",
       "      <td>0.7215</td>\n",
       "      <td>7</td>\n",
       "      <td>3</td>\n",
       "      <td>14.0</td>\n",
       "      <td>0</td>\n",
       "      <td>10</td>\n",
       "      <td>10.69998</td>\n",
       "      <td>1.500939</td>\n",
       "      <td>100</td>\n",
       "    </tr>\n",
       "    <tr>\n",
       "      <th>423</th>\n",
       "      <td>1</td>\n",
       "      <td>680</td>\n",
       "      <td>0</td>\n",
       "      <td>5</td>\n",
       "      <td>36</td>\n",
       "      <td>10</td>\n",
       "      <td>2.3118</td>\n",
       "      <td>0.00</td>\n",
       "      <td>3430</td>\n",
       "      <td>43</td>\n",
       "      <td>...</td>\n",
       "      <td>19772</td>\n",
       "      <td>0.7215</td>\n",
       "      <td>7</td>\n",
       "      <td>7</td>\n",
       "      <td>7.5</td>\n",
       "      <td>0</td>\n",
       "      <td>2</td>\n",
       "      <td>18.19998</td>\n",
       "      <td>.8380265</td>\n",
       "      <td>4</td>\n",
       "    </tr>\n",
       "  </tbody>\n",
       "</table>\n",
       "<p>72 rows × 22 columns</p>\n",
       "</div>"
      ],
      "text/plain": [
       "     0     1   2   3   4   5       6     7     8   9   ...     12      13  14  \\\n",
       "11    1  1960   0   1  42  11  4.5918  4.58  2375  47  ...  28700  0.6215  14   \n",
       "14    1  1848   0   1  43  10  3.6797  3.38  2024  45  ...  31431  0.5815   7   \n",
       "15    1  1224   0   3  35  11  1.3472  0.00  1694  38  ...  19180  0.7215  16   \n",
       "30    1  1040   0   0  50  11  1.5385  0.00  1840  53  ...   6719  0.7515   7   \n",
       "35    1   690   0   1  42  11  2.4638  0.00  1896  44  ...  15897  0.7515  10   \n",
       "..   ..   ...  ..  ..  ..  ..     ...   ...   ...  ..  ...    ...     ...  ..   \n",
       "401   1   800   0   1  48   8  3.8250  2.30  2000  52  ...  62060  0.7515   7   \n",
       "409   1   778   0   0  47   8  3.2134  7.25  2058  51  ...  31810  0.6915  12   \n",
       "417   1  1350   0   4  37   8  1.7407  2.10  2400  41  ...  15100  0.7515   7   \n",
       "419   1  1984   1   3  36  11  4.4859  3.26  1656  38  ...  19600  0.7215   7   \n",
       "423   1   680   0   5  36  10  2.3118  0.00  3430  43  ...  19772  0.7215   7   \n",
       "\n",
       "     15    16  17  18        19        20    21  \n",
       "11    7   5.0   0  14  19.70007  1.524272   196  \n",
       "14    7   7.5   1   6  24.63091  1.302831    36  \n",
       "15   10   7.5   1   9  17.53103  .2980284    81  \n",
       "30    7   7.5   1  32   5.11896  .4308079  1024  \n",
       "35    3   7.5   0   0  14.19698  .9017048     0  \n",
       "..   ..   ...  ..  ..       ...       ...   ...  \n",
       "401   7   7.5   0   2  59.00000  1.341558     4  \n",
       "409  12   5.0   1  11  29.30997   1.16733   121  \n",
       "417   7   3.0   0   4  12.75006  .5542873    16  \n",
       "419   3  14.0   0  10  10.69998  1.500939   100  \n",
       "423   7   7.5   0   2  18.19998  .8380265     4  \n",
       "\n",
       "[72 rows x 22 columns]"
      ]
     },
     "execution_count": 18,
     "metadata": {},
     "output_type": "execute_result"
    }
   ],
   "source": [
    "# Men wages = Column 11\n",
    "husb_lower_med = data.loc[data[5] < data[5].median()]\n",
    "husb_lower_med"
   ]
  },
  {
   "cell_type": "code",
   "execution_count": 22,
   "id": "b7aab076",
   "metadata": {},
   "outputs": [
    {
     "data": {
      "text/plain": [
       "count    72.000000\n",
       "mean      2.945771\n",
       "std       2.340912\n",
       "min       0.128200\n",
       "25%       1.768525\n",
       "50%       2.456100\n",
       "75%       3.671450\n",
       "max      18.267000\n",
       "Name: 6, dtype: float64"
      ]
     },
     "execution_count": 22,
     "metadata": {},
     "output_type": "execute_result"
    }
   ],
   "source": [
    "# Wage\n",
    "husb_lower_med[6].describe()"
   ]
  },
  {
   "cell_type": "code",
   "execution_count": 23,
   "id": "5972eb16",
   "metadata": {},
   "outputs": [
    {
     "data": {
      "text/plain": [
       "count    72.000000\n",
       "mean     42.847222\n",
       "std       7.648363\n",
       "min      30.000000\n",
       "25%      36.000000\n",
       "50%      42.500000\n",
       "75%      48.250000\n",
       "max      59.000000\n",
       "Name: 4, dtype: float64"
      ]
     },
     "execution_count": 23,
     "metadata": {},
     "output_type": "execute_result"
    }
   ],
   "source": [
    "# Age\n",
    "husb_lower_med[4].describe()"
   ]
  },
  {
   "cell_type": "code",
   "execution_count": 24,
   "id": "bfb8f05d",
   "metadata": {},
   "outputs": [
    {
     "data": {
      "text/plain": [
       "count    72.000000\n",
       "mean      9.500000\n",
       "std       1.472757\n",
       "min       5.000000\n",
       "25%       8.750000\n",
       "50%      10.000000\n",
       "75%      11.000000\n",
       "max      11.000000\n",
       "Name: 5, dtype: float64"
      ]
     },
     "execution_count": 24,
     "metadata": {},
     "output_type": "execute_result"
    }
   ],
   "source": [
    "# Education\n",
    "husb_lower_med[5].describe()"
   ]
  },
  {
   "cell_type": "markdown",
   "id": "7199cb5b",
   "metadata": {},
   "source": [
    "# Exercise 3"
   ]
  },
  {
   "cell_type": "code",
   "execution_count": 25,
   "id": "75f0ab1e",
   "metadata": {},
   "outputs": [
    {
     "data": {
      "text/plain": [
       "array([[<AxesSubplot:title={'center':'6'}>]], dtype=object)"
      ]
     },
     "execution_count": 25,
     "metadata": {},
     "output_type": "execute_result"
    },
    {
     "data": {
      "image/png": "[encoded data removed]",
      "text/plain": [
       "<Figure size 432x288 with 1 Axes>"
      ]
     },
     "metadata": {
      "needs_background": "light"
     },
     "output_type": "display_data"
    }
   ],
   "source": [
    "data.hist(6)"
   ]
  },
  {
   "cell_type": "code",
   "execution_count": 27,
   "id": "4d3cab45",
   "metadata": {},
   "outputs": [
    {
     "data": {
      "text/plain": [
       "<Figure size 432x288 with 0 Axes>"
      ]
     },
     "metadata": {},
     "output_type": "display_data"
    },
    {
     "data": {
      "image/png": "[encoded data removed]",
      "text/plain": [
       "<Figure size 432x288 with 1 Axes>"
      ]
     },
     "metadata": {
      "needs_background": "light"
     },
     "output_type": "display_data"
    }
   ],
   "source": [
    "plt.figure()\n",
    "hist = data.hist(6)\n",
    "plt.yscale('log')"
   ]
  },
  {
   "cell_type": "markdown",
   "id": "f05c74c4",
   "metadata": {},
   "source": [
    "Both results represent the same information. However, it is easier to appreciate the biggest differences involving high values using the non-log one, while the smallesy ones in lower values is more interpretable in the log graphic."
   ]
  },
  {
   "cell_type": "markdown",
   "id": "bb86722c",
   "metadata": {},
   "source": [
    "# Exercise 4 REVISAR"
   ]
  },
  {
   "cell_type": "code",
   "execution_count": 31,
   "id": "b3094d90",
   "metadata": {},
   "outputs": [
    {
     "name": "stdout",
     "output_type": "stream",
     "text": [
      "[[1.         0.55406322]\n",
      " [0.55406322 1.        ]]\n"
     ]
    }
   ],
   "source": [
    "# motheduc = Column 14\n",
    "# fatheduc = Column 15\n",
    "\n",
    "r = np.corrcoef(data[14], data[15])\n",
    "print(r)"
   ]
  },
  {
   "cell_type": "code",
   "execution_count": 40,
   "id": "036555a0",
   "metadata": {},
   "outputs": [
    {
     "name": "stdout",
     "output_type": "stream",
     "text": [
      "[[1.         0.55406322]\n",
      " [0.55406322 1.        ]]\n"
     ]
    }
   ],
   "source": [
    "educBoth = data.loc[:,14:15]\n",
    "r = np.corrcoef(educBoth[14], educBoth[15])\n",
    "print(r)"
   ]
  },
  {
   "cell_type": "markdown",
   "id": "a70f3d7d",
   "metadata": {},
   "source": [
    "Using correlation data, there exists a relation between both father and mother level of education. Taking into account that the value is 0.55406322, which is positive, it is likely that the higher the value of one of the elements, the higher the value of the other."
   ]
  },
  {
   "cell_type": "code",
   "execution_count": 34,
   "id": "6900b03c",
   "metadata": {},
   "outputs": [
    {
     "data": {
      "text/plain": [
       "array([[1.30698605, 1.10812644],\n",
       "       [1.10812644, 1.30698605]])"
      ]
     },
     "execution_count": 34,
     "metadata": {},
     "output_type": "execute_result"
    }
   ],
   "source": [
    "np.matmul(r.T,r)"
   ]
  },
  {
   "cell_type": "code",
   "execution_count": 93,
   "id": "171344fd",
   "metadata": {},
   "outputs": [],
   "source": [
    "vif= pd.DataFrame()\n",
    "# data['const']=1\n",
    "# vif['variables']=data.columns\n",
    "# vif[\"VIF\"]=[variance_inflation_factor(data.values,i) for i in range(data.shape[1])]\n",
    "# print(vif)"
   ]
  },
  {
   "cell_type": "markdown",
   "id": "2b8dee30",
   "metadata": {},
   "source": [
    "# Exercise 5 REVISAR"
   ]
  },
  {
   "cell_type": "code",
   "execution_count": 79,
   "id": "40f01f80",
   "metadata": {},
   "outputs": [
    {
     "data": {
      "text/plain": [
       "<AxesSubplot:xlabel='5', ylabel='6'>"
      ]
     },
     "execution_count": 79,
     "metadata": {},
     "output_type": "execute_result"
    },
    {
     "data": {
      "image/png": "[encoded data removed]",
      "text/plain": [
       "<Figure size 432x288 with 1 Axes>"
      ]
     },
     "metadata": {
      "needs_background": "light"
     },
     "output_type": "display_data"
    }
   ],
   "source": [
    "#wage et educ\n",
    "data.plot.scatter(x=5,y=6)"
   ]
  },
  {
   "cell_type": "code",
   "execution_count": 80,
   "id": "e48bd458",
   "metadata": {},
   "outputs": [
    {
     "data": {
      "image/png": "[encoded data removed]",
      "text/plain": [
       "<Figure size 432x288 with 1 Axes>"
      ]
     },
     "metadata": {
      "needs_background": "light"
     },
     "output_type": "display_data"
    }
   ],
   "source": [
    "#wage et exper\n",
    "scat=data.plot.scatter(x=21,y=6)"
   ]
  },
  {
   "cell_type": "code",
   "execution_count": 81,
   "id": "f5570485",
   "metadata": {},
   "outputs": [
    {
     "data": {
      "text/plain": [
       "<AxesSubplot:xlabel='15', ylabel='6'>"
      ]
     },
     "execution_count": 81,
     "metadata": {},
     "output_type": "execute_result"
    },
    {
     "data": {
      "image/png": "[encoded data removed]",
      "text/plain": [
       "<Figure size 432x288 with 1 Axes>"
      ]
     },
     "metadata": {
      "needs_background": "light"
     },
     "output_type": "display_data"
    }
   ],
   "source": [
    "#wage et fatheduc\n",
    "data.plot.scatter(x=15,y=6)"
   ]
  },
  {
   "cell_type": "markdown",
   "id": "6f4773ac",
   "metadata": {},
   "source": [
    "Although we can see different distributions, it is difficult to obtain conclusions using only the scatter plots because points may be overlapping. However, the wage is differently distributed looking at the evident differences of the graphics."
   ]
  },
  {
   "cell_type": "markdown",
   "id": "649a6a03",
   "metadata": {},
   "source": [
    "# Exercise 6"
   ]
  },
  {
   "cell_type": "markdown",
   "id": "7c916e0a",
   "metadata": {},
   "source": [
    "We have estimators which are not biased when the residuals of the models are independent of the variables of explanation."
   ]
  },
  {
   "cell_type": "markdown",
   "id": "50af6ff9",
   "metadata": {},
   "source": [
    "The omitted variable biased happens when we ignore a variable of explanation in the equation and it is correlated with both the error and the studied variable"
   ]
  },
  {
   "cell_type": "markdown",
   "id": "d2f292c6",
   "metadata": {},
   "source": [
    "# Exercise 7"
   ]
  },
  {
   "cell_type": "code",
   "execution_count": 106,
   "id": "c404c656",
   "metadata": {},
   "outputs": [
    {
     "name": "stdout",
     "output_type": "stream",
     "text": [
      "                                 OLS Regression Results                                \n",
      "=======================================================================================\n",
      "Dep. Variable:                      6   R-squared (uncentered):                   0.659\n",
      "Model:                            OLS   Adj. R-squared (uncentered):              0.654\n",
      "Method:                 Least Squares   F-statistic:                              135.9\n",
      "Date:                Tue, 22 Nov 2022   Prob (F-statistic):                    2.72e-95\n",
      "Time:                        15:02:49   Log-Likelihood:                         -1093.2\n",
      "No. Observations:                 428   AIC:                                      2198.\n",
      "Df Residuals:                     422   BIC:                                      2223.\n",
      "Df Model:                           6                                                  \n",
      "Covariance Type:            nonrobust                                                  \n",
      "==============================================================================\n",
      "                 coef    std err          t      P>|t|      [0.025      0.975]\n",
      "------------------------------------------------------------------------------\n",
      "17             0.3057      0.328      0.933      0.351      -0.338       0.950\n",
      "5              0.3149      0.040      7.940      0.000       0.237       0.393\n",
      "18             0.0035      0.019      0.183      0.855      -0.034       0.042\n",
      "19             0.0130      0.016      0.832      0.406      -0.018       0.044\n",
      "2              0.0498      0.399      0.125      0.901      -0.735       0.835\n",
      "3             -0.1810      0.117     -1.552      0.122      -0.410       0.048\n",
      "==============================================================================\n",
      "Omnibus:                      342.394   Durbin-Watson:                   2.035\n",
      "Prob(Omnibus):                  0.000   Jarque-Bera (JB):             6030.284\n",
      "Skew:                           3.369   Prob(JB):                         0.00\n",
      "Kurtosis:                      20.110   Cond. No.                         72.9\n",
      "==============================================================================\n",
      "\n",
      "Notes:\n",
      "[1] R² is computed without centering (uncentered) since the model does not contain a constant.\n",
      "[2] Standard Errors assume that the covariance matrix of the errors is correctly specified.\n"
     ]
    }
   ],
   "source": [
    "# city = Column 17\n",
    "# educ = Column 5\n",
    "# exper = Column 18\n",
    "# nwifeinc = Column 19\n",
    "# kidslt6 = Column 2\n",
    "# kidsge6 = Column 3\n",
    "\n",
    "X = data.iloc[:, [17,5,18,19,2,3]]\n",
    "y = data[6]\n",
    "model = sm.OLS(y, X)\n",
    "results = model.fit()\n",
    "residuals = results.resid\n",
    "print(results.summary())"
   ]
  },
  {
   "cell_type": "code",
   "execution_count": 98,
   "id": "05464a0c",
   "metadata": {},
   "outputs": [
    {
     "data": {
      "text/plain": [
       "(array([ 30., 215., 141.,  27.,   5.,   3.,   0.,   3.,   1.,   3.]),\n",
       " array([-5.56487079, -2.89615689, -0.227443  ,  2.44127089,  5.10998479,\n",
       "         7.77869868, 10.44741257, 13.11612647, 15.78484036, 18.45355426,\n",
       "        21.12226815]),\n",
       " <BarContainer object of 10 artists>)"
      ]
     },
     "execution_count": 98,
     "metadata": {},
     "output_type": "execute_result"
    },
    {
     "data": {
      "image/png": "[encoded data removed]",
      "text/plain": [
       "<Figure size 432x288 with 1 Axes>"
      ]
     },
     "metadata": {
      "needs_background": "light"
     },
     "output_type": "display_data"
    }
   ],
   "source": [
    "plt.hist(residuals)"
   ]
  },
  {
   "cell_type": "markdown",
   "id": "eddd29eb",
   "metadata": {},
   "source": [
    "# Comment"
   ]
  },
  {
   "cell_type": "markdown",
   "id": "cd1c86fa",
   "metadata": {},
   "source": [
    "# Exercise 8"
   ]
  },
  {
   "cell_type": "code",
   "execution_count": 149,
   "id": "92412d79",
   "metadata": {
    "scrolled": true
   },
   "outputs": [
    {
     "name": "stdout",
     "output_type": "stream",
     "text": [
      "                            OLS Regression Results                            \n",
      "==============================================================================\n",
      "Dep. Variable:                      6   R-squared:                       0.156\n",
      "Model:                            OLS   Adj. R-squared:                  0.144\n",
      "Method:                 Least Squares   F-statistic:                     12.92\n",
      "Date:                Tue, 22 Nov 2022   Prob (F-statistic):           2.00e-13\n",
      "Time:                        17:00:52   Log-Likelihood:                -431.92\n",
      "No. Observations:                 428   AIC:                             877.8\n",
      "Df Residuals:                     421   BIC:                             906.3\n",
      "Df Model:                           6                                         \n",
      "Covariance Type:            nonrobust                                         \n",
      "==============================================================================\n",
      "                 coef    std err          t      P>|t|      [0.025      0.975]\n",
      "------------------------------------------------------------------------------\n",
      "17             0.0353      0.070      0.503      0.616      -0.103       0.173\n",
      "5              0.1022      0.015      6.771      0.000       0.073       0.132\n",
      "18             0.0155      0.004      3.452      0.001       0.007       0.024\n",
      "19             0.0049      0.003      1.466      0.143      -0.002       0.011\n",
      "2             -0.0453      0.085     -0.531      0.596      -0.213       0.122\n",
      "3             -0.0117      0.027     -0.434      0.664      -0.065       0.041\n",
      "const         -0.3990      0.207     -1.927      0.055      -0.806       0.008\n",
      "==============================================================================\n",
      "Omnibus:                       79.542   Durbin-Watson:                   1.979\n",
      "Prob(Omnibus):                  0.000   Jarque-Bera (JB):              287.193\n",
      "Skew:                          -0.795   Prob(JB):                     4.33e-63\n",
      "Kurtosis:                       6.685   Cond. No.                         178.\n",
      "==============================================================================\n",
      "\n",
      "Notes:\n",
      "[1] Standard Errors assume that the covariance matrix of the errors is correctly specified.\n"
     ]
    },
    {
     "name": "stderr",
     "output_type": "stream",
     "text": [
      "/tmp/ipykernel_8977/1241353530.py:9: SettingWithCopyWarning: \n",
      "A value is trying to be set on a copy of a slice from a DataFrame.\n",
      "Try using .loc[row_indexer,col_indexer] = value instead\n",
      "\n",
      "See the caveats in the documentation: https://pandas.pydata.org/pandas-docs/stable/user_guide/indexing.html#returning-a-view-versus-a-copy\n",
      "  X['const']=1\n"
     ]
    }
   ],
   "source": [
    "# city = Column 17\n",
    "# educ = Column 5\n",
    "# exper = Column 18\n",
    "# nwifeinc = Column 19\n",
    "# kidslt6 = Column 2\n",
    "# kidsge6 = Column 3\n",
    "\n",
    "X = data.iloc[:, [17,5,18,19,2,3]]\n",
    "X['const']=1\n",
    "y = np.log(data[6])\n",
    "model = sm.OLS(y, X)\n",
    "results = model.fit()\n",
    "residuals = results.resid\n",
    "print(results.summary())"
   ]
  },
  {
   "cell_type": "code",
   "execution_count": 151,
   "id": "8e3d3b84",
   "metadata": {},
   "outputs": [],
   "source": [
    "coef=results.params.to_numpy()"
   ]
  },
  {
   "cell_type": "code",
   "execution_count": 152,
   "id": "cb5cdee8",
   "metadata": {},
   "outputs": [
    {
     "data": {
      "text/plain": [
       "(array([  4.,   3.,   5.,  19.,  63., 158., 141.,  25.,   5.,   5.]),\n",
       " array([-3.00985118, -2.48171228, -1.95357337, -1.42543447, -0.89729556,\n",
       "        -0.36915666,  0.15898225,  0.68712115,  1.21526005,  1.74339896,\n",
       "         2.27153786]),\n",
       " <BarContainer object of 10 artists>)"
      ]
     },
     "execution_count": 152,
     "metadata": {},
     "output_type": "execute_result"
    },
    {
     "data": {
      "image/png": "[encoded data removed]",
      "text/plain": [
       "<Figure size 432x288 with 1 Axes>"
      ]
     },
     "metadata": {
      "needs_background": "light"
     },
     "output_type": "display_data"
    }
   ],
   "source": [
    "plt.hist(residuals)"
   ]
  },
  {
   "cell_type": "markdown",
   "id": "49abd96b",
   "metadata": {},
   "source": [
    "# COMMENT"
   ]
  },
  {
   "cell_type": "markdown",
   "id": "f4c46666",
   "metadata": {},
   "source": [
    "# Exercise 9"
   ]
  },
  {
   "cell_type": "code",
   "execution_count": 153,
   "id": "18278466",
   "metadata": {},
   "outputs": [],
   "source": [
    "from scipy.stats import t"
   ]
  },
  {
   "cell_type": "code",
   "execution_count": 154,
   "id": "6405e157",
   "metadata": {},
   "outputs": [
    {
     "name": "stderr",
     "output_type": "stream",
     "text": [
      "/tmp/ipykernel_8977/4252171413.py:9: SettingWithCopyWarning: \n",
      "A value is trying to be set on a copy of a slice from a DataFrame.\n",
      "Try using .loc[row_indexer,col_indexer] = value instead\n",
      "\n",
      "See the caveats in the documentation: https://pandas.pydata.org/pandas-docs/stable/user_guide/indexing.html#returning-a-view-versus-a-copy\n",
      "  X['const'] = 1\n"
     ]
    }
   ],
   "source": [
    "# city = Column 17\n",
    "# educ = Column 5\n",
    "# exper = Column 18\n",
    "# nwifeinc = Column 19\n",
    "# kidslt6 = Column 2\n",
    "# kidsge6 = Column 3\n",
    "\n",
    "X = data.iloc[:, [17,5,18,19,2,3]]\n",
    "X['const'] = 1\n",
    "y = np.log(data[6])"
   ]
  },
  {
   "cell_type": "code",
   "execution_count": 155,
   "id": "961ad9f8",
   "metadata": {},
   "outputs": [
    {
     "data": {
      "text/plain": [
       "array([0.07017832, 0.01510178, 0.004487  , 0.00333073, 0.08530773,\n",
       "       0.02694439, 0.20705047])"
      ]
     },
     "execution_count": 155,
     "metadata": {},
     "output_type": "execute_result"
    }
   ],
   "source": [
    "mat_X = X.to_numpy()\n",
    "mat_y = y.to_numpy()\n",
    "u = mat_y - mat_X@coef\n",
    "n,k=np.shape(mat_X)\n",
    "sig22=u.T@u/(n-k)\n",
    "Var2=sig22*np.linalg.inv(mat_X.T @ mat_X)\n",
    "std2=np.sqrt(np.diag(Var2))\n",
    "std2"
   ]
  },
  {
   "cell_type": "code",
   "execution_count": 156,
   "id": "ff28f992",
   "metadata": {},
   "outputs": [
    {
     "name": "stdout",
     "output_type": "stream",
     "text": [
      "2.587613795882378\n",
      "0.14341147344403282\n",
      "1.4659517416241625\n"
     ]
    }
   ],
   "source": [
    "# 1%\n",
    "print(t.ppf(1-0.005,mat_X.shape[0]-mat_X.shape[1]-2))\n",
    "t0=(coef[3]-0)/std2[3]\n",
    "print(t.sf(t0,(mat_X.shape[0]-mat_X.shape[1]-2))*2)\n",
    "print(t0)"
   ]
  },
  {
   "cell_type": "code",
   "execution_count": 157,
   "id": "31fdc01a",
   "metadata": {},
   "outputs": [
    {
     "name": "stdout",
     "output_type": "stream",
     "text": [
      "1.9656418415415788\n",
      "0.14341147344403282\n",
      "1.4659517416241625\n"
     ]
    }
   ],
   "source": [
    "# 5%\n",
    "print(t.ppf(1-0.025,mat_X.shape[0]-mat_X.shape[1]-2))\n",
    "t0=(coef[3]-0)/std2[3]\n",
    "print(t.sf(t0,(mat_X.shape[0]-mat_X.shape[1]-2))*2)\n",
    "print(t0)"
   ]
  },
  {
   "cell_type": "code",
   "execution_count": 158,
   "id": "4fa645d0",
   "metadata": {},
   "outputs": [
    {
     "name": "stdout",
     "output_type": "stream",
     "text": [
      "1.6484984103848834\n",
      "0.14341147344403282\n",
      "1.4659517416241625\n"
     ]
    }
   ],
   "source": [
    "# 10%\n",
    "print(t.ppf(1-0.05,mat_X.shape[0]-mat_X.shape[1]-2))\n",
    "t0=(coef[3]-0)/std2[3]\n",
    "print(t.sf(t0,(mat_X.shape[0]-mat_X.shape[1]-2))*2)\n",
    "print(t0)"
   ]
  },
  {
   "cell_type": "markdown",
   "id": "0434549d",
   "metadata": {},
   "source": [
    "# Exercise 10"
   ]
  },
  {
   "cell_type": "code",
   "execution_count": 159,
   "id": "aed5356d",
   "metadata": {},
   "outputs": [
    {
     "name": "stderr",
     "output_type": "stream",
     "text": [
      "/tmp/ipykernel_8977/4252171413.py:9: SettingWithCopyWarning: \n",
      "A value is trying to be set on a copy of a slice from a DataFrame.\n",
      "Try using .loc[row_indexer,col_indexer] = value instead\n",
      "\n",
      "See the caveats in the documentation: https://pandas.pydata.org/pandas-docs/stable/user_guide/indexing.html#returning-a-view-versus-a-copy\n",
      "  X['const'] = 1\n"
     ]
    }
   ],
   "source": [
    "# city = Column 17\n",
    "# educ = Column 5\n",
    "# exper = Column 18\n",
    "# nwifeinc = Column 19\n",
    "# kidslt6 = Column 2\n",
    "# kidsge6 = Column 3\n",
    "\n",
    "X = data.iloc[:, [17,5,18,19,2,3]]\n",
    "X['const'] = 1\n",
    "y = np.log(data[6])"
   ]
  },
  {
   "cell_type": "code",
   "execution_count": 160,
   "id": "b1577050",
   "metadata": {},
   "outputs": [
    {
     "data": {
      "text/plain": [
       "array([0.07017832, 0.01510178, 0.004487  , 0.00333073, 0.08530773,\n",
       "       0.02694439, 0.20705047])"
      ]
     },
     "execution_count": 160,
     "metadata": {},
     "output_type": "execute_result"
    }
   ],
   "source": [
    "mat_X = X.to_numpy()\n",
    "mat_y = y.to_numpy()\n",
    "u = mat_y - mat_X@coef\n",
    "n,k=np.shape(mat_X)\n",
    "sig22=u.T@u/(n-k)\n",
    "Var2=sig22*np.linalg.inv(mat_X.T @ mat_X)\n",
    "std2=np.sqrt(np.diag(Var2))\n",
    "std2"
   ]
  },
  {
   "cell_type": "code",
   "execution_count": 161,
   "id": "8c0e0cd2",
   "metadata": {},
   "outputs": [
    {
     "name": "stdout",
     "output_type": "stream",
     "text": [
      "1.9656418415415788\n",
      "1.8748021807993243\n",
      "-1.5363887846744926\n"
     ]
    }
   ],
   "source": [
    "# 5%\n",
    "print(t.ppf(1-0.025,mat_X.shape[0]-mat_X.shape[1]-2))\n",
    "t0=(coef[3]-0.01)/std2[3]\n",
    "print(t.sf(t0,(mat_X.shape[0]-mat_X.shape[1]-2))*2)\n",
    "print(t0)"
   ]
  },
  {
   "cell_type": "markdown",
   "id": "56a7e628",
   "metadata": {},
   "source": [
    "# Exercise 11"
   ]
  },
  {
   "cell_type": "code",
   "execution_count": null,
   "id": "4da79834",
   "metadata": {},
   "outputs": [],
   "source": []
  }
 ],
 "metadata": {
  "kernelspec": {
   "display_name": "Python 3 (ipykernel)",
   "language": "python",
   "name": "python3"
  },
  "language_info": {
   "codemirror_mode": {
    "name": "ipython",
    "version": 3
   },
   "file_extension": ".py",
   "mimetype": "text/x-python",
   "name": "python",
   "nbconvert_exporter": "python",
   "pygments_lexer": "ipython3",
   "version": "3.10.6"
  }
 },
 "nbformat": 4,
 "nbformat_minor": 5
}
