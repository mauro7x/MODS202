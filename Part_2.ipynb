{
 "cells": [
  {
   "cell_type": "markdown",
   "id": "9bf34e8d",
   "metadata": {},
   "source": [
    "# Part 2"
   ]
  },
  {
   "cell_type": "markdown",
   "id": "af41d84e",
   "metadata": {},
   "source": [
    "### Setup"
   ]
  },
  {
   "cell_type": "code",
   "execution_count": 1,
   "id": "477e9b6a",
   "metadata": {},
   "outputs": [],
   "source": [
    "import pandas as pd\n",
    "import numpy as np\n",
    "import matplotlib.pyplot as plt\n",
    "import statsmodels.api as sm\n",
    "from statsmodels.graphics.tsaplots import plot_acf, plot_pacf \n",
    "from statsmodels.tsa.ar_model import ar_select_order as ARSelectOrder\n",
    "from statsmodels.tsa.api import AutoReg"
   ]
  },
  {
   "cell_type": "code",
   "execution_count": 2,
   "id": "c1aa411d",
   "metadata": {},
   "outputs": [
    {
     "name": "stdout",
     "output_type": "stream",
     "text": [
      "Defaulting to user installation because normal site-packages is not writeable\n",
      "Requirement already satisfied: xlrd in /home/mparafati/.local/lib/python3.10/site-packages (2.0.1)\n",
      "\n",
      "\u001b[1m[\u001b[0m\u001b[34;49mnotice\u001b[0m\u001b[1;39;49m]\u001b[0m\u001b[39;49m A new release of pip available: \u001b[0m\u001b[31;49m22.2.2\u001b[0m\u001b[39;49m -> \u001b[0m\u001b[32;49m22.3.1\u001b[0m\n",
      "\u001b[1m[\u001b[0m\u001b[34;49mnotice\u001b[0m\u001b[1;39;49m]\u001b[0m\u001b[39;49m To update, run: \u001b[0m\u001b[32;49mpython3 -m pip install --upgrade pip\u001b[0m\n"
     ]
    }
   ],
   "source": [
    "!pip install xlrd"
   ]
  },
  {
   "cell_type": "code",
   "execution_count": 3,
   "id": "cd294b76",
   "metadata": {},
   "outputs": [],
   "source": [
    "# Constants\n",
    "\n",
    "FILEPATH = 'quarterly.xls'"
   ]
  },
  {
   "cell_type": "markdown",
   "id": "c28bbced",
   "metadata": {},
   "source": [
    "### 1. Importer les données du fichier quarterly.xls (corriger le problème éventuel d’observations manquantes).\n"
   ]
  },
  {
   "cell_type": "code",
   "execution_count": 4,
   "id": "f43634b2",
   "metadata": {},
   "outputs": [],
   "source": [
    "df = pd.read_excel(FILEPATH)"
   ]
  },
  {
   "cell_type": "code",
   "execution_count": 5,
   "id": "f01b9b87",
   "metadata": {
    "scrolled": true
   },
   "outputs": [
    {
     "data": {
      "text/html": [
       "<div>\n",
       "<style scoped>\n",
       "    .dataframe tbody tr th:only-of-type {\n",
       "        vertical-align: middle;\n",
       "    }\n",
       "\n",
       "    .dataframe tbody tr th {\n",
       "        vertical-align: top;\n",
       "    }\n",
       "\n",
       "    .dataframe thead th {\n",
       "        text-align: right;\n",
       "    }\n",
       "</style>\n",
       "<table border=\"1\" class=\"dataframe\">\n",
       "  <thead>\n",
       "    <tr style=\"text-align: right;\">\n",
       "      <th></th>\n",
       "      <th>DATE</th>\n",
       "      <th>FFR</th>\n",
       "      <th>Tbill</th>\n",
       "      <th>Tb1yr</th>\n",
       "      <th>r5</th>\n",
       "      <th>r10</th>\n",
       "      <th>PPINSA</th>\n",
       "      <th>Finished</th>\n",
       "      <th>CPI</th>\n",
       "      <th>CPICORE</th>\n",
       "      <th>M1NSA</th>\n",
       "      <th>M2SA</th>\n",
       "      <th>M2NSA</th>\n",
       "      <th>Unemp</th>\n",
       "      <th>IndProd</th>\n",
       "      <th>RGDP</th>\n",
       "      <th>Potent</th>\n",
       "      <th>Deflator</th>\n",
       "      <th>Curr</th>\n",
       "    </tr>\n",
       "  </thead>\n",
       "  <tbody>\n",
       "    <tr>\n",
       "      <th>0</th>\n",
       "      <td>1960Q1</td>\n",
       "      <td>3.93</td>\n",
       "      <td>3.87</td>\n",
       "      <td>4.57</td>\n",
       "      <td>4.64</td>\n",
       "      <td>4.49</td>\n",
       "      <td>31.67</td>\n",
       "      <td>33.20</td>\n",
       "      <td>29.40</td>\n",
       "      <td>18.92</td>\n",
       "      <td>140.53</td>\n",
       "      <td>896.1</td>\n",
       "      <td>299.40</td>\n",
       "      <td>5.13</td>\n",
       "      <td>23.93</td>\n",
       "      <td>2845.3</td>\n",
       "      <td>2824.2</td>\n",
       "      <td>18.521</td>\n",
       "      <td>31.830</td>\n",
       "    </tr>\n",
       "    <tr>\n",
       "      <th>1</th>\n",
       "      <td>1960Q2</td>\n",
       "      <td>3.70</td>\n",
       "      <td>2.99</td>\n",
       "      <td>3.87</td>\n",
       "      <td>4.30</td>\n",
       "      <td>4.26</td>\n",
       "      <td>31.73</td>\n",
       "      <td>33.40</td>\n",
       "      <td>29.57</td>\n",
       "      <td>19.00</td>\n",
       "      <td>138.40</td>\n",
       "      <td>903.3</td>\n",
       "      <td>300.03</td>\n",
       "      <td>5.23</td>\n",
       "      <td>23.41</td>\n",
       "      <td>2832.0</td>\n",
       "      <td>2851.2</td>\n",
       "      <td>18.579</td>\n",
       "      <td>31.862</td>\n",
       "    </tr>\n",
       "    <tr>\n",
       "      <th>2</th>\n",
       "      <td>1960Q3</td>\n",
       "      <td>2.94</td>\n",
       "      <td>2.36</td>\n",
       "      <td>3.07</td>\n",
       "      <td>3.67</td>\n",
       "      <td>3.83</td>\n",
       "      <td>31.63</td>\n",
       "      <td>33.43</td>\n",
       "      <td>29.59</td>\n",
       "      <td>19.07</td>\n",
       "      <td>139.60</td>\n",
       "      <td>919.4</td>\n",
       "      <td>305.50</td>\n",
       "      <td>5.53</td>\n",
       "      <td>23.02</td>\n",
       "      <td>2836.6</td>\n",
       "      <td>2878.7</td>\n",
       "      <td>18.648</td>\n",
       "      <td>32.217</td>\n",
       "    </tr>\n",
       "    <tr>\n",
       "      <th>3</th>\n",
       "      <td>1960Q4</td>\n",
       "      <td>2.30</td>\n",
       "      <td>2.31</td>\n",
       "      <td>2.99</td>\n",
       "      <td>3.75</td>\n",
       "      <td>3.89</td>\n",
       "      <td>31.70</td>\n",
       "      <td>33.67</td>\n",
       "      <td>29.78</td>\n",
       "      <td>19.14</td>\n",
       "      <td>142.67</td>\n",
       "      <td>932.8</td>\n",
       "      <td>312.30</td>\n",
       "      <td>6.27</td>\n",
       "      <td>22.47</td>\n",
       "      <td>2800.2</td>\n",
       "      <td>2906.7</td>\n",
       "      <td>18.700</td>\n",
       "      <td>32.624</td>\n",
       "    </tr>\n",
       "    <tr>\n",
       "      <th>4</th>\n",
       "      <td>1961Q1</td>\n",
       "      <td>2.00</td>\n",
       "      <td>2.35</td>\n",
       "      <td>2.87</td>\n",
       "      <td>3.64</td>\n",
       "      <td>3.79</td>\n",
       "      <td>31.80</td>\n",
       "      <td>33.63</td>\n",
       "      <td>29.84</td>\n",
       "      <td>19.17</td>\n",
       "      <td>142.23</td>\n",
       "      <td>948.9</td>\n",
       "      <td>317.10</td>\n",
       "      <td>6.80</td>\n",
       "      <td>22.13</td>\n",
       "      <td>2816.9</td>\n",
       "      <td>2934.8</td>\n",
       "      <td>18.743</td>\n",
       "      <td>32.073</td>\n",
       "    </tr>\n",
       "  </tbody>\n",
       "</table>\n",
       "</div>"
      ],
      "text/plain": [
       "     DATE   FFR  Tbill  Tb1yr    r5   r10  PPINSA  Finished    CPI  CPICORE  \\\n",
       "0  1960Q1  3.93   3.87   4.57  4.64  4.49   31.67     33.20  29.40    18.92   \n",
       "1  1960Q2  3.70   2.99   3.87  4.30  4.26   31.73     33.40  29.57    19.00   \n",
       "2  1960Q3  2.94   2.36   3.07  3.67  3.83   31.63     33.43  29.59    19.07   \n",
       "3  1960Q4  2.30   2.31   2.99  3.75  3.89   31.70     33.67  29.78    19.14   \n",
       "4  1961Q1  2.00   2.35   2.87  3.64  3.79   31.80     33.63  29.84    19.17   \n",
       "\n",
       "    M1NSA   M2SA   M2NSA  Unemp  IndProd    RGDP  Potent  Deflator    Curr  \n",
       "0  140.53  896.1  299.40   5.13    23.93  2845.3  2824.2    18.521  31.830  \n",
       "1  138.40  903.3  300.03   5.23    23.41  2832.0  2851.2    18.579  31.862  \n",
       "2  139.60  919.4  305.50   5.53    23.02  2836.6  2878.7    18.648  32.217  \n",
       "3  142.67  932.8  312.30   6.27    22.47  2800.2  2906.7    18.700  32.624  \n",
       "4  142.23  948.9  317.10   6.80    22.13  2816.9  2934.8    18.743  32.073  "
      ]
     },
     "execution_count": 5,
     "metadata": {},
     "output_type": "execute_result"
    }
   ],
   "source": [
    "df.head(5)"
   ]
  },
  {
   "cell_type": "code",
   "execution_count": 6,
   "id": "fd5bed57",
   "metadata": {
    "scrolled": true
   },
   "outputs": [
    {
     "data": {
      "text/html": [
       "<div>\n",
       "<style scoped>\n",
       "    .dataframe tbody tr th:only-of-type {\n",
       "        vertical-align: middle;\n",
       "    }\n",
       "\n",
       "    .dataframe tbody tr th {\n",
       "        vertical-align: top;\n",
       "    }\n",
       "\n",
       "    .dataframe thead th {\n",
       "        text-align: right;\n",
       "    }\n",
       "</style>\n",
       "<table border=\"1\" class=\"dataframe\">\n",
       "  <thead>\n",
       "    <tr style=\"text-align: right;\">\n",
       "      <th></th>\n",
       "      <th>DATE</th>\n",
       "      <th>FFR</th>\n",
       "      <th>Tbill</th>\n",
       "      <th>Tb1yr</th>\n",
       "      <th>r5</th>\n",
       "      <th>r10</th>\n",
       "      <th>PPINSA</th>\n",
       "      <th>Finished</th>\n",
       "      <th>CPI</th>\n",
       "      <th>CPICORE</th>\n",
       "      <th>M1NSA</th>\n",
       "      <th>M2SA</th>\n",
       "      <th>M2NSA</th>\n",
       "      <th>Unemp</th>\n",
       "      <th>IndProd</th>\n",
       "      <th>RGDP</th>\n",
       "      <th>Potent</th>\n",
       "      <th>Deflator</th>\n",
       "      <th>Curr</th>\n",
       "    </tr>\n",
       "  </thead>\n",
       "  <tbody>\n",
       "    <tr>\n",
       "      <th>209</th>\n",
       "      <td>2012Q2</td>\n",
       "      <td>0.15</td>\n",
       "      <td>0.09</td>\n",
       "      <td>0.19</td>\n",
       "      <td>0.79</td>\n",
       "      <td>1.82</td>\n",
       "      <td>201.80</td>\n",
       "      <td>192.83</td>\n",
       "      <td>228.84</td>\n",
       "      <td>113.60</td>\n",
       "      <td>2258.30</td>\n",
       "      <td>29611.6</td>\n",
       "      <td>9888.97</td>\n",
       "      <td>8.17</td>\n",
       "      <td>97.27</td>\n",
       "      <td>13548.5</td>\n",
       "      <td>14379.3</td>\n",
       "      <td>115.035</td>\n",
       "      <td>1104.500</td>\n",
       "    </tr>\n",
       "    <tr>\n",
       "      <th>210</th>\n",
       "      <td>2012Q3</td>\n",
       "      <td>0.14</td>\n",
       "      <td>0.10</td>\n",
       "      <td>0.18</td>\n",
       "      <td>0.67</td>\n",
       "      <td>1.64</td>\n",
       "      <td>202.40</td>\n",
       "      <td>195.20</td>\n",
       "      <td>230.03</td>\n",
       "      <td>113.91</td>\n",
       "      <td>2326.47</td>\n",
       "      <td>30251.4</td>\n",
       "      <td>10029.87</td>\n",
       "      <td>8.03</td>\n",
       "      <td>97.39</td>\n",
       "      <td>13652.5</td>\n",
       "      <td>14441.9</td>\n",
       "      <td>115.810</td>\n",
       "      <td>1119.187</td>\n",
       "    </tr>\n",
       "    <tr>\n",
       "      <th>211</th>\n",
       "      <td>2012Q4</td>\n",
       "      <td>0.16</td>\n",
       "      <td>0.09</td>\n",
       "      <td>0.17</td>\n",
       "      <td>0.69</td>\n",
       "      <td>1.71</td>\n",
       "      <td>202.27</td>\n",
       "      <td>196.20</td>\n",
       "      <td>231.28</td>\n",
       "      <td>114.18</td>\n",
       "      <td>2436.73</td>\n",
       "      <td>30938.8</td>\n",
       "      <td>10319.60</td>\n",
       "      <td>7.83</td>\n",
       "      <td>98.01</td>\n",
       "      <td>13665.4</td>\n",
       "      <td>14505.4</td>\n",
       "      <td>116.089</td>\n",
       "      <td>1147.623</td>\n",
       "    </tr>\n",
       "  </tbody>\n",
       "</table>\n",
       "</div>"
      ],
      "text/plain": [
       "       DATE   FFR  Tbill  Tb1yr    r5   r10  PPINSA  Finished     CPI  \\\n",
       "209  2012Q2  0.15   0.09   0.19  0.79  1.82  201.80    192.83  228.84   \n",
       "210  2012Q3  0.14   0.10   0.18  0.67  1.64  202.40    195.20  230.03   \n",
       "211  2012Q4  0.16   0.09   0.17  0.69  1.71  202.27    196.20  231.28   \n",
       "\n",
       "     CPICORE    M1NSA     M2SA     M2NSA  Unemp  IndProd     RGDP   Potent  \\\n",
       "209   113.60  2258.30  29611.6   9888.97   8.17    97.27  13548.5  14379.3   \n",
       "210   113.91  2326.47  30251.4  10029.87   8.03    97.39  13652.5  14441.9   \n",
       "211   114.18  2436.73  30938.8  10319.60   7.83    98.01  13665.4  14505.4   \n",
       "\n",
       "     Deflator      Curr  \n",
       "209   115.035  1104.500  \n",
       "210   115.810  1119.187  \n",
       "211   116.089  1147.623  "
      ]
     },
     "execution_count": 6,
     "metadata": {},
     "output_type": "execute_result"
    }
   ],
   "source": [
    "df.tail(3)"
   ]
  },
  {
   "cell_type": "code",
   "execution_count": 7,
   "id": "d551e5bc",
   "metadata": {},
   "outputs": [
    {
     "data": {
      "text/plain": [
       "(212, 19)"
      ]
     },
     "execution_count": 7,
     "metadata": {},
     "output_type": "execute_result"
    }
   ],
   "source": [
    "df.shape"
   ]
  },
  {
   "cell_type": "code",
   "execution_count": 8,
   "id": "bc151fe4",
   "metadata": {
    "scrolled": true
   },
   "outputs": [
    {
     "name": "stdout",
     "output_type": "stream",
     "text": [
      "<class 'pandas.core.frame.DataFrame'>\n",
      "RangeIndex: 212 entries, 0 to 211\n",
      "Data columns (total 19 columns):\n",
      " #   Column    Non-Null Count  Dtype  \n",
      "---  ------    --------------  -----  \n",
      " 0   DATE      212 non-null    object \n",
      " 1   FFR       212 non-null    float64\n",
      " 2   Tbill     212 non-null    float64\n",
      " 3   Tb1yr     212 non-null    float64\n",
      " 4   r5        212 non-null    float64\n",
      " 5   r10       212 non-null    float64\n",
      " 6   PPINSA    212 non-null    float64\n",
      " 7   Finished  212 non-null    float64\n",
      " 8   CPI       212 non-null    float64\n",
      " 9   CPICORE   212 non-null    float64\n",
      " 10  M1NSA     212 non-null    float64\n",
      " 11  M2SA      212 non-null    float64\n",
      " 12  M2NSA     212 non-null    float64\n",
      " 13  Unemp     212 non-null    float64\n",
      " 14  IndProd   212 non-null    float64\n",
      " 15  RGDP      212 non-null    float64\n",
      " 16  Potent    212 non-null    float64\n",
      " 17  Deflator  212 non-null    float64\n",
      " 18  Curr      212 non-null    float64\n",
      "dtypes: float64(18), object(1)\n",
      "memory usage: 31.6+ KB\n"
     ]
    }
   ],
   "source": [
    "df.info()"
   ]
  },
  {
   "cell_type": "markdown",
   "id": "b271642e",
   "metadata": {},
   "source": [
    "We can see that there are no missing values in this dataset. However, as asked, we make sure of dropping them using `df.dropna()`"
   ]
  },
  {
   "cell_type": "code",
   "execution_count": 9,
   "id": "f65a3d1c",
   "metadata": {},
   "outputs": [],
   "source": [
    "df = df.dropna()"
   ]
  },
  {
   "cell_type": "markdown",
   "id": "abfe8990",
   "metadata": {},
   "source": [
    "We parse the datetimes to a more convenient format using `pd.to_datetime()`"
   ]
  },
  {
   "cell_type": "code",
   "execution_count": 10,
   "id": "cebbdd84",
   "metadata": {},
   "outputs": [],
   "source": [
    "df[\"DATE\"] = pd.to_datetime(df.DATE)"
   ]
  },
  {
   "cell_type": "code",
   "execution_count": 11,
   "id": "9b370e41",
   "metadata": {},
   "outputs": [
    {
     "data": {
      "text/html": [
       "<div>\n",
       "<style scoped>\n",
       "    .dataframe tbody tr th:only-of-type {\n",
       "        vertical-align: middle;\n",
       "    }\n",
       "\n",
       "    .dataframe tbody tr th {\n",
       "        vertical-align: top;\n",
       "    }\n",
       "\n",
       "    .dataframe thead th {\n",
       "        text-align: right;\n",
       "    }\n",
       "</style>\n",
       "<table border=\"1\" class=\"dataframe\">\n",
       "  <thead>\n",
       "    <tr style=\"text-align: right;\">\n",
       "      <th></th>\n",
       "      <th>DATE</th>\n",
       "      <th>FFR</th>\n",
       "      <th>Tbill</th>\n",
       "      <th>Tb1yr</th>\n",
       "      <th>r5</th>\n",
       "      <th>r10</th>\n",
       "      <th>PPINSA</th>\n",
       "      <th>Finished</th>\n",
       "      <th>CPI</th>\n",
       "      <th>CPICORE</th>\n",
       "      <th>M1NSA</th>\n",
       "      <th>M2SA</th>\n",
       "      <th>M2NSA</th>\n",
       "      <th>Unemp</th>\n",
       "      <th>IndProd</th>\n",
       "      <th>RGDP</th>\n",
       "      <th>Potent</th>\n",
       "      <th>Deflator</th>\n",
       "      <th>Curr</th>\n",
       "    </tr>\n",
       "  </thead>\n",
       "  <tbody>\n",
       "    <tr>\n",
       "      <th>0</th>\n",
       "      <td>1960-01-01</td>\n",
       "      <td>3.93</td>\n",
       "      <td>3.87</td>\n",
       "      <td>4.57</td>\n",
       "      <td>4.64</td>\n",
       "      <td>4.49</td>\n",
       "      <td>31.67</td>\n",
       "      <td>33.2</td>\n",
       "      <td>29.4</td>\n",
       "      <td>18.92</td>\n",
       "      <td>140.53</td>\n",
       "      <td>896.1</td>\n",
       "      <td>299.4</td>\n",
       "      <td>5.13</td>\n",
       "      <td>23.93</td>\n",
       "      <td>2845.3</td>\n",
       "      <td>2824.2</td>\n",
       "      <td>18.521</td>\n",
       "      <td>31.83</td>\n",
       "    </tr>\n",
       "  </tbody>\n",
       "</table>\n",
       "</div>"
      ],
      "text/plain": [
       "        DATE   FFR  Tbill  Tb1yr    r5   r10  PPINSA  Finished   CPI  CPICORE  \\\n",
       "0 1960-01-01  3.93   3.87   4.57  4.64  4.49   31.67      33.2  29.4    18.92   \n",
       "\n",
       "    M1NSA   M2SA  M2NSA  Unemp  IndProd    RGDP  Potent  Deflator   Curr  \n",
       "0  140.53  896.1  299.4   5.13    23.93  2845.3  2824.2    18.521  31.83  "
      ]
     },
     "execution_count": 11,
     "metadata": {},
     "output_type": "execute_result"
    }
   ],
   "source": [
    "df.head(1)"
   ]
  },
  {
   "cell_type": "markdown",
   "id": "fac9d4bc",
   "metadata": {},
   "source": [
    "We will make sure that the dataset is not missing information from any quarter:"
   ]
  },
  {
   "cell_type": "code",
   "execution_count": 12,
   "id": "cf564081",
   "metadata": {},
   "outputs": [
    {
     "data": {
      "text/plain": [
       "0"
      ]
     },
     "execution_count": 12,
     "metadata": {},
     "output_type": "execute_result"
    }
   ],
   "source": [
    "first_date = df.DATE[0]\n",
    "last_date = df.DATE[df.shape[0] - 1]\n",
    "qs = pd.date_range(start=first_date, end=last_date, freq='QS')\n",
    "len(qs.difference(df.DATE))"
   ]
  },
  {
   "cell_type": "markdown",
   "id": "a32626f5",
   "metadata": {},
   "source": [
    "With this result we have shown that there is no value missing for any quarter."
   ]
  },
  {
   "cell_type": "markdown",
   "id": "e2979897",
   "metadata": {},
   "source": [
    "### 2. Calculer inf, le taux d’inflation à partir de la variable CPI. Faire un graphique dans le temps de inf. Commentez."
   ]
  },
  {
   "cell_type": "markdown",
   "id": "0e655210",
   "metadata": {},
   "source": [
    "The formula for computing inflation given the CPI can be written as:\n",
    "\n",
    "$$inf = 100 * \\frac{CPI_{final} - CPI_{initial}}{CPI_{initial}}$$"
   ]
  },
  {
   "cell_type": "code",
   "execution_count": 13,
   "id": "bc28e8f8",
   "metadata": {},
   "outputs": [],
   "source": [
    "# Create a new column to get the CPI from the previous quarter\n",
    "df[\"prev_CPI\"] = df.CPI.shift(1)"
   ]
  },
  {
   "cell_type": "code",
   "execution_count": 14,
   "id": "d4dd2c89",
   "metadata": {},
   "outputs": [
    {
     "data": {
      "text/html": [
       "<div>\n",
       "<style scoped>\n",
       "    .dataframe tbody tr th:only-of-type {\n",
       "        vertical-align: middle;\n",
       "    }\n",
       "\n",
       "    .dataframe tbody tr th {\n",
       "        vertical-align: top;\n",
       "    }\n",
       "\n",
       "    .dataframe thead th {\n",
       "        text-align: right;\n",
       "    }\n",
       "</style>\n",
       "<table border=\"1\" class=\"dataframe\">\n",
       "  <thead>\n",
       "    <tr style=\"text-align: right;\">\n",
       "      <th></th>\n",
       "      <th>DATE</th>\n",
       "      <th>FFR</th>\n",
       "      <th>Tbill</th>\n",
       "      <th>Tb1yr</th>\n",
       "      <th>r5</th>\n",
       "      <th>r10</th>\n",
       "      <th>PPINSA</th>\n",
       "      <th>Finished</th>\n",
       "      <th>CPI</th>\n",
       "      <th>CPICORE</th>\n",
       "      <th>M1NSA</th>\n",
       "      <th>M2SA</th>\n",
       "      <th>M2NSA</th>\n",
       "      <th>Unemp</th>\n",
       "      <th>IndProd</th>\n",
       "      <th>RGDP</th>\n",
       "      <th>Potent</th>\n",
       "      <th>Deflator</th>\n",
       "      <th>Curr</th>\n",
       "      <th>prev_CPI</th>\n",
       "    </tr>\n",
       "  </thead>\n",
       "  <tbody>\n",
       "    <tr>\n",
       "      <th>0</th>\n",
       "      <td>1960-01-01</td>\n",
       "      <td>3.93</td>\n",
       "      <td>3.87</td>\n",
       "      <td>4.57</td>\n",
       "      <td>4.64</td>\n",
       "      <td>4.49</td>\n",
       "      <td>31.67</td>\n",
       "      <td>33.20</td>\n",
       "      <td>29.40</td>\n",
       "      <td>18.92</td>\n",
       "      <td>140.53</td>\n",
       "      <td>896.1</td>\n",
       "      <td>299.40</td>\n",
       "      <td>5.13</td>\n",
       "      <td>23.93</td>\n",
       "      <td>2845.3</td>\n",
       "      <td>2824.2</td>\n",
       "      <td>18.521</td>\n",
       "      <td>31.830</td>\n",
       "      <td>NaN</td>\n",
       "    </tr>\n",
       "    <tr>\n",
       "      <th>1</th>\n",
       "      <td>1960-04-01</td>\n",
       "      <td>3.70</td>\n",
       "      <td>2.99</td>\n",
       "      <td>3.87</td>\n",
       "      <td>4.30</td>\n",
       "      <td>4.26</td>\n",
       "      <td>31.73</td>\n",
       "      <td>33.40</td>\n",
       "      <td>29.57</td>\n",
       "      <td>19.00</td>\n",
       "      <td>138.40</td>\n",
       "      <td>903.3</td>\n",
       "      <td>300.03</td>\n",
       "      <td>5.23</td>\n",
       "      <td>23.41</td>\n",
       "      <td>2832.0</td>\n",
       "      <td>2851.2</td>\n",
       "      <td>18.579</td>\n",
       "      <td>31.862</td>\n",
       "      <td>29.40</td>\n",
       "    </tr>\n",
       "    <tr>\n",
       "      <th>2</th>\n",
       "      <td>1960-07-01</td>\n",
       "      <td>2.94</td>\n",
       "      <td>2.36</td>\n",
       "      <td>3.07</td>\n",
       "      <td>3.67</td>\n",
       "      <td>3.83</td>\n",
       "      <td>31.63</td>\n",
       "      <td>33.43</td>\n",
       "      <td>29.59</td>\n",
       "      <td>19.07</td>\n",
       "      <td>139.60</td>\n",
       "      <td>919.4</td>\n",
       "      <td>305.50</td>\n",
       "      <td>5.53</td>\n",
       "      <td>23.02</td>\n",
       "      <td>2836.6</td>\n",
       "      <td>2878.7</td>\n",
       "      <td>18.648</td>\n",
       "      <td>32.217</td>\n",
       "      <td>29.57</td>\n",
       "    </tr>\n",
       "  </tbody>\n",
       "</table>\n",
       "</div>"
      ],
      "text/plain": [
       "        DATE   FFR  Tbill  Tb1yr    r5   r10  PPINSA  Finished    CPI  \\\n",
       "0 1960-01-01  3.93   3.87   4.57  4.64  4.49   31.67     33.20  29.40   \n",
       "1 1960-04-01  3.70   2.99   3.87  4.30  4.26   31.73     33.40  29.57   \n",
       "2 1960-07-01  2.94   2.36   3.07  3.67  3.83   31.63     33.43  29.59   \n",
       "\n",
       "   CPICORE   M1NSA   M2SA   M2NSA  Unemp  IndProd    RGDP  Potent  Deflator  \\\n",
       "0    18.92  140.53  896.1  299.40   5.13    23.93  2845.3  2824.2    18.521   \n",
       "1    19.00  138.40  903.3  300.03   5.23    23.41  2832.0  2851.2    18.579   \n",
       "2    19.07  139.60  919.4  305.50   5.53    23.02  2836.6  2878.7    18.648   \n",
       "\n",
       "     Curr  prev_CPI  \n",
       "0  31.830       NaN  \n",
       "1  31.862     29.40  \n",
       "2  32.217     29.57  "
      ]
     },
     "execution_count": 14,
     "metadata": {},
     "output_type": "execute_result"
    }
   ],
   "source": [
    "df.head(3)"
   ]
  },
  {
   "cell_type": "code",
   "execution_count": 15,
   "id": "b40bbfd6",
   "metadata": {},
   "outputs": [],
   "source": [
    "df[\"inf\"] = 100 * ((df.CPI - df.prev_CPI) / df.prev_CPI)"
   ]
  },
  {
   "cell_type": "code",
   "execution_count": 16,
   "id": "b2179e61",
   "metadata": {
    "scrolled": true
   },
   "outputs": [
    {
     "data": {
      "image/png": "[encoded data removed]",
      "text/plain": [
       "<Figure size 640x480 with 1 Axes>"
      ]
     },
     "metadata": {},
     "output_type": "display_data"
    }
   ],
   "source": [
    "inf = df.inf.to_numpy()[1:]\n",
    "\n",
    "plt.plot(df.DATE[1:], inf)\n",
    "plt.title('Inflation by quarter (1960-2012)', fontsize=12)\n",
    "plt.xlabel('Time quarter')\n",
    "plt.ylabel('Inflation [%]')\n",
    "plt.xlim(df.DATE[1], last_date)\n",
    "plt.grid()\n",
    "plt.show()"
   ]
  },
  {
   "cell_type": "code",
   "execution_count": 17,
   "id": "9ae5b12b",
   "metadata": {},
   "outputs": [
    {
     "data": {
      "text/plain": [
       "-2.2891346065978335"
      ]
     },
     "execution_count": 17,
     "metadata": {},
     "output_type": "execute_result"
    }
   ],
   "source": [
    "df.inf.min()"
   ]
  },
  {
   "cell_type": "code",
   "execution_count": 18,
   "id": "cb60ec6a",
   "metadata": {
    "scrolled": true
   },
   "outputs": [
    {
     "data": {
      "text/plain": [
       "count    211.000000\n",
       "mean       0.985290\n",
       "std        0.774504\n",
       "min       -2.289135\n",
       "25%        0.541995\n",
       "50%        0.857677\n",
       "75%        1.221306\n",
       "max        3.945811\n",
       "Name: inf, dtype: float64"
      ]
     },
     "execution_count": 18,
     "metadata": {},
     "output_type": "execute_result"
    }
   ],
   "source": [
    "df.inf.describe()"
   ]
  },
  {
   "cell_type": "code",
   "execution_count": 19,
   "id": "7b818208",
   "metadata": {},
   "outputs": [
    {
     "name": "stdout",
     "output_type": "stream",
     "text": [
      "Minimum inflation date: 2008-10-01\n",
      "Maximum inflation date: 1980-01-01\n"
     ]
    }
   ],
   "source": [
    "min_inf_date = pd.Timestamp(df[df.inf == df.inf.min()].DATE.values[0]).date()\n",
    "max_inf_date = pd.Timestamp(df[df.inf == df.inf.max()].DATE.values[0]).date()\n",
    "print(f\"Minimum inflation date: {min_inf_date}\")\n",
    "print(f\"Maximum inflation date: {max_inf_date}\")"
   ]
  },
  {
   "cell_type": "markdown",
   "id": "6a0fcb47",
   "metadata": {},
   "source": [
    "\n",
    "We can observe a general tendency where the inflation is always around 1% by quarter. However, between 1970 and 1980 we find some **peaks of growth**, reaching a **maximum value of almost 4%** by quarter in **1980**. After some research, we may conclude that this was mainly due to oil crisis. Then, we find the **minimum peak in 2008**, probably due to the [collapse of Lehman Brothers](https://www.investopedia.com/articles/economics/09/lehman-brothers-collapse.asp#:~:text=Lehman%20Brothers%20filed%20for%20bankruptcy,the%20financial%20and%20investment%20world.)."
   ]
  },
  {
   "cell_type": "markdown",
   "id": "67f45bd4",
   "metadata": {},
   "source": [
    "### 3. Interpréter l'autocorrélogramme et l'autocorrélogrammes partiels de inf. Quelle est la différence entre ces deux graphiques ?"
   ]
  },
  {
   "cell_type": "markdown",
   "id": "c97ccde7",
   "metadata": {},
   "source": [
    "The autocorrelogram for `inf` by definition is, given a `lag k`, the autocorrelation between the values of the series that are `k` intervals away.\n",
    "\n",
    "*Observation: value for lag `k = 0` will always be `1`!*"
   ]
  },
  {
   "cell_type": "code",
   "execution_count": 20,
   "id": "3c61a0d2",
   "metadata": {
    "scrolled": true
   },
   "outputs": [
    {
     "data": {
      "image/png": "[encoded data removed]",
      "text/plain": [
       "<Figure size 640x480 with 1 Axes>"
      ]
     },
     "metadata": {},
     "output_type": "display_data"
    }
   ],
   "source": [
    "plot_acf(inf)\n",
    "plt.title('Autocorrelogram for inflation by quarter (1960-2012)', fontsize=12)\n",
    "plt.xlabel('Time quarter')\n",
    "plt.ylabel('Autocorrelation')\n",
    "plt.ylim(-1.1, 1.1)\n",
    "plt.grid()\n",
    "plt.show()"
   ]
  },
  {
   "cell_type": "markdown",
   "id": "c2fe8c20",
   "metadata": {},
   "source": [
    "The values outside the blue region have a high statistical confidence (above 95%). We see that there is a high correlation for every value outside this region, in particular, for lag until `k=6` we find that the correlation is higher that 0.5."
   ]
  },
  {
   "cell_type": "markdown",
   "id": "d6bd03b6",
   "metadata": {},
   "source": [
    "Now we are interested in the partial autocorrelagram, that is the same as the autocorrelagram, but taking into account the values for intermediate intervals. This method allows us to mitigate the effects of the observations between `t` and `t - k` (`lag k`), removing indirect correlations included in the autocorrelogram.\n",
    "\n",
    "*Observation: we can expect, by definition, that for lag `k = 0` and `k = 1`, values will be the same that the ones seen in the previous graphic.*"
   ]
  },
  {
   "cell_type": "code",
   "execution_count": 22,
   "id": "eed787ee",
   "metadata": {
    "scrolled": true
   },
   "outputs": [
    {
     "data": {
      "image/png": "[encoded data removed]",
      "text/plain": [
       "<Figure size 640x480 with 1 Axes>"
      ]
     },
     "metadata": {},
     "output_type": "display_data"
    }
   ],
   "source": [
    "plot_pacf(inf)\n",
    "plt.title('Partial autocorrelogram for inflation by quarter (1960-2012)', fontsize=12)\n",
    "plt.xlabel('Lag')\n",
    "plt.ylabel('Autocorrelation')\n",
    "plt.ylim(-1.1, 1.1)\n",
    "plt.grid()\n",
    "plt.show()"
   ]
  },
  {
   "cell_type": "markdown",
   "id": "52e023e9",
   "metadata": {},
   "source": [
    "By definition, for any Autoregressive model of order `k`, the partial autocorrelations are 0 for every lag beyond `k`. Given that, in our case, we have values until `k = 3` that are non-zero and outside the blue region (confidence over 95%), we can estimate that inflation can be predicted with a model of order `k = 3`."
   ]
  },
  {
   "cell_type": "markdown",
   "id": "89d0a7c1",
   "metadata": {},
   "source": [
    "### 4. Quelle est la différence entre la stationnarité et l'ergodicité ? Pourquoi a-t-on besoin de ces deux conditions. "
   ]
  },
  {
   "cell_type": "markdown",
   "id": "7a07260b",
   "metadata": {},
   "source": [
    "In the context of stationary series, we have:\n",
    "\n",
    "* A **stationary time series** if its properties do not depend on the time at which the series is observed. Future and past are similar.\n",
    "* A **ergodicity time series** if its statistics can be deduced from any (large enough) random sample given from the process, meaning that they do not depend on the initial conditions.\n",
    "\n",
    "We need these conditions to be true, since they are the **basic assumptions needed** to perform time series analysis. They are also needed to apply the *ergodic theorem*, which allows us to estimate the expectation of the process given the average of a sufficiently large sample."
   ]
  },
  {
   "cell_type": "markdown",
   "id": "cef5934c",
   "metadata": {},
   "source": [
    "### 5. Proposer une modélisation AR(p) de inf, en utilisant tous les outils vus au cours."
   ]
  },
  {
   "cell_type": "markdown",
   "id": "19bd3419",
   "metadata": {},
   "source": [
    "We are building an Auto Regression model for inf, and we want to discover which is the order that maximizes likelihood. From question 3, we are expecting a value of 3 to be the optimal order. However, we are using [`ar_select_order`](https://www.statsmodels.org/devel/generated/statsmodels.tsa.ar_model.ar_select_order.html) from `statsmodel` API for Time Series to check the optimal lag value:"
   ]
  },
  {
   "cell_type": "code",
   "execution_count": 23,
   "id": "d6971022",
   "metadata": {},
   "outputs": [
    {
     "data": {
      "text/plain": [
       "[1, 3]"
      ]
     },
     "execution_count": 23,
     "metadata": {},
     "output_type": "execute_result"
    }
   ],
   "source": [
    "model = ARSelectOrder(inf, maxlag=10, glob=True)\n",
    "model.ar_lags"
   ]
  },
  {
   "cell_type": "code",
   "execution_count": 24,
   "id": "dd94fa20",
   "metadata": {},
   "outputs": [
    {
     "name": "stdout",
     "output_type": "stream",
     "text": [
      "                            AutoReg Model Results                             \n",
      "==============================================================================\n",
      "Dep. Variable:                      y   No. Observations:                  211\n",
      "Model:              Restr. AutoReg(3)   Log Likelihood                -138.549\n",
      "Method:               Conditional MLE   S.D. of innovations              0.471\n",
      "Date:                Sun, 27 Nov 2022   AIC                            285.099\n",
      "Time:                        19:28:15   BIC                            298.449\n",
      "Sample:                             3   HQIC                           290.497\n",
      "                                  211                                         \n",
      "==============================================================================\n",
      "                 coef    std err          z      P>|z|      [0.025      0.975]\n",
      "------------------------------------------------------------------------------\n",
      "const          0.1352      0.056      2.394      0.017       0.025       0.246\n",
      "y.L1           0.5742      0.056     10.321      0.000       0.465       0.683\n",
      "y.L3           0.2894      0.056      5.207      0.000       0.180       0.398\n",
      "                                    Roots                                    \n",
      "=============================================================================\n",
      "                  Real          Imaginary           Modulus         Frequency\n",
      "-----------------------------------------------------------------------------\n",
      "AR.1            1.0896           -0.0000j            1.0896           -0.0000\n",
      "AR.2           -0.5448           -1.6955j            1.7808           -0.2995\n",
      "AR.3           -0.5448           +1.6955j            1.7808            0.2995\n",
      "-----------------------------------------------------------------------------\n"
     ]
    }
   ],
   "source": [
    "print(model.model.fit().summary())"
   ]
  },
  {
   "cell_type": "markdown",
   "id": "c90d068e",
   "metadata": {},
   "source": [
    "### 6. Estimer le modèle de la courbe de Philips qui explique le taux de chômage (Unemp) en fonction du taux d’inflation courant et une constante."
   ]
  },
  {
   "cell_type": "code",
   "execution_count": 25,
   "id": "376cff5f",
   "metadata": {},
   "outputs": [
    {
     "data": {
      "text/html": [
       "<div>\n",
       "<style scoped>\n",
       "    .dataframe tbody tr th:only-of-type {\n",
       "        vertical-align: middle;\n",
       "    }\n",
       "\n",
       "    .dataframe tbody tr th {\n",
       "        vertical-align: top;\n",
       "    }\n",
       "\n",
       "    .dataframe thead th {\n",
       "        text-align: right;\n",
       "    }\n",
       "</style>\n",
       "<table border=\"1\" class=\"dataframe\">\n",
       "  <thead>\n",
       "    <tr style=\"text-align: right;\">\n",
       "      <th></th>\n",
       "      <th>DATE</th>\n",
       "      <th>FFR</th>\n",
       "      <th>Tbill</th>\n",
       "      <th>Tb1yr</th>\n",
       "      <th>r5</th>\n",
       "      <th>r10</th>\n",
       "      <th>PPINSA</th>\n",
       "      <th>Finished</th>\n",
       "      <th>CPI</th>\n",
       "      <th>CPICORE</th>\n",
       "      <th>...</th>\n",
       "      <th>M2SA</th>\n",
       "      <th>M2NSA</th>\n",
       "      <th>Unemp</th>\n",
       "      <th>IndProd</th>\n",
       "      <th>RGDP</th>\n",
       "      <th>Potent</th>\n",
       "      <th>Deflator</th>\n",
       "      <th>Curr</th>\n",
       "      <th>prev_CPI</th>\n",
       "      <th>inf</th>\n",
       "    </tr>\n",
       "  </thead>\n",
       "  <tbody>\n",
       "    <tr>\n",
       "      <th>0</th>\n",
       "      <td>1960-01-01</td>\n",
       "      <td>3.93</td>\n",
       "      <td>3.87</td>\n",
       "      <td>4.57</td>\n",
       "      <td>4.64</td>\n",
       "      <td>4.49</td>\n",
       "      <td>31.67</td>\n",
       "      <td>33.20</td>\n",
       "      <td>29.40</td>\n",
       "      <td>18.92</td>\n",
       "      <td>...</td>\n",
       "      <td>896.1</td>\n",
       "      <td>299.40</td>\n",
       "      <td>5.13</td>\n",
       "      <td>23.93</td>\n",
       "      <td>2845.3</td>\n",
       "      <td>2824.2</td>\n",
       "      <td>18.521</td>\n",
       "      <td>31.830</td>\n",
       "      <td>NaN</td>\n",
       "      <td>NaN</td>\n",
       "    </tr>\n",
       "    <tr>\n",
       "      <th>1</th>\n",
       "      <td>1960-04-01</td>\n",
       "      <td>3.70</td>\n",
       "      <td>2.99</td>\n",
       "      <td>3.87</td>\n",
       "      <td>4.30</td>\n",
       "      <td>4.26</td>\n",
       "      <td>31.73</td>\n",
       "      <td>33.40</td>\n",
       "      <td>29.57</td>\n",
       "      <td>19.00</td>\n",
       "      <td>...</td>\n",
       "      <td>903.3</td>\n",
       "      <td>300.03</td>\n",
       "      <td>5.23</td>\n",
       "      <td>23.41</td>\n",
       "      <td>2832.0</td>\n",
       "      <td>2851.2</td>\n",
       "      <td>18.579</td>\n",
       "      <td>31.862</td>\n",
       "      <td>29.40</td>\n",
       "      <td>0.578231</td>\n",
       "    </tr>\n",
       "    <tr>\n",
       "      <th>2</th>\n",
       "      <td>1960-07-01</td>\n",
       "      <td>2.94</td>\n",
       "      <td>2.36</td>\n",
       "      <td>3.07</td>\n",
       "      <td>3.67</td>\n",
       "      <td>3.83</td>\n",
       "      <td>31.63</td>\n",
       "      <td>33.43</td>\n",
       "      <td>29.59</td>\n",
       "      <td>19.07</td>\n",
       "      <td>...</td>\n",
       "      <td>919.4</td>\n",
       "      <td>305.50</td>\n",
       "      <td>5.53</td>\n",
       "      <td>23.02</td>\n",
       "      <td>2836.6</td>\n",
       "      <td>2878.7</td>\n",
       "      <td>18.648</td>\n",
       "      <td>32.217</td>\n",
       "      <td>29.57</td>\n",
       "      <td>0.067636</td>\n",
       "    </tr>\n",
       "    <tr>\n",
       "      <th>3</th>\n",
       "      <td>1960-10-01</td>\n",
       "      <td>2.30</td>\n",
       "      <td>2.31</td>\n",
       "      <td>2.99</td>\n",
       "      <td>3.75</td>\n",
       "      <td>3.89</td>\n",
       "      <td>31.70</td>\n",
       "      <td>33.67</td>\n",
       "      <td>29.78</td>\n",
       "      <td>19.14</td>\n",
       "      <td>...</td>\n",
       "      <td>932.8</td>\n",
       "      <td>312.30</td>\n",
       "      <td>6.27</td>\n",
       "      <td>22.47</td>\n",
       "      <td>2800.2</td>\n",
       "      <td>2906.7</td>\n",
       "      <td>18.700</td>\n",
       "      <td>32.624</td>\n",
       "      <td>29.59</td>\n",
       "      <td>0.642109</td>\n",
       "    </tr>\n",
       "    <tr>\n",
       "      <th>4</th>\n",
       "      <td>1961-01-01</td>\n",
       "      <td>2.00</td>\n",
       "      <td>2.35</td>\n",
       "      <td>2.87</td>\n",
       "      <td>3.64</td>\n",
       "      <td>3.79</td>\n",
       "      <td>31.80</td>\n",
       "      <td>33.63</td>\n",
       "      <td>29.84</td>\n",
       "      <td>19.17</td>\n",
       "      <td>...</td>\n",
       "      <td>948.9</td>\n",
       "      <td>317.10</td>\n",
       "      <td>6.80</td>\n",
       "      <td>22.13</td>\n",
       "      <td>2816.9</td>\n",
       "      <td>2934.8</td>\n",
       "      <td>18.743</td>\n",
       "      <td>32.073</td>\n",
       "      <td>29.78</td>\n",
       "      <td>0.201478</td>\n",
       "    </tr>\n",
       "  </tbody>\n",
       "</table>\n",
       "<p>5 rows × 21 columns</p>\n",
       "</div>"
      ],
      "text/plain": [
       "        DATE   FFR  Tbill  Tb1yr    r5   r10  PPINSA  Finished    CPI  \\\n",
       "0 1960-01-01  3.93   3.87   4.57  4.64  4.49   31.67     33.20  29.40   \n",
       "1 1960-04-01  3.70   2.99   3.87  4.30  4.26   31.73     33.40  29.57   \n",
       "2 1960-07-01  2.94   2.36   3.07  3.67  3.83   31.63     33.43  29.59   \n",
       "3 1960-10-01  2.30   2.31   2.99  3.75  3.89   31.70     33.67  29.78   \n",
       "4 1961-01-01  2.00   2.35   2.87  3.64  3.79   31.80     33.63  29.84   \n",
       "\n",
       "   CPICORE  ...   M2SA   M2NSA  Unemp  IndProd    RGDP  Potent  Deflator  \\\n",
       "0    18.92  ...  896.1  299.40   5.13    23.93  2845.3  2824.2    18.521   \n",
       "1    19.00  ...  903.3  300.03   5.23    23.41  2832.0  2851.2    18.579   \n",
       "2    19.07  ...  919.4  305.50   5.53    23.02  2836.6  2878.7    18.648   \n",
       "3    19.14  ...  932.8  312.30   6.27    22.47  2800.2  2906.7    18.700   \n",
       "4    19.17  ...  948.9  317.10   6.80    22.13  2816.9  2934.8    18.743   \n",
       "\n",
       "     Curr  prev_CPI       inf  \n",
       "0  31.830       NaN       NaN  \n",
       "1  31.862     29.40  0.578231  \n",
       "2  32.217     29.57  0.067636  \n",
       "3  32.624     29.59  0.642109  \n",
       "4  32.073     29.78  0.201478  \n",
       "\n",
       "[5 rows x 21 columns]"
      ]
     },
     "execution_count": 25,
     "metadata": {},
     "output_type": "execute_result"
    }
   ],
   "source": [
    "df.head()"
   ]
  },
  {
   "cell_type": "markdown",
   "id": "ae71d652",
   "metadata": {},
   "source": [
    "We build a model as learned in the course:"
   ]
  },
  {
   "cell_type": "code",
   "execution_count": 32,
   "id": "21baa1e0",
   "metadata": {},
   "outputs": [
    {
     "data": {
      "text/plain": [
       "statsmodels.regression.linear_model.OLS"
      ]
     },
     "execution_count": 32,
     "metadata": {},
     "output_type": "execute_result"
    }
   ],
   "source": [
    "sm.OLS"
   ]
  },
  {
   "cell_type": "code",
   "execution_count": 26,
   "id": "c279c759",
   "metadata": {
    "scrolled": true
   },
   "outputs": [
    {
     "name": "stdout",
     "output_type": "stream",
     "text": [
      "                            OLS Regression Results                            \n",
      "==============================================================================\n",
      "Dep. Variable:                  Unemp   R-squared:                       0.000\n",
      "Model:                            OLS   Adj. R-squared:                 -0.005\n",
      "Method:                 Least Squares   F-statistic:                   0.01214\n",
      "Date:                Sun, 27 Nov 2022   Prob (F-statistic):              0.912\n",
      "Time:                        19:28:22   Log-Likelihood:                -400.28\n",
      "No. Observations:                 211   AIC:                             804.6\n",
      "Df Residuals:                     209   BIC:                             811.3\n",
      "Df Model:                           1                                         \n",
      "Covariance Type:            nonrobust                                         \n",
      "==============================================================================\n",
      "                 coef    std err          t      P>|t|      [0.025      0.975]\n",
      "------------------------------------------------------------------------------\n",
      "const          6.0708      0.181     33.576      0.000       5.714       6.427\n",
      "x1             0.0159      0.144      0.110      0.912      -0.269       0.301\n",
      "==============================================================================\n",
      "Omnibus:                       13.872   Durbin-Watson:                   0.044\n",
      "Prob(Omnibus):                  0.001   Jarque-Bera (JB):               15.356\n",
      "Skew:                           0.660   Prob(JB):                     0.000463\n",
      "Kurtosis:                       2.937   Cond. No.                         2.99\n",
      "==============================================================================\n",
      "\n",
      "Notes:\n",
      "[1] Standard Errors assume that the covariance matrix of the errors is correctly specified.\n"
     ]
    }
   ],
   "source": [
    "unemp = df.Unemp[1:]\n",
    "y = unemp\n",
    "const = np.ones(y.shape)\n",
    "X = np.column_stack((const, inf))\n",
    "\n",
    "results = sm.OLS(y, X).fit()\n",
    "print(results.summary())"
   ]
  },
  {
   "cell_type": "markdown",
   "id": "2197b409",
   "metadata": {},
   "source": [
    "The estimated model would be:\n",
    "$$Unemp = 6.0708 + 0.0159 Inf$$"
   ]
  },
  {
   "cell_type": "markdown",
   "id": "1abdf289",
   "metadata": {},
   "source": [
    "### 7. Tester l’autocorrélation des erreurs."
   ]
  },
  {
   "cell_type": "markdown",
   "id": "ca6ed061",
   "metadata": {},
   "source": [
    "We will first plot the residuals:"
   ]
  },
  {
   "cell_type": "code",
   "execution_count": 27,
   "id": "a2195170",
   "metadata": {},
   "outputs": [
    {
     "data": {
      "image/png": "[encoded data removed]",
      "text/plain": [
       "<Figure size 640x480 with 1 Axes>"
      ]
     },
     "metadata": {},
     "output_type": "display_data"
    }
   ],
   "source": [
    "res = results.resid\n",
    "plt.plot(res)\n",
    "plt.title('Residuals for Phillips Curve estimation')\n",
    "plt.show()"
   ]
  },
  {
   "cell_type": "markdown",
   "id": "bd30ec13",
   "metadata": {},
   "source": [
    "From the course results, we know that for a model `AR(1)`, residuals can be written as:\n",
    "$$u_t = \\rho u_{t - 1} + e_t $$\n",
    "\n",
    "Then, we can set our hypothesis:\n",
    "$$H_0 : { \\rho = 0 };\\quad H_1 : { \\rho \\neq 0 }$$\n",
    "\n",
    "We build then our model `AR(1)` for the residuals of the Phillips Curve estimation from previous question:"
   ]
  },
  {
   "cell_type": "code",
   "execution_count": 46,
   "id": "d6e90050",
   "metadata": {
    "scrolled": true
   },
   "outputs": [
    {
     "data": {
      "text/plain": [
       "const    0.600587\n",
       "y.L1     0.000000\n",
       "dtype: float64"
      ]
     },
     "execution_count": 46,
     "metadata": {},
     "output_type": "execute_result"
    }
   ],
   "source": [
    "res_model = AutoReg(res, lags=1)\n",
    "res_results = res_model.fit()\n",
    "res_results.pvalues"
   ]
  },
  {
   "cell_type": "markdown",
   "id": "9d973c2b",
   "metadata": {},
   "source": [
    "\n",
    "We observe that the p-value for $\\rho$ is approximately 0, so we reject the null hypothesis that errors are serially uncorrelated at 5%, to conclude that **they are autocorrelated**."
   ]
  },
  {
   "cell_type": "code",
   "execution_count": null,
   "id": "417a1d25",
   "metadata": {},
   "outputs": [],
   "source": []
  }
 ],
 "metadata": {
  "kernelspec": {
   "display_name": "Python 3 (ipykernel)",
   "language": "python",
   "name": "python3"
  },
  "language_info": {
   "codemirror_mode": {
    "name": "ipython",
    "version": 3
   },
   "file_extension": ".py",
   "mimetype": "text/x-python",
   "name": "python",
   "nbconvert_exporter": "python",
   "pygments_lexer": "ipython3",
   "version": "3.10.6"
  }
 },
 "nbformat": 4,
 "nbformat_minor": 5
}
