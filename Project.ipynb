{
 "cells": [
  {
   "cell_type": "markdown",
   "id": "84029922",
   "metadata": {},
   "source": [
    "<div style='background-color: #72b356; color: #ffffff; padding: 20px 40px; text-align: center;'>\n",
    "    <h1 style='font-size: 42px; padding: 0px; margin: 0px; margin-bottom: 5px;'>Project</h1>\n",
    "    <h2 style='font-size: 24px; padding: 0px; margin: 0px;'>MODS202 - Econometrics (S1-P1)</h2>\n",
    "    <h3 style='font-size: 12px;'>Mauro Parafati <span style=\"font-style: italic;\">(mauro.parafati at telecom-paris.fr)</span></h3>\n",
    "    <h3 style='font-size: 12px;'>Rodrigo Calzada <span style=\"font-style: italic;\">(rodrigo.calzada at telecom-paris.fr)</span></h3>\n",
    "</div>"
   ]
  },
  {
   "cell_type": "markdown",
   "id": "adb29d1b",
   "metadata": {},
   "source": [
    "<div style='background-color: #ffffff; color: #72b356; border: 5px solid #72b356; padding: 20px 40px;'>\n",
    "    <h1 style='font-size: 32px; padding: 0px; margin: 0px;'>Table of Contents</h1>\n",
    "</div>\n",
    "\n",
    "* [Setup](#Setup)\n",
    "* [Part 1: Regression](#Part-1)\n",
    "    * [Statement](./Part_1.pdf)\n",
    "    * Questions: [1.1](#Question-1.1), [1.2](#Question-1.2), [1.3](#Question-1.3), [1.4](#Question-1.4), [1.5](#Question-1.5), [1.6](#Question-1.6), [1.7](#Question-1.7), [1.8](#Question-1.8), [1.9](#Question-1.9), [1.10](#Question-1.10), [1.11](#Question-1.11), [1.12](#Question-1.12), [1.13](#Question-1.13), [1.14](#Question-1.14), [1.15](#Question-1.15), [1.16](#Question-1.16).\n",
    "* [Part 2: Time series](#Part-2)\n",
    "    * [Statement](./Part_2.pdf)\n",
    "    * Questions: [2.1](#Question-2.1), [2.2](#Question-2.2), [2.3](#Question-2.3), [2.4](#Question-2.4), [2.5](#Question-2.5), [2.6](#Question-2.6), [2.7](#Question-2.7), [2.8](#Question-2.8), [2.9](#Question-2.9), [2.10](#Question-2.10), [2.11](#Question-2.11)."
   ]
  },
  {
   "cell_type": "markdown",
   "id": "985d4e0f",
   "metadata": {},
   "source": [
    "<div style='background-color: #ffffff; color: #3b3b3b; border: 5px solid #3b3b3b; padding: 20px 40px;'>\n",
    "    <h1 style='font-size: 32px; padding: 0px; margin: 0px;'>Setup</h1>\n",
    "</div>"
   ]
  },
  {
   "cell_type": "markdown",
   "id": "1e2d32dd",
   "metadata": {},
   "source": [
    "<h3 style='color: #3b3b3b;'>Imports</h3>"
   ]
  },
  {
   "cell_type": "code",
   "execution_count": 237,
   "id": "2611faad",
   "metadata": {},
   "outputs": [],
   "source": [
    "import numpy as np\n",
    "import pandas as pd\n",
    "import matplotlib.pyplot as plt\n",
    "import statsmodels.api as sm\n",
    "from statsmodels.graphics.tsaplots import plot_acf, plot_pacf \n",
    "from statsmodels.tsa.ar_model import ar_select_order as ARSelectOrder\n",
    "from statsmodels.tsa.api import AutoReg\n",
    "from statsmodels.stats.outliers_influence import variance_inflation_factor\n",
    "from scipy.stats import t, f"
   ]
  },
  {
   "cell_type": "markdown",
   "id": "f2a04531",
   "metadata": {},
   "source": [
    "<h3 style='color: #3b3b3b;'>Libraries</h3>"
   ]
  },
  {
   "cell_type": "code",
   "execution_count": 116,
   "id": "cfc1915b",
   "metadata": {
    "scrolled": true
   },
   "outputs": [
    {
     "name": "stdout",
     "output_type": "stream",
     "text": [
      "Defaulting to user installation because normal site-packages is not writeable\n",
      "Requirement already satisfied: xlrd in /home/mparafati/.local/lib/python3.10/site-packages (2.0.1)\n",
      "\n",
      "\u001b[1m[\u001b[0m\u001b[34;49mnotice\u001b[0m\u001b[1;39;49m]\u001b[0m\u001b[39;49m A new release of pip available: \u001b[0m\u001b[31;49m22.2.2\u001b[0m\u001b[39;49m -> \u001b[0m\u001b[32;49m22.3.1\u001b[0m\n",
      "\u001b[1m[\u001b[0m\u001b[34;49mnotice\u001b[0m\u001b[1;39;49m]\u001b[0m\u001b[39;49m To update, run: \u001b[0m\u001b[32;49mpython3 -m pip install --upgrade pip\u001b[0m\n"
     ]
    }
   ],
   "source": [
    "!pip install xlrd"
   ]
  },
  {
   "cell_type": "markdown",
   "id": "8ddd4ca0",
   "metadata": {},
   "source": [
    "<h3 style='color: #3b3b3b;'>Constants</h3>"
   ]
  },
  {
   "cell_type": "code",
   "execution_count": 117,
   "id": "4689061e",
   "metadata": {},
   "outputs": [],
   "source": [
    "FILEPATH_1 = 'MROZ.txt'\n",
    "FILEPATH_2 = 'quarterly.xls'"
   ]
  },
  {
   "cell_type": "markdown",
   "id": "7fe39e90",
   "metadata": {},
   "source": [
    "<div style='background-color: #ffffff; color: #026be3; border: 5px solid #026be3; padding: 20px 40px;'>\n",
    "    <h1 style='font-size: 32px; padding: 0px; margin: 0px; margin-bottom: 5px;'>Part 1</h1>\n",
    "    <h2 style='font-size: 20px; padding: 0px; margin: 0px; font-style: italic;'>Regression</h2>\n",
    "</div>\n",
    "\n",
    "*[Click here](./Part_1.pdf) to open the statement provided by the teacher*"
   ]
  },
  {
   "cell_type": "markdown",
   "id": "e061e838",
   "metadata": {},
   "source": [
    "<h3 style='color: #026be3;'>Question 1.1</h3>\n",
    "<h4 style='color: #026be3;'>Lire le fichier mroz.txt. Ne sélectionner que les observations pour lesquelles la variable wage est strictement positive.</h4>"
   ]
  },
  {
   "cell_type": "code",
   "execution_count": 118,
   "id": "f56878df",
   "metadata": {},
   "outputs": [],
   "source": [
    "raw_data = pd.read_csv(FILEPATH_1, delim_whitespace=True, header=None)"
   ]
  },
  {
   "cell_type": "code",
   "execution_count": 119,
   "id": "17957037",
   "metadata": {},
   "outputs": [
    {
     "data": {
      "text/plain": [
       "0      3.3540\n",
       "1      1.3889\n",
       "2      4.5455\n",
       "3      1.0965\n",
       "4      4.5918\n",
       "        ...  \n",
       "423    2.3118\n",
       "424    5.3061\n",
       "425    5.8675\n",
       "426    3.4091\n",
       "427    4.0816\n",
       "Name: 6, Length: 428, dtype: float64"
      ]
     },
     "execution_count": 119,
     "metadata": {},
     "output_type": "execute_result"
    }
   ],
   "source": [
    "# Variable wage = column 6\n",
    "data = raw_data.loc[raw_data[6] != '.']\n",
    "data = data.astype({6:'float'})\n",
    "data = data.loc[data[6] > 0]\n",
    "data[6]"
   ]
  },
  {
   "cell_type": "markdown",
   "id": "ec30a022",
   "metadata": {},
   "source": [
    "<h3 style='color: #026be3;'>Question 1.2</h3>\n",
    "<h4 style='color: #026be3;'>Faire les statistiques descriptives du salaire, de l’age et de l’éducation pour l’ensemble des femmes puis, pour les femmes dont le salaire du mari est supérieure à la médiane de l’échantillon, puis pour les femmes dont le salaire du mari est inférieur à la médiane de l’échantillon.</h4>"
   ]
  },
  {
   "cell_type": "code",
   "execution_count": 120,
   "id": "7a244da5",
   "metadata": {},
   "outputs": [],
   "source": [
    "# Wage = Column 6\n",
    "# Age = Column 4\n",
    "# Education = Column 5"
   ]
  },
  {
   "cell_type": "markdown",
   "id": "de97fbdd",
   "metadata": {},
   "source": [
    "### All women"
   ]
  },
  {
   "cell_type": "code",
   "execution_count": 121,
   "id": "f5caddab",
   "metadata": {},
   "outputs": [
    {
     "data": {
      "text/plain": [
       "count    428.000000\n",
       "mean       4.177682\n",
       "std        3.310282\n",
       "min        0.128200\n",
       "25%        2.262600\n",
       "50%        3.481900\n",
       "75%        4.970750\n",
       "max       25.000000\n",
       "Name: 6, dtype: float64"
      ]
     },
     "execution_count": 121,
     "metadata": {},
     "output_type": "execute_result"
    }
   ],
   "source": [
    "# Wage\n",
    "data[6].describe()"
   ]
  },
  {
   "cell_type": "code",
   "execution_count": 122,
   "id": "aee602fb",
   "metadata": {},
   "outputs": [
    {
     "data": {
      "text/plain": [
       "count    428.000000\n",
       "mean      41.971963\n",
       "std        7.721084\n",
       "min       30.000000\n",
       "25%       35.000000\n",
       "50%       42.000000\n",
       "75%       47.250000\n",
       "max       60.000000\n",
       "Name: 4, dtype: float64"
      ]
     },
     "execution_count": 122,
     "metadata": {},
     "output_type": "execute_result"
    }
   ],
   "source": [
    "# Age\n",
    "data[4].describe()"
   ]
  },
  {
   "cell_type": "code",
   "execution_count": 123,
   "id": "963e9ec7",
   "metadata": {},
   "outputs": [
    {
     "data": {
      "text/plain": [
       "count    428.000000\n",
       "mean      12.658879\n",
       "std        2.285376\n",
       "min        5.000000\n",
       "25%       12.000000\n",
       "50%       12.000000\n",
       "75%       14.000000\n",
       "max       17.000000\n",
       "Name: 5, dtype: float64"
      ]
     },
     "execution_count": 123,
     "metadata": {},
     "output_type": "execute_result"
    }
   ],
   "source": [
    "# Education\n",
    "data[5].describe()"
   ]
  },
  {
   "cell_type": "markdown",
   "id": "2465fb5e",
   "metadata": {},
   "source": [
    "### Women whose husband has a higher wage than the median"
   ]
  },
  {
   "cell_type": "code",
   "execution_count": 124,
   "id": "d08f3177",
   "metadata": {},
   "outputs": [],
   "source": [
    "# Men wages = Column 11\n",
    "husb_higher_med = data.loc[data[5] > data[5].median()]\n",
    "# husb_higher_med[]"
   ]
  },
  {
   "cell_type": "code",
   "execution_count": 125,
   "id": "2ef89feb",
   "metadata": {},
   "outputs": [
    {
     "data": {
      "text/plain": [
       "count    144.000000\n",
       "mean       5.349451\n",
       "std        3.547190\n",
       "min        0.170900\n",
       "25%        2.960850\n",
       "50%        4.660750\n",
       "75%        7.035675\n",
       "max       22.500000\n",
       "Name: 6, dtype: float64"
      ]
     },
     "execution_count": 125,
     "metadata": {},
     "output_type": "execute_result"
    }
   ],
   "source": [
    "# Wage\n",
    "husb_higher_med[6].describe()"
   ]
  },
  {
   "cell_type": "code",
   "execution_count": 126,
   "id": "3430a5c2",
   "metadata": {},
   "outputs": [
    {
     "data": {
      "text/plain": [
       "count    144.000000\n",
       "mean      41.930556\n",
       "std        8.060655\n",
       "min       30.000000\n",
       "25%       35.000000\n",
       "50%       42.500000\n",
       "75%       47.000000\n",
       "max       60.000000\n",
       "Name: 4, dtype: float64"
      ]
     },
     "execution_count": 126,
     "metadata": {},
     "output_type": "execute_result"
    }
   ],
   "source": [
    "# Age\n",
    "husb_higher_med[4].describe()"
   ]
  },
  {
   "cell_type": "code",
   "execution_count": 127,
   "id": "64f18e66",
   "metadata": {},
   "outputs": [
    {
     "data": {
      "text/plain": [
       "count    144.000000\n",
       "mean      15.208333\n",
       "std        1.518534\n",
       "min       13.000000\n",
       "25%       14.000000\n",
       "50%       16.000000\n",
       "75%       17.000000\n",
       "max       17.000000\n",
       "Name: 5, dtype: float64"
      ]
     },
     "execution_count": 127,
     "metadata": {},
     "output_type": "execute_result"
    }
   ],
   "source": [
    "# Education\n",
    "husb_higher_med[5].describe()"
   ]
  },
  {
   "cell_type": "markdown",
   "id": "b43a4b09",
   "metadata": {},
   "source": [
    "### Women whose husband has a lower wage than the median"
   ]
  },
  {
   "cell_type": "code",
   "execution_count": 128,
   "id": "50c009c6",
   "metadata": {},
   "outputs": [
    {
     "data": {
      "text/html": [
       "<div>\n",
       "<style scoped>\n",
       "    .dataframe tbody tr th:only-of-type {\n",
       "        vertical-align: middle;\n",
       "    }\n",
       "\n",
       "    .dataframe tbody tr th {\n",
       "        vertical-align: top;\n",
       "    }\n",
       "\n",
       "    .dataframe thead th {\n",
       "        text-align: right;\n",
       "    }\n",
       "</style>\n",
       "<table border=\"1\" class=\"dataframe\">\n",
       "  <thead>\n",
       "    <tr style=\"text-align: right;\">\n",
       "      <th></th>\n",
       "      <th>0</th>\n",
       "      <th>1</th>\n",
       "      <th>2</th>\n",
       "      <th>3</th>\n",
       "      <th>4</th>\n",
       "      <th>5</th>\n",
       "      <th>6</th>\n",
       "      <th>7</th>\n",
       "      <th>8</th>\n",
       "      <th>9</th>\n",
       "      <th>...</th>\n",
       "      <th>12</th>\n",
       "      <th>13</th>\n",
       "      <th>14</th>\n",
       "      <th>15</th>\n",
       "      <th>16</th>\n",
       "      <th>17</th>\n",
       "      <th>18</th>\n",
       "      <th>19</th>\n",
       "      <th>20</th>\n",
       "      <th>21</th>\n",
       "    </tr>\n",
       "  </thead>\n",
       "  <tbody>\n",
       "    <tr>\n",
       "      <th>11</th>\n",
       "      <td>1</td>\n",
       "      <td>1960</td>\n",
       "      <td>0</td>\n",
       "      <td>1</td>\n",
       "      <td>42</td>\n",
       "      <td>11</td>\n",
       "      <td>4.5918</td>\n",
       "      <td>4.58</td>\n",
       "      <td>2375</td>\n",
       "      <td>47</td>\n",
       "      <td>...</td>\n",
       "      <td>28700</td>\n",
       "      <td>0.6215</td>\n",
       "      <td>14</td>\n",
       "      <td>7</td>\n",
       "      <td>5.0</td>\n",
       "      <td>0</td>\n",
       "      <td>14</td>\n",
       "      <td>19.70007</td>\n",
       "      <td>1.524272</td>\n",
       "      <td>196</td>\n",
       "    </tr>\n",
       "    <tr>\n",
       "      <th>14</th>\n",
       "      <td>1</td>\n",
       "      <td>1848</td>\n",
       "      <td>0</td>\n",
       "      <td>1</td>\n",
       "      <td>43</td>\n",
       "      <td>10</td>\n",
       "      <td>3.6797</td>\n",
       "      <td>3.38</td>\n",
       "      <td>2024</td>\n",
       "      <td>45</td>\n",
       "      <td>...</td>\n",
       "      <td>31431</td>\n",
       "      <td>0.5815</td>\n",
       "      <td>7</td>\n",
       "      <td>7</td>\n",
       "      <td>7.5</td>\n",
       "      <td>1</td>\n",
       "      <td>6</td>\n",
       "      <td>24.63091</td>\n",
       "      <td>1.302831</td>\n",
       "      <td>36</td>\n",
       "    </tr>\n",
       "    <tr>\n",
       "      <th>15</th>\n",
       "      <td>1</td>\n",
       "      <td>1224</td>\n",
       "      <td>0</td>\n",
       "      <td>3</td>\n",
       "      <td>35</td>\n",
       "      <td>11</td>\n",
       "      <td>1.3472</td>\n",
       "      <td>0.00</td>\n",
       "      <td>1694</td>\n",
       "      <td>38</td>\n",
       "      <td>...</td>\n",
       "      <td>19180</td>\n",
       "      <td>0.7215</td>\n",
       "      <td>16</td>\n",
       "      <td>10</td>\n",
       "      <td>7.5</td>\n",
       "      <td>1</td>\n",
       "      <td>9</td>\n",
       "      <td>17.53103</td>\n",
       "      <td>.2980284</td>\n",
       "      <td>81</td>\n",
       "    </tr>\n",
       "    <tr>\n",
       "      <th>30</th>\n",
       "      <td>1</td>\n",
       "      <td>1040</td>\n",
       "      <td>0</td>\n",
       "      <td>0</td>\n",
       "      <td>50</td>\n",
       "      <td>11</td>\n",
       "      <td>1.5385</td>\n",
       "      <td>0.00</td>\n",
       "      <td>1840</td>\n",
       "      <td>53</td>\n",
       "      <td>...</td>\n",
       "      <td>6719</td>\n",
       "      <td>0.7515</td>\n",
       "      <td>7</td>\n",
       "      <td>7</td>\n",
       "      <td>7.5</td>\n",
       "      <td>1</td>\n",
       "      <td>32</td>\n",
       "      <td>5.11896</td>\n",
       "      <td>.4308079</td>\n",
       "      <td>1024</td>\n",
       "    </tr>\n",
       "    <tr>\n",
       "      <th>35</th>\n",
       "      <td>1</td>\n",
       "      <td>690</td>\n",
       "      <td>0</td>\n",
       "      <td>1</td>\n",
       "      <td>42</td>\n",
       "      <td>11</td>\n",
       "      <td>2.4638</td>\n",
       "      <td>0.00</td>\n",
       "      <td>1896</td>\n",
       "      <td>44</td>\n",
       "      <td>...</td>\n",
       "      <td>15897</td>\n",
       "      <td>0.7515</td>\n",
       "      <td>10</td>\n",
       "      <td>3</td>\n",
       "      <td>7.5</td>\n",
       "      <td>0</td>\n",
       "      <td>0</td>\n",
       "      <td>14.19698</td>\n",
       "      <td>.9017048</td>\n",
       "      <td>0</td>\n",
       "    </tr>\n",
       "    <tr>\n",
       "      <th>...</th>\n",
       "      <td>...</td>\n",
       "      <td>...</td>\n",
       "      <td>...</td>\n",
       "      <td>...</td>\n",
       "      <td>...</td>\n",
       "      <td>...</td>\n",
       "      <td>...</td>\n",
       "      <td>...</td>\n",
       "      <td>...</td>\n",
       "      <td>...</td>\n",
       "      <td>...</td>\n",
       "      <td>...</td>\n",
       "      <td>...</td>\n",
       "      <td>...</td>\n",
       "      <td>...</td>\n",
       "      <td>...</td>\n",
       "      <td>...</td>\n",
       "      <td>...</td>\n",
       "      <td>...</td>\n",
       "      <td>...</td>\n",
       "      <td>...</td>\n",
       "    </tr>\n",
       "    <tr>\n",
       "      <th>401</th>\n",
       "      <td>1</td>\n",
       "      <td>800</td>\n",
       "      <td>0</td>\n",
       "      <td>1</td>\n",
       "      <td>48</td>\n",
       "      <td>8</td>\n",
       "      <td>3.8250</td>\n",
       "      <td>2.30</td>\n",
       "      <td>2000</td>\n",
       "      <td>52</td>\n",
       "      <td>...</td>\n",
       "      <td>62060</td>\n",
       "      <td>0.7515</td>\n",
       "      <td>7</td>\n",
       "      <td>7</td>\n",
       "      <td>7.5</td>\n",
       "      <td>0</td>\n",
       "      <td>2</td>\n",
       "      <td>59.00000</td>\n",
       "      <td>1.341558</td>\n",
       "      <td>4</td>\n",
       "    </tr>\n",
       "    <tr>\n",
       "      <th>409</th>\n",
       "      <td>1</td>\n",
       "      <td>778</td>\n",
       "      <td>0</td>\n",
       "      <td>0</td>\n",
       "      <td>47</td>\n",
       "      <td>8</td>\n",
       "      <td>3.2134</td>\n",
       "      <td>7.25</td>\n",
       "      <td>2058</td>\n",
       "      <td>51</td>\n",
       "      <td>...</td>\n",
       "      <td>31810</td>\n",
       "      <td>0.6915</td>\n",
       "      <td>12</td>\n",
       "      <td>12</td>\n",
       "      <td>5.0</td>\n",
       "      <td>1</td>\n",
       "      <td>11</td>\n",
       "      <td>29.30997</td>\n",
       "      <td>1.16733</td>\n",
       "      <td>121</td>\n",
       "    </tr>\n",
       "    <tr>\n",
       "      <th>417</th>\n",
       "      <td>1</td>\n",
       "      <td>1350</td>\n",
       "      <td>0</td>\n",
       "      <td>4</td>\n",
       "      <td>37</td>\n",
       "      <td>8</td>\n",
       "      <td>1.7407</td>\n",
       "      <td>2.10</td>\n",
       "      <td>2400</td>\n",
       "      <td>41</td>\n",
       "      <td>...</td>\n",
       "      <td>15100</td>\n",
       "      <td>0.7515</td>\n",
       "      <td>7</td>\n",
       "      <td>7</td>\n",
       "      <td>3.0</td>\n",
       "      <td>0</td>\n",
       "      <td>4</td>\n",
       "      <td>12.75006</td>\n",
       "      <td>.5542873</td>\n",
       "      <td>16</td>\n",
       "    </tr>\n",
       "    <tr>\n",
       "      <th>419</th>\n",
       "      <td>1</td>\n",
       "      <td>1984</td>\n",
       "      <td>1</td>\n",
       "      <td>3</td>\n",
       "      <td>36</td>\n",
       "      <td>11</td>\n",
       "      <td>4.4859</td>\n",
       "      <td>3.26</td>\n",
       "      <td>1656</td>\n",
       "      <td>38</td>\n",
       "      <td>...</td>\n",
       "      <td>19600</td>\n",
       "      <td>0.7215</td>\n",
       "      <td>7</td>\n",
       "      <td>3</td>\n",
       "      <td>14.0</td>\n",
       "      <td>0</td>\n",
       "      <td>10</td>\n",
       "      <td>10.69998</td>\n",
       "      <td>1.500939</td>\n",
       "      <td>100</td>\n",
       "    </tr>\n",
       "    <tr>\n",
       "      <th>423</th>\n",
       "      <td>1</td>\n",
       "      <td>680</td>\n",
       "      <td>0</td>\n",
       "      <td>5</td>\n",
       "      <td>36</td>\n",
       "      <td>10</td>\n",
       "      <td>2.3118</td>\n",
       "      <td>0.00</td>\n",
       "      <td>3430</td>\n",
       "      <td>43</td>\n",
       "      <td>...</td>\n",
       "      <td>19772</td>\n",
       "      <td>0.7215</td>\n",
       "      <td>7</td>\n",
       "      <td>7</td>\n",
       "      <td>7.5</td>\n",
       "      <td>0</td>\n",
       "      <td>2</td>\n",
       "      <td>18.19998</td>\n",
       "      <td>.8380265</td>\n",
       "      <td>4</td>\n",
       "    </tr>\n",
       "  </tbody>\n",
       "</table>\n",
       "<p>72 rows × 22 columns</p>\n",
       "</div>"
      ],
      "text/plain": [
       "     0     1   2   3   4   5       6     7     8   9   ...     12      13  14  \\\n",
       "11    1  1960   0   1  42  11  4.5918  4.58  2375  47  ...  28700  0.6215  14   \n",
       "14    1  1848   0   1  43  10  3.6797  3.38  2024  45  ...  31431  0.5815   7   \n",
       "15    1  1224   0   3  35  11  1.3472  0.00  1694  38  ...  19180  0.7215  16   \n",
       "30    1  1040   0   0  50  11  1.5385  0.00  1840  53  ...   6719  0.7515   7   \n",
       "35    1   690   0   1  42  11  2.4638  0.00  1896  44  ...  15897  0.7515  10   \n",
       "..   ..   ...  ..  ..  ..  ..     ...   ...   ...  ..  ...    ...     ...  ..   \n",
       "401   1   800   0   1  48   8  3.8250  2.30  2000  52  ...  62060  0.7515   7   \n",
       "409   1   778   0   0  47   8  3.2134  7.25  2058  51  ...  31810  0.6915  12   \n",
       "417   1  1350   0   4  37   8  1.7407  2.10  2400  41  ...  15100  0.7515   7   \n",
       "419   1  1984   1   3  36  11  4.4859  3.26  1656  38  ...  19600  0.7215   7   \n",
       "423   1   680   0   5  36  10  2.3118  0.00  3430  43  ...  19772  0.7215   7   \n",
       "\n",
       "     15    16  17  18        19        20    21  \n",
       "11    7   5.0   0  14  19.70007  1.524272   196  \n",
       "14    7   7.5   1   6  24.63091  1.302831    36  \n",
       "15   10   7.5   1   9  17.53103  .2980284    81  \n",
       "30    7   7.5   1  32   5.11896  .4308079  1024  \n",
       "35    3   7.5   0   0  14.19698  .9017048     0  \n",
       "..   ..   ...  ..  ..       ...       ...   ...  \n",
       "401   7   7.5   0   2  59.00000  1.341558     4  \n",
       "409  12   5.0   1  11  29.30997   1.16733   121  \n",
       "417   7   3.0   0   4  12.75006  .5542873    16  \n",
       "419   3  14.0   0  10  10.69998  1.500939   100  \n",
       "423   7   7.5   0   2  18.19998  .8380265     4  \n",
       "\n",
       "[72 rows x 22 columns]"
      ]
     },
     "execution_count": 128,
     "metadata": {},
     "output_type": "execute_result"
    }
   ],
   "source": [
    "# Men wages = Column 11\n",
    "husb_lower_med = data.loc[data[5] < data[5].median()]\n",
    "husb_lower_med"
   ]
  },
  {
   "cell_type": "code",
   "execution_count": 129,
   "id": "b7aab076",
   "metadata": {},
   "outputs": [
    {
     "data": {
      "text/plain": [
       "count    72.000000\n",
       "mean      2.945771\n",
       "std       2.340912\n",
       "min       0.128200\n",
       "25%       1.768525\n",
       "50%       2.456100\n",
       "75%       3.671450\n",
       "max      18.267000\n",
       "Name: 6, dtype: float64"
      ]
     },
     "execution_count": 129,
     "metadata": {},
     "output_type": "execute_result"
    }
   ],
   "source": [
    "# Wage\n",
    "husb_lower_med[6].describe()"
   ]
  },
  {
   "cell_type": "code",
   "execution_count": 130,
   "id": "5972eb16",
   "metadata": {},
   "outputs": [
    {
     "data": {
      "text/plain": [
       "count    72.000000\n",
       "mean     42.847222\n",
       "std       7.648363\n",
       "min      30.000000\n",
       "25%      36.000000\n",
       "50%      42.500000\n",
       "75%      48.250000\n",
       "max      59.000000\n",
       "Name: 4, dtype: float64"
      ]
     },
     "execution_count": 130,
     "metadata": {},
     "output_type": "execute_result"
    }
   ],
   "source": [
    "# Age\n",
    "husb_lower_med[4].describe()"
   ]
  },
  {
   "cell_type": "code",
   "execution_count": 131,
   "id": "bfb8f05d",
   "metadata": {},
   "outputs": [
    {
     "data": {
      "text/plain": [
       "count    72.000000\n",
       "mean      9.500000\n",
       "std       1.472757\n",
       "min       5.000000\n",
       "25%       8.750000\n",
       "50%      10.000000\n",
       "75%      11.000000\n",
       "max      11.000000\n",
       "Name: 5, dtype: float64"
      ]
     },
     "execution_count": 131,
     "metadata": {},
     "output_type": "execute_result"
    }
   ],
   "source": [
    "# Education\n",
    "husb_lower_med[5].describe()"
   ]
  },
  {
   "cell_type": "markdown",
   "id": "7199cb5b",
   "metadata": {},
   "source": [
    "<h3 style='color: #026be3;'>Question 1.3</h3>\n",
    "<h4 style='color: #026be3;'>Faire l'histogramme de la variable wage. Calculer le log de wage et faire l'histogramme. Comparez les deux histogrammes et commentez.</h4>"
   ]
  },
  {
   "cell_type": "code",
   "execution_count": 132,
   "id": "75f0ab1e",
   "metadata": {},
   "outputs": [
    {
     "data": {
      "text/plain": [
       "array([[<AxesSubplot:title={'center':'6'}>]], dtype=object)"
      ]
     },
     "execution_count": 132,
     "metadata": {},
     "output_type": "execute_result"
    },
    {
     "data": {
      "image/png": "[encoded data removed]",
      "text/plain": [
       "<Figure size 640x480 with 1 Axes>"
      ]
     },
     "metadata": {},
     "output_type": "display_data"
    }
   ],
   "source": [
    "data.hist(6)"
   ]
  },
  {
   "cell_type": "code",
   "execution_count": 133,
   "id": "4d3cab45",
   "metadata": {},
   "outputs": [
    {
     "data": {
      "text/plain": [
       "<Figure size 640x480 with 0 Axes>"
      ]
     },
     "metadata": {},
     "output_type": "display_data"
    },
    {
     "data": {
      "image/png": "[encoded data removed]",
      "text/plain": [
       "<Figure size 640x480 with 1 Axes>"
      ]
     },
     "metadata": {},
     "output_type": "display_data"
    }
   ],
   "source": [
    "plt.figure()\n",
    "hist = data.hist(6)\n",
    "plt.yscale('log')"
   ]
  },
  {
   "cell_type": "markdown",
   "id": "f05c74c4",
   "metadata": {},
   "source": [
    "Both results represent the same information. However, it is easier to appreciate the biggest differences involving high values using the non-log one, while the smallesy ones in lower values is more interpretable in the log graphic."
   ]
  },
  {
   "cell_type": "markdown",
   "id": "bb86722c",
   "metadata": {},
   "source": [
    "<h3 style='color: #026be3;'>Question 1.4</h3>\n",
    "<h4 style='color: #026be3;'>Calculer les corrélations motheduc et fatheduc. Commentez. Il y a-t-il un problème de multicollinéarité si l'on utilise ces variables comme variables explicatives ?</h4>\n",
    "\n",
    "# A REVISAR"
   ]
  },
  {
   "cell_type": "code",
   "execution_count": 134,
   "id": "b3094d90",
   "metadata": {},
   "outputs": [
    {
     "name": "stdout",
     "output_type": "stream",
     "text": [
      "[[1.         0.55406322]\n",
      " [0.55406322 1.        ]]\n"
     ]
    }
   ],
   "source": [
    "# motheduc = Column 14\n",
    "# fatheduc = Column 15\n",
    "\n",
    "r = np.corrcoef(data[14], data[15])\n",
    "print(r)"
   ]
  },
  {
   "cell_type": "code",
   "execution_count": 135,
   "id": "036555a0",
   "metadata": {},
   "outputs": [
    {
     "name": "stdout",
     "output_type": "stream",
     "text": [
      "[[1.         0.55406322]\n",
      " [0.55406322 1.        ]]\n"
     ]
    }
   ],
   "source": [
    "educBoth = data.loc[:,14:15]\n",
    "r = np.corrcoef(educBoth[14], educBoth[15])\n",
    "print(r)"
   ]
  },
  {
   "cell_type": "markdown",
   "id": "a70f3d7d",
   "metadata": {},
   "source": [
    "Using correlation data, there exists a relation between both father and mother level of education. Taking into account that the value is 0.55406322, which is positive, it is likely that the higher the value of one of the elements, the higher the value of the other."
   ]
  },
  {
   "cell_type": "code",
   "execution_count": 136,
   "id": "6900b03c",
   "metadata": {},
   "outputs": [
    {
     "data": {
      "text/plain": [
       "array([[1.30698605, 1.10812644],\n",
       "       [1.10812644, 1.30698605]])"
      ]
     },
     "execution_count": 136,
     "metadata": {},
     "output_type": "execute_result"
    }
   ],
   "source": [
    "np.matmul(r.T,r)"
   ]
  },
  {
   "cell_type": "code",
   "execution_count": 137,
   "id": "171344fd",
   "metadata": {},
   "outputs": [],
   "source": [
    "vif= pd.DataFrame()\n",
    "# data['const']=1\n",
    "# vif['variables']=data.columns\n",
    "# vif[\"VIF\"]=[variance_inflation_factor(data.values,i) for i in range(data.shape[1])]\n",
    "# print(vif)"
   ]
  },
  {
   "cell_type": "markdown",
   "id": "2b8dee30",
   "metadata": {},
   "source": [
    "<h3 style='color: #026be3;'>Question 1.5</h3>\n",
    "<h4 style='color: #026be3;'>Faites un graphique en nuage de point entre wage et educ, wage et exper, wage et fatheduc. Commentez. S'agit-il d'un effet \"toute chose étant égale par ailleurs ?\"</h4>\n",
    "\n",
    "# A REVISAR"
   ]
  },
  {
   "cell_type": "code",
   "execution_count": 138,
   "id": "40f01f80",
   "metadata": {},
   "outputs": [
    {
     "data": {
      "text/plain": [
       "<AxesSubplot:xlabel='5', ylabel='6'>"
      ]
     },
     "execution_count": 138,
     "metadata": {},
     "output_type": "execute_result"
    },
    {
     "data": {
      "image/png": "[encoded data removed]",
      "text/plain": [
       "<Figure size 640x480 with 1 Axes>"
      ]
     },
     "metadata": {},
     "output_type": "display_data"
    }
   ],
   "source": [
    "#wage et educ\n",
    "data.plot.scatter(x=5,y=6)"
   ]
  },
  {
   "cell_type": "code",
   "execution_count": 139,
   "id": "e48bd458",
   "metadata": {},
   "outputs": [
    {
     "data": {
      "image/png": "[encoded data removed]",
      "text/plain": [
       "<Figure size 640x480 with 1 Axes>"
      ]
     },
     "metadata": {},
     "output_type": "display_data"
    }
   ],
   "source": [
    "#wage et exper\n",
    "scat=data.plot.scatter(x=21,y=6)"
   ]
  },
  {
   "cell_type": "code",
   "execution_count": 140,
   "id": "f5570485",
   "metadata": {},
   "outputs": [
    {
     "data": {
      "text/plain": [
       "<AxesSubplot:xlabel='15', ylabel='6'>"
      ]
     },
     "execution_count": 140,
     "metadata": {},
     "output_type": "execute_result"
    },
    {
     "data": {
      "image/png": "[encoded data removed]",
      "text/plain": [
       "<Figure size 640x480 with 1 Axes>"
      ]
     },
     "metadata": {},
     "output_type": "display_data"
    }
   ],
   "source": [
    "#wage et fatheduc\n",
    "data.plot.scatter(x=15,y=6)"
   ]
  },
  {
   "cell_type": "markdown",
   "id": "6f4773ac",
   "metadata": {},
   "source": [
    "Although we can see different distributions, it is difficult to obtain conclusions using only the scatter plots because points may be overlapping. However, the wage is differently distributed looking at the evident differences of the graphics."
   ]
  },
  {
   "cell_type": "markdown",
   "id": "649a6a03",
   "metadata": {},
   "source": [
    "<h3 style='color: #026be3;'>Question 1.6</h3>\n",
    "<h4 style='color: #026be3;'>Quelle est l'hypothèse fondamentale qui garantit des estimateurs non biaisés ? Expliquer le biais de variable omise.</h4>"
   ]
  },
  {
   "cell_type": "markdown",
   "id": "7c916e0a",
   "metadata": {},
   "source": [
    "We have estimators which are not biased when the residuals of the models are independent of the variables of explanation."
   ]
  },
  {
   "cell_type": "markdown",
   "id": "50af6ff9",
   "metadata": {},
   "source": [
    "The omitted variable biased happens when we ignore a variable of explanation in the equation and it is correlated with both the error and the studied variable"
   ]
  },
  {
   "cell_type": "markdown",
   "id": "d2f292c6",
   "metadata": {},
   "source": [
    "<h3 style='color: #026be3;'>Question 1.7</h3>\n",
    "<h4 style='color: #026be3;'>Faire la régression de wage en utilisant les variables explicatives un constante, city, educ, exper, nwifeinc, kidslt6, kidsgt6. Commentez l'histogramme des résidus.</h4>"
   ]
  },
  {
   "cell_type": "code",
   "execution_count": 141,
   "id": "c404c656",
   "metadata": {},
   "outputs": [
    {
     "name": "stdout",
     "output_type": "stream",
     "text": [
      "                            OLS Regression Results                            \n",
      "==============================================================================\n",
      "Dep. Variable:                      6   R-squared:                       0.127\n",
      "Model:                            OLS   Adj. R-squared:                  0.115\n",
      "Method:                 Least Squares   F-statistic:                     10.23\n",
      "Date:                Sun, 11 Dec 2022   Prob (F-statistic):           1.41e-10\n",
      "Time:                        02:56:26   Log-Likelihood:                -1090.0\n",
      "No. Observations:                 428   AIC:                             2194.\n",
      "Df Residuals:                     421   BIC:                             2222.\n",
      "Df Model:                           6                                         \n",
      "Covariance Type:            nonrobust                                         \n",
      "==============================================================================\n",
      "                 coef    std err          t      P>|t|      [0.025      0.975]\n",
      "------------------------------------------------------------------------------\n",
      "17             0.3698      0.327      1.132      0.258      -0.272       1.012\n",
      "5              0.4600      0.070      6.546      0.000       0.322       0.598\n",
      "18             0.0238      0.021      1.141      0.255      -0.017       0.065\n",
      "19             0.0152      0.015      0.984      0.326      -0.015       0.046\n",
      "2              0.0362      0.397      0.091      0.927      -0.744       0.816\n",
      "3             -0.0619      0.125     -0.494      0.622      -0.308       0.185\n",
      "const         -2.4035      0.963     -2.495      0.013      -4.297      -0.510\n",
      "==============================================================================\n",
      "Omnibus:                      345.825   Durbin-Watson:                   2.056\n",
      "Prob(Omnibus):                  0.000   Jarque-Bera (JB):             6499.375\n",
      "Skew:                           3.389   Prob(JB):                         0.00\n",
      "Kurtosis:                      20.847   Cond. No.                         178.\n",
      "==============================================================================\n",
      "\n",
      "Notes:\n",
      "[1] Standard Errors assume that the covariance matrix of the errors is correctly specified.\n"
     ]
    },
    {
     "name": "stderr",
     "output_type": "stream",
     "text": [
      "/tmp/ipykernel_127999/4181789263.py:9: SettingWithCopyWarning: \n",
      "A value is trying to be set on a copy of a slice from a DataFrame.\n",
      "Try using .loc[row_indexer,col_indexer] = value instead\n",
      "\n",
      "See the caveats in the documentation: https://pandas.pydata.org/pandas-docs/stable/user_guide/indexing.html#returning-a-view-versus-a-copy\n",
      "  X['const'] = 1\n"
     ]
    }
   ],
   "source": [
    "# city = Column 17\n",
    "# educ = Column 5\n",
    "# exper = Column 18\n",
    "# nwifeinc = Column 19\n",
    "# kidslt6 = Column 2\n",
    "# kidsge6 = Column 3\n",
    "\n",
    "X = data.iloc[:, [17,5,18,19,2,3]]\n",
    "X['const'] = 1\n",
    "y = data[6]\n",
    "model = sm.OLS(y, X)\n",
    "results = model.fit()\n",
    "residuals = results.resid\n",
    "print(results.summary())"
   ]
  },
  {
   "cell_type": "code",
   "execution_count": 142,
   "id": "2ee23f63",
   "metadata": {},
   "outputs": [
    {
     "data": {
      "text/plain": [
       "array([ 0.36975203,  0.4600477 ,  0.02381995,  0.01524479,  0.03617319,\n",
       "       -0.06189091, -2.40345399])"
      ]
     },
     "execution_count": 142,
     "metadata": {},
     "output_type": "execute_result"
    }
   ],
   "source": [
    "coef=results.params.to_numpy()\n",
    "coef"
   ]
  },
  {
   "cell_type": "code",
   "execution_count": 143,
   "id": "05464a0c",
   "metadata": {},
   "outputs": [
    {
     "data": {
      "text/plain": [
       "(array([ 23., 190., 172.,  27.,   6.,   3.,   0.,   3.,   1.,   3.]),\n",
       " array([-5.90838951, -3.19097286, -0.47355622,  2.24386043,  4.96127707,\n",
       "         7.67869372, 10.39611037, 13.11352701, 15.83094366, 18.5483603 ,\n",
       "        21.26577695]),\n",
       " <BarContainer object of 10 artists>)"
      ]
     },
     "execution_count": 143,
     "metadata": {},
     "output_type": "execute_result"
    },
    {
     "data": {
      "image/png": "[encoded data removed]",
      "text/plain": [
       "<Figure size 640x480 with 1 Axes>"
      ]
     },
     "metadata": {},
     "output_type": "display_data"
    }
   ],
   "source": [
    "plt.hist(residuals)"
   ]
  },
  {
   "cell_type": "markdown",
   "id": "eddd29eb",
   "metadata": {},
   "source": [
    "# Comment"
   ]
  },
  {
   "cell_type": "markdown",
   "id": "cd1c86fa",
   "metadata": {},
   "source": [
    "<h3 style='color: #026be3;'>Question 1.8</h3>\n",
    "<h4 style='color: #026be3;'>Faire la régrssion de lwage sur une constante, city, educ, exper, nwifeinc, kidslt6, kidsgt6. Comparer l’histogramme obtenu à celui de la question 7.</h4>"
   ]
  },
  {
   "cell_type": "code",
   "execution_count": 144,
   "id": "92412d79",
   "metadata": {
    "scrolled": true
   },
   "outputs": [
    {
     "name": "stdout",
     "output_type": "stream",
     "text": [
      "                            OLS Regression Results                            \n",
      "==============================================================================\n",
      "Dep. Variable:                      6   R-squared:                       0.127\n",
      "Model:                            OLS   Adj. R-squared:                  0.115\n",
      "Method:                 Least Squares   F-statistic:                     10.23\n",
      "Date:                Sun, 11 Dec 2022   Prob (F-statistic):           1.41e-10\n",
      "Time:                        02:56:27   Log-Likelihood:                -1090.0\n",
      "No. Observations:                 428   AIC:                             2194.\n",
      "Df Residuals:                     421   BIC:                             2222.\n",
      "Df Model:                           6                                         \n",
      "Covariance Type:            nonrobust                                         \n",
      "==============================================================================\n",
      "                 coef    std err          t      P>|t|      [0.025      0.975]\n",
      "------------------------------------------------------------------------------\n",
      "17             0.3698      0.327      1.132      0.258      -0.272       1.012\n",
      "5              0.4600      0.070      6.546      0.000       0.322       0.598\n",
      "18             0.0238      0.021      1.141      0.255      -0.017       0.065\n",
      "19             0.0152      0.015      0.984      0.326      -0.015       0.046\n",
      "2              0.0362      0.397      0.091      0.927      -0.744       0.816\n",
      "3             -0.0619      0.125     -0.494      0.622      -0.308       0.185\n",
      "const         -2.4035      0.963     -2.495      0.013      -4.297      -0.510\n",
      "==============================================================================\n",
      "Omnibus:                      345.825   Durbin-Watson:                   2.056\n",
      "Prob(Omnibus):                  0.000   Jarque-Bera (JB):             6499.375\n",
      "Skew:                           3.389   Prob(JB):                         0.00\n",
      "Kurtosis:                      20.847   Cond. No.                         178.\n",
      "==============================================================================\n",
      "\n",
      "Notes:\n",
      "[1] Standard Errors assume that the covariance matrix of the errors is correctly specified.\n"
     ]
    },
    {
     "name": "stderr",
     "output_type": "stream",
     "text": [
      "/tmp/ipykernel_127999/3954646895.py:9: SettingWithCopyWarning: \n",
      "A value is trying to be set on a copy of a slice from a DataFrame.\n",
      "Try using .loc[row_indexer,col_indexer] = value instead\n",
      "\n",
      "See the caveats in the documentation: https://pandas.pydata.org/pandas-docs/stable/user_guide/indexing.html#returning-a-view-versus-a-copy\n",
      "  X['const']=1\n"
     ]
    }
   ],
   "source": [
    "# city = Column 17\n",
    "# educ = Column 5\n",
    "# exper = Column 18\n",
    "# nwifeinc = Column 19\n",
    "# kidslt6 = Column 2\n",
    "# kidsge6 = Column 3\n",
    "\n",
    "X = data.iloc[:, [17,5,18,19,2,3]]\n",
    "X['const']=1\n",
    "y_log = np.log(data[6])\n",
    "model_log = sm.OLS(y_log, X)\n",
    "results_log = model.fit()\n",
    "residuals_log = results_log.resid\n",
    "print(results_log.summary())"
   ]
  },
  {
   "cell_type": "code",
   "execution_count": 145,
   "id": "8e3d3b84",
   "metadata": {},
   "outputs": [
    {
     "data": {
      "text/plain": [
       "array([ 0.36975203,  0.4600477 ,  0.02381995,  0.01524479,  0.03617319,\n",
       "       -0.06189091, -2.40345399])"
      ]
     },
     "execution_count": 145,
     "metadata": {},
     "output_type": "execute_result"
    }
   ],
   "source": [
    "coef_log=results_log.params.to_numpy()\n",
    "coef_log"
   ]
  },
  {
   "cell_type": "code",
   "execution_count": 146,
   "id": "cb5cdee8",
   "metadata": {},
   "outputs": [
    {
     "data": {
      "text/plain": [
       "(array([ 23., 190., 172.,  27.,   6.,   3.,   0.,   3.,   1.,   3.]),\n",
       " array([-5.90838951, -3.19097286, -0.47355622,  2.24386043,  4.96127707,\n",
       "         7.67869372, 10.39611037, 13.11352701, 15.83094366, 18.5483603 ,\n",
       "        21.26577695]),\n",
       " <BarContainer object of 10 artists>)"
      ]
     },
     "execution_count": 146,
     "metadata": {},
     "output_type": "execute_result"
    },
    {
     "data": {
      "image/png": "[encoded data removed]",
      "text/plain": [
       "<Figure size 640x480 with 1 Axes>"
      ]
     },
     "metadata": {},
     "output_type": "display_data"
    }
   ],
   "source": [
    "plt.hist(residuals)"
   ]
  },
  {
   "cell_type": "markdown",
   "id": "49abd96b",
   "metadata": {},
   "source": [
    "# COMMENT"
   ]
  },
  {
   "cell_type": "markdown",
   "id": "f4c46666",
   "metadata": {},
   "source": [
    "<h3 style='color: #026be3;'>Question 1.9</h3>\n",
    "<h4 style='color: #026be3;'>Tester l'hypothèse de non significativité de nwifeinc avec un seuil de significativité de 1%, 5% et 10% (test alternatif des deux côtés). Commentez les p-values.</h4>"
   ]
  },
  {
   "cell_type": "code",
   "execution_count": 147,
   "id": "6405e157",
   "metadata": {},
   "outputs": [
    {
     "name": "stderr",
     "output_type": "stream",
     "text": [
      "/tmp/ipykernel_127999/208939389.py:9: SettingWithCopyWarning: \n",
      "A value is trying to be set on a copy of a slice from a DataFrame.\n",
      "Try using .loc[row_indexer,col_indexer] = value instead\n",
      "\n",
      "See the caveats in the documentation: https://pandas.pydata.org/pandas-docs/stable/user_guide/indexing.html#returning-a-view-versus-a-copy\n",
      "  X9['const'] = 1\n"
     ]
    }
   ],
   "source": [
    "# city = Column 17\n",
    "# educ = Column 5\n",
    "# exper = Column 18\n",
    "# nwifeinc = Column 19\n",
    "# kidslt6 = Column 2\n",
    "# kidsge6 = Column 3\n",
    "\n",
    "X9 = data.iloc[:, [17,5,18,19,2,3]]\n",
    "X9['const'] = 1\n",
    "# LOG ?????????????????????????????????????????????????????????\n",
    "y = data[6]"
   ]
  },
  {
   "cell_type": "code",
   "execution_count": 148,
   "id": "961ad9f8",
   "metadata": {},
   "outputs": [
    {
     "data": {
      "text/plain": [
       "array([0.32657023, 0.07027516, 0.02087998, 0.01549936, 0.39697399,\n",
       "       0.12538399, 0.96349591])"
      ]
     },
     "execution_count": 148,
     "metadata": {},
     "output_type": "execute_result"
    }
   ],
   "source": [
    "mat_X = X9.to_numpy()\n",
    "mat_y = y.to_numpy()\n",
    "u = mat_y - mat_X@coef\n",
    "n,k=np.shape(mat_X)\n",
    "sig22=u.T@u/(n-k)\n",
    "Var2=sig22*np.linalg.inv(mat_X.T @ mat_X)\n",
    "std2=np.sqrt(np.diag(Var2))\n",
    "std2"
   ]
  },
  {
   "cell_type": "code",
   "execution_count": 149,
   "id": "ff28f992",
   "metadata": {},
   "outputs": [
    {
     "name": "stdout",
     "output_type": "stream",
     "text": [
      "Probability density function: 2.587613795882378\n",
      "t0: 0.9835758176929162\n",
      "p-values: 0.32589171949449613\n"
     ]
    }
   ],
   "source": [
    "# 1%\n",
    "print(f\"Probability density function: {t.ppf(1-0.005,mat_X.shape[0]-mat_X.shape[1]-2)}\")\n",
    "t0=(coef[3]-0)/std2[3]\n",
    "print(f\"t0: {t0}\")\n",
    "print(f\"p-values: {t.sf(t0,(mat_X.shape[0]-mat_X.shape[1]-2))*2}\")"
   ]
  },
  {
   "cell_type": "code",
   "execution_count": 150,
   "id": "31fdc01a",
   "metadata": {},
   "outputs": [
    {
     "name": "stdout",
     "output_type": "stream",
     "text": [
      "Probability density function: 1.9656418415415788\n",
      "t0: 0.9835758176929162\n",
      "p-values 0.32589171949449613\n"
     ]
    }
   ],
   "source": [
    "# 5%\n",
    "print(f\"Probability density function: {t.ppf(1-0.025,mat_X.shape[0]-mat_X.shape[1]-2)}\")\n",
    "t0=(coef[3]-0)/std2[3]\n",
    "print(f\"t0: {t0}\")\n",
    "print(f\"p-values {t.sf(t0,(mat_X.shape[0]-mat_X.shape[1]-2))*2}\")"
   ]
  },
  {
   "cell_type": "code",
   "execution_count": 151,
   "id": "4fa645d0",
   "metadata": {},
   "outputs": [
    {
     "name": "stdout",
     "output_type": "stream",
     "text": [
      "Probability density function: 1.6484984103848834\n",
      "t0: 0.9835758176929162\n",
      "p-values: 0.32589171949449613\n"
     ]
    }
   ],
   "source": [
    "# 10%\n",
    "print(f\"Probability density function: {t.ppf(1-0.05,mat_X.shape[0]-mat_X.shape[1]-2)}\")\n",
    "t0=(coef[3]-0)/std2[3]\n",
    "print(f\"t0: {t0}\")\n",
    "print(f\"p-values: {t.sf(t0,(mat_X.shape[0]-mat_X.shape[1]-2))*2}\")"
   ]
  },
  {
   "cell_type": "markdown",
   "id": "26b68ed8",
   "metadata": {},
   "source": [
    "We cannot reject the hypothesis with any threshold"
   ]
  },
  {
   "cell_type": "markdown",
   "id": "0434549d",
   "metadata": {},
   "source": [
    "<h3 style='color: #026be3;'>Question 1.10</h3>\n",
    "<h4 style='color: #026be3;'>Tester l’hypothèse que le coefficient associé à nwifeinc est égal à 0.01 avec un seuil de significativité de 5% (test à alternatif des deux côtés)</h4>"
   ]
  },
  {
   "cell_type": "code",
   "execution_count": 152,
   "id": "aed5356d",
   "metadata": {},
   "outputs": [
    {
     "name": "stderr",
     "output_type": "stream",
     "text": [
      "/tmp/ipykernel_127999/874876369.py:9: SettingWithCopyWarning: \n",
      "A value is trying to be set on a copy of a slice from a DataFrame.\n",
      "Try using .loc[row_indexer,col_indexer] = value instead\n",
      "\n",
      "See the caveats in the documentation: https://pandas.pydata.org/pandas-docs/stable/user_guide/indexing.html#returning-a-view-versus-a-copy\n",
      "  X10['const'] = 1\n"
     ]
    }
   ],
   "source": [
    "# city = Column 17\n",
    "# educ = Column 5\n",
    "# exper = Column 18\n",
    "# nwifeinc = Column 19\n",
    "# kidslt6 = Column 2\n",
    "# kidsge6 = Column 3\n",
    "\n",
    "X10 = data.iloc[:, [17,5,18,19,2,3]]\n",
    "X10['const'] = 1\n",
    "# LOG ?????????????????????????????????????????????????????????\n",
    "y = data[6]"
   ]
  },
  {
   "cell_type": "code",
   "execution_count": 153,
   "id": "b1577050",
   "metadata": {},
   "outputs": [
    {
     "data": {
      "text/plain": [
       "array([0.32657023, 0.07027516, 0.02087998, 0.01549936, 0.39697399,\n",
       "       0.12538399, 0.96349591])"
      ]
     },
     "execution_count": 153,
     "metadata": {},
     "output_type": "execute_result"
    }
   ],
   "source": [
    "mat_X = X10.to_numpy()\n",
    "mat_y = y.to_numpy()\n",
    "u = mat_y - mat_X@coef\n",
    "n,k=np.shape(mat_X)\n",
    "sig22=u.T@u/(n-k)\n",
    "Var2=sig22*np.linalg.inv(mat_X.T @ mat_X)\n",
    "std2=np.sqrt(np.diag(Var2))\n",
    "std2"
   ]
  },
  {
   "cell_type": "code",
   "execution_count": 154,
   "id": "2eba40fa",
   "metadata": {},
   "outputs": [
    {
     "data": {
      "text/plain": [
       "array([ 0.36975203,  0.4600477 ,  0.02381995,  0.01524479,  0.03617319,\n",
       "       -0.06189091, -2.40345399])"
      ]
     },
     "execution_count": 154,
     "metadata": {},
     "output_type": "execute_result"
    }
   ],
   "source": [
    "coef"
   ]
  },
  {
   "cell_type": "code",
   "execution_count": 155,
   "id": "8c0e0cd2",
   "metadata": {},
   "outputs": [
    {
     "name": "stdout",
     "output_type": "stream",
     "text": [
      "Probability density function: 1.9656418415415788\n",
      "t0: 0.3383877980792574\n",
      "p-values: 0.7352404628773813\n"
     ]
    }
   ],
   "source": [
    "# 5%, we use 2.5% because we use the two sides test\n",
    "print(f\"Probability density function: {t.ppf(1-0.025,mat_X.shape[0]-mat_X.shape[1]-2)}\")\n",
    "t0=(coef[3]-0.01)/std2[3]\n",
    "print(f\"t0: {t0}\")\n",
    "print(f\"p-values: {t.sf(t0,(mat_X.shape[0]-mat_X.shape[1]-2))*2}\")"
   ]
  },
  {
   "cell_type": "markdown",
   "id": "56a7e628",
   "metadata": {},
   "source": [
    "<h3 style='color: #026be3;'>Question 1.11</h3>\n",
    "<h4 style='color: #026be3;'>Tester l’hypothèse jointe que le coefficient de nwifeinc est égal à 0.01 et que celui de city est égal à 0.05.</h4>"
   ]
  },
  {
   "cell_type": "code",
   "execution_count": 156,
   "id": "4da79834",
   "metadata": {},
   "outputs": [
    {
     "name": "stderr",
     "output_type": "stream",
     "text": [
      "/tmp/ipykernel_127999/167655595.py:9: SettingWithCopyWarning: \n",
      "A value is trying to be set on a copy of a slice from a DataFrame.\n",
      "Try using .loc[row_indexer,col_indexer] = value instead\n",
      "\n",
      "See the caveats in the documentation: https://pandas.pydata.org/pandas-docs/stable/user_guide/indexing.html#returning-a-view-versus-a-copy\n",
      "  X11['const'] = 1\n"
     ]
    }
   ],
   "source": [
    "# city = Column 17\n",
    "# educ = Column 5\n",
    "# exper = Column 18\n",
    "# nwifeinc = Column 19\n",
    "# kidslt6 = Column 2\n",
    "# kidsge6 = Column 3\n",
    "\n",
    "X11 = data.iloc[:, [17,5,18,19,2,3]]\n",
    "X11['const'] = 1\n",
    "y = np.log(data[6])"
   ]
  },
  {
   "cell_type": "markdown",
   "id": "224c600c",
   "metadata": {},
   "source": [
    "### nwifeinc = 0.01"
   ]
  },
  {
   "cell_type": "code",
   "execution_count": 157,
   "id": "8a55306b",
   "metadata": {},
   "outputs": [],
   "source": [
    "# Previous?"
   ]
  },
  {
   "cell_type": "markdown",
   "id": "c7176050",
   "metadata": {},
   "source": [
    "### city = 0.05"
   ]
  },
  {
   "cell_type": "code",
   "execution_count": 158,
   "id": "617e42d7",
   "metadata": {},
   "outputs": [
    {
     "data": {
      "text/plain": [
       "array([0.33762251, 0.07265352, 0.02158663, 0.01602391, 0.41040899,\n",
       "       0.12962742, 0.99610399])"
      ]
     },
     "execution_count": 158,
     "metadata": {},
     "output_type": "execute_result"
    }
   ],
   "source": [
    "mat_X = X11.to_numpy()\n",
    "mat_y = y.to_numpy()\n",
    "u = mat_y - mat_X@coef\n",
    "n,k=np.shape(mat_X)\n",
    "sig22=u.T@u/(n-k)\n",
    "Var2=sig22*np.linalg.inv(mat_X.T @ mat_X)\n",
    "std2=np.sqrt(np.diag(Var2))\n",
    "std2"
   ]
  },
  {
   "cell_type": "code",
   "execution_count": 159,
   "id": "0a434924",
   "metadata": {},
   "outputs": [
    {
     "data": {
      "text/plain": [
       "array([ 0.36975203,  0.4600477 ,  0.02381995,  0.01524479,  0.03617319,\n",
       "       -0.06189091, -2.40345399])"
      ]
     },
     "execution_count": 159,
     "metadata": {},
     "output_type": "execute_result"
    }
   ],
   "source": [
    "coef"
   ]
  },
  {
   "cell_type": "code",
   "execution_count": 160,
   "id": "1959ac78",
   "metadata": {
    "scrolled": true
   },
   "outputs": [
    {
     "name": "stdout",
     "output_type": "stream",
     "text": [
      "Probability density function: 1.9656418415415788\n",
      "t0: 0.9470696361133628\n",
      "p-values: 0.3441491593242192\n"
     ]
    }
   ],
   "source": [
    "# 5%, we use 2.5% because we use the two sides test\n",
    "print(f\"Probability density function: {t.ppf(1-0.025,mat_X.shape[0]-mat_X.shape[1]-2)}\")\n",
    "t0=(coef[0]-0.05)/std2[0]\n",
    "print(f\"t0: {t0}\")\n",
    "print(f\"p-values: {t.sf(t0,(mat_X.shape[0]-mat_X.shape[1]-2))*2}\")"
   ]
  },
  {
   "cell_type": "markdown",
   "id": "c283972e",
   "metadata": {},
   "source": [
    "<h3 style='color: #026be3;'>Question 1.12</h3>\n",
    "<h4 style='color: #026be3;'>Faites une représentation graphique de la manière dont le salaire augmente avec l’éducation et l’expérience professionnelle. Commentez.</h4>"
   ]
  },
  {
   "cell_type": "code",
   "execution_count": null,
   "id": "c6ffac2d",
   "metadata": {},
   "outputs": [],
   "source": []
  },
  {
   "cell_type": "markdown",
   "id": "57972389",
   "metadata": {},
   "source": [
    "<h3 style='color: #026be3;'>Question 1.13</h3>\n",
    "<h4 style='color: #026be3;'>Tester l’égalité des coefficients associés aux variables kidsgt6 et kidslt6. Interprétez.</h4>"
   ]
  },
  {
   "cell_type": "code",
   "execution_count": null,
   "id": "cea7155d",
   "metadata": {},
   "outputs": [],
   "source": []
  },
  {
   "cell_type": "markdown",
   "id": "893e4e5a",
   "metadata": {},
   "source": [
    "<h3 style='color: #026be3;'>Question 1.14</h3>\n",
    "<h4 style='color: #026be3;'>En utilisant le modèle de la question 7, faire le test d'hétéroscédasticité de forme linéaire en donnant la p-valeur. Déterminer la ou les sources d’hétéroscédasticité et corriger avec les méthodes vues en cours. Comparer les écarts-types des coefficients estimés avec ceux obtenus à la question 7. Commenter.</h4>"
   ]
  },
  {
   "cell_type": "code",
   "execution_count": null,
   "id": "82e174d7",
   "metadata": {},
   "outputs": [],
   "source": []
  },
  {
   "cell_type": "markdown",
   "id": "7932e545",
   "metadata": {},
   "source": [
    "<h3 style='color: #026be3;'>Question 1.15</h3>\n",
    "<h4 style='color: #026be3;'>Tester le changement de structure de la question 8 entre les femmes qui ont plus de 43 ans et les autres : test sur l'ensemble des coefficients. Commentez et donnez les p-valeurs.</h4>"
   ]
  },
  {
   "cell_type": "code",
   "execution_count": null,
   "id": "603f1128",
   "metadata": {},
   "outputs": [],
   "source": []
  },
  {
   "cell_type": "markdown",
   "id": "0341960a",
   "metadata": {},
   "source": [
    "<h3 style='color: #026be3;'>Question 1.16</h3>\n",
    "<h4 style='color: #026be3;'>Refaire la question 15 en supposant que seuls les rendements de l’éducation et de l’expérience professionnelle changent selon l’âge de la femme. Formuler l’hypothèse H0 et tester-la. Donnez la p-valeur.</h4>"
   ]
  },
  {
   "cell_type": "code",
   "execution_count": null,
   "id": "aa9b899a",
   "metadata": {},
   "outputs": [],
   "source": []
  },
  {
   "cell_type": "markdown",
   "id": "bb7f63ef",
   "metadata": {},
   "source": [
    "<hr>"
   ]
  },
  {
   "cell_type": "markdown",
   "id": "33ab4925",
   "metadata": {},
   "source": [
    "<div style='background-color: #ffffff; color: #910c22; border: 5px solid #910c22; padding: 20px 40px;'>\n",
    "    <h1 style='font-size: 32px; padding: 0px; margin: 0px; margin-bottom: 5px;'>Part 2</h1>\n",
    "    <h2 style='font-size: 20px; padding: 0px; margin: 0px; font-style: italic;'>Time series</h2>\n",
    "</div>\n",
    "\n",
    "*[Click here](./Part_2.pdf) to open the statement provided by the teacher*"
   ]
  },
  {
   "cell_type": "markdown",
   "id": "c28bbced",
   "metadata": {},
   "source": [
    "<h3 style='color: #910c22;'>Question 2.1</h3>\n",
    "<h4 style='color: #910c22;'>Importer les données du fichier quarterly.xls (corriger le problème éventuel d’observations manquantes).</h4>"
   ]
  },
  {
   "cell_type": "code",
   "execution_count": 161,
   "id": "f43634b2",
   "metadata": {},
   "outputs": [],
   "source": [
    "df = pd.read_excel(FILEPATH_2)"
   ]
  },
  {
   "cell_type": "code",
   "execution_count": 162,
   "id": "f01b9b87",
   "metadata": {
    "scrolled": true
   },
   "outputs": [
    {
     "data": {
      "text/html": [
       "<div>\n",
       "<style scoped>\n",
       "    .dataframe tbody tr th:only-of-type {\n",
       "        vertical-align: middle;\n",
       "    }\n",
       "\n",
       "    .dataframe tbody tr th {\n",
       "        vertical-align: top;\n",
       "    }\n",
       "\n",
       "    .dataframe thead th {\n",
       "        text-align: right;\n",
       "    }\n",
       "</style>\n",
       "<table border=\"1\" class=\"dataframe\">\n",
       "  <thead>\n",
       "    <tr style=\"text-align: right;\">\n",
       "      <th></th>\n",
       "      <th>DATE</th>\n",
       "      <th>FFR</th>\n",
       "      <th>Tbill</th>\n",
       "      <th>Tb1yr</th>\n",
       "      <th>r5</th>\n",
       "      <th>r10</th>\n",
       "      <th>PPINSA</th>\n",
       "      <th>Finished</th>\n",
       "      <th>CPI</th>\n",
       "      <th>CPICORE</th>\n",
       "      <th>M1NSA</th>\n",
       "      <th>M2SA</th>\n",
       "      <th>M2NSA</th>\n",
       "      <th>Unemp</th>\n",
       "      <th>IndProd</th>\n",
       "      <th>RGDP</th>\n",
       "      <th>Potent</th>\n",
       "      <th>Deflator</th>\n",
       "      <th>Curr</th>\n",
       "    </tr>\n",
       "  </thead>\n",
       "  <tbody>\n",
       "    <tr>\n",
       "      <th>0</th>\n",
       "      <td>1960Q1</td>\n",
       "      <td>3.93</td>\n",
       "      <td>3.87</td>\n",
       "      <td>4.57</td>\n",
       "      <td>4.64</td>\n",
       "      <td>4.49</td>\n",
       "      <td>31.67</td>\n",
       "      <td>33.20</td>\n",
       "      <td>29.40</td>\n",
       "      <td>18.92</td>\n",
       "      <td>140.53</td>\n",
       "      <td>896.1</td>\n",
       "      <td>299.40</td>\n",
       "      <td>5.13</td>\n",
       "      <td>23.93</td>\n",
       "      <td>2845.3</td>\n",
       "      <td>2824.2</td>\n",
       "      <td>18.521</td>\n",
       "      <td>31.830</td>\n",
       "    </tr>\n",
       "    <tr>\n",
       "      <th>1</th>\n",
       "      <td>1960Q2</td>\n",
       "      <td>3.70</td>\n",
       "      <td>2.99</td>\n",
       "      <td>3.87</td>\n",
       "      <td>4.30</td>\n",
       "      <td>4.26</td>\n",
       "      <td>31.73</td>\n",
       "      <td>33.40</td>\n",
       "      <td>29.57</td>\n",
       "      <td>19.00</td>\n",
       "      <td>138.40</td>\n",
       "      <td>903.3</td>\n",
       "      <td>300.03</td>\n",
       "      <td>5.23</td>\n",
       "      <td>23.41</td>\n",
       "      <td>2832.0</td>\n",
       "      <td>2851.2</td>\n",
       "      <td>18.579</td>\n",
       "      <td>31.862</td>\n",
       "    </tr>\n",
       "    <tr>\n",
       "      <th>2</th>\n",
       "      <td>1960Q3</td>\n",
       "      <td>2.94</td>\n",
       "      <td>2.36</td>\n",
       "      <td>3.07</td>\n",
       "      <td>3.67</td>\n",
       "      <td>3.83</td>\n",
       "      <td>31.63</td>\n",
       "      <td>33.43</td>\n",
       "      <td>29.59</td>\n",
       "      <td>19.07</td>\n",
       "      <td>139.60</td>\n",
       "      <td>919.4</td>\n",
       "      <td>305.50</td>\n",
       "      <td>5.53</td>\n",
       "      <td>23.02</td>\n",
       "      <td>2836.6</td>\n",
       "      <td>2878.7</td>\n",
       "      <td>18.648</td>\n",
       "      <td>32.217</td>\n",
       "    </tr>\n",
       "    <tr>\n",
       "      <th>3</th>\n",
       "      <td>1960Q4</td>\n",
       "      <td>2.30</td>\n",
       "      <td>2.31</td>\n",
       "      <td>2.99</td>\n",
       "      <td>3.75</td>\n",
       "      <td>3.89</td>\n",
       "      <td>31.70</td>\n",
       "      <td>33.67</td>\n",
       "      <td>29.78</td>\n",
       "      <td>19.14</td>\n",
       "      <td>142.67</td>\n",
       "      <td>932.8</td>\n",
       "      <td>312.30</td>\n",
       "      <td>6.27</td>\n",
       "      <td>22.47</td>\n",
       "      <td>2800.2</td>\n",
       "      <td>2906.7</td>\n",
       "      <td>18.700</td>\n",
       "      <td>32.624</td>\n",
       "    </tr>\n",
       "    <tr>\n",
       "      <th>4</th>\n",
       "      <td>1961Q1</td>\n",
       "      <td>2.00</td>\n",
       "      <td>2.35</td>\n",
       "      <td>2.87</td>\n",
       "      <td>3.64</td>\n",
       "      <td>3.79</td>\n",
       "      <td>31.80</td>\n",
       "      <td>33.63</td>\n",
       "      <td>29.84</td>\n",
       "      <td>19.17</td>\n",
       "      <td>142.23</td>\n",
       "      <td>948.9</td>\n",
       "      <td>317.10</td>\n",
       "      <td>6.80</td>\n",
       "      <td>22.13</td>\n",
       "      <td>2816.9</td>\n",
       "      <td>2934.8</td>\n",
       "      <td>18.743</td>\n",
       "      <td>32.073</td>\n",
       "    </tr>\n",
       "  </tbody>\n",
       "</table>\n",
       "</div>"
      ],
      "text/plain": [
       "     DATE   FFR  Tbill  Tb1yr    r5   r10  PPINSA  Finished    CPI  CPICORE  \\\n",
       "0  1960Q1  3.93   3.87   4.57  4.64  4.49   31.67     33.20  29.40    18.92   \n",
       "1  1960Q2  3.70   2.99   3.87  4.30  4.26   31.73     33.40  29.57    19.00   \n",
       "2  1960Q3  2.94   2.36   3.07  3.67  3.83   31.63     33.43  29.59    19.07   \n",
       "3  1960Q4  2.30   2.31   2.99  3.75  3.89   31.70     33.67  29.78    19.14   \n",
       "4  1961Q1  2.00   2.35   2.87  3.64  3.79   31.80     33.63  29.84    19.17   \n",
       "\n",
       "    M1NSA   M2SA   M2NSA  Unemp  IndProd    RGDP  Potent  Deflator    Curr  \n",
       "0  140.53  896.1  299.40   5.13    23.93  2845.3  2824.2    18.521  31.830  \n",
       "1  138.40  903.3  300.03   5.23    23.41  2832.0  2851.2    18.579  31.862  \n",
       "2  139.60  919.4  305.50   5.53    23.02  2836.6  2878.7    18.648  32.217  \n",
       "3  142.67  932.8  312.30   6.27    22.47  2800.2  2906.7    18.700  32.624  \n",
       "4  142.23  948.9  317.10   6.80    22.13  2816.9  2934.8    18.743  32.073  "
      ]
     },
     "execution_count": 162,
     "metadata": {},
     "output_type": "execute_result"
    }
   ],
   "source": [
    "df.head(5)"
   ]
  },
  {
   "cell_type": "code",
   "execution_count": 163,
   "id": "fd5bed57",
   "metadata": {
    "scrolled": true
   },
   "outputs": [
    {
     "data": {
      "text/html": [
       "<div>\n",
       "<style scoped>\n",
       "    .dataframe tbody tr th:only-of-type {\n",
       "        vertical-align: middle;\n",
       "    }\n",
       "\n",
       "    .dataframe tbody tr th {\n",
       "        vertical-align: top;\n",
       "    }\n",
       "\n",
       "    .dataframe thead th {\n",
       "        text-align: right;\n",
       "    }\n",
       "</style>\n",
       "<table border=\"1\" class=\"dataframe\">\n",
       "  <thead>\n",
       "    <tr style=\"text-align: right;\">\n",
       "      <th></th>\n",
       "      <th>DATE</th>\n",
       "      <th>FFR</th>\n",
       "      <th>Tbill</th>\n",
       "      <th>Tb1yr</th>\n",
       "      <th>r5</th>\n",
       "      <th>r10</th>\n",
       "      <th>PPINSA</th>\n",
       "      <th>Finished</th>\n",
       "      <th>CPI</th>\n",
       "      <th>CPICORE</th>\n",
       "      <th>M1NSA</th>\n",
       "      <th>M2SA</th>\n",
       "      <th>M2NSA</th>\n",
       "      <th>Unemp</th>\n",
       "      <th>IndProd</th>\n",
       "      <th>RGDP</th>\n",
       "      <th>Potent</th>\n",
       "      <th>Deflator</th>\n",
       "      <th>Curr</th>\n",
       "    </tr>\n",
       "  </thead>\n",
       "  <tbody>\n",
       "    <tr>\n",
       "      <th>209</th>\n",
       "      <td>2012Q2</td>\n",
       "      <td>0.15</td>\n",
       "      <td>0.09</td>\n",
       "      <td>0.19</td>\n",
       "      <td>0.79</td>\n",
       "      <td>1.82</td>\n",
       "      <td>201.80</td>\n",
       "      <td>192.83</td>\n",
       "      <td>228.84</td>\n",
       "      <td>113.60</td>\n",
       "      <td>2258.30</td>\n",
       "      <td>29611.6</td>\n",
       "      <td>9888.97</td>\n",
       "      <td>8.17</td>\n",
       "      <td>97.27</td>\n",
       "      <td>13548.5</td>\n",
       "      <td>14379.3</td>\n",
       "      <td>115.035</td>\n",
       "      <td>1104.500</td>\n",
       "    </tr>\n",
       "    <tr>\n",
       "      <th>210</th>\n",
       "      <td>2012Q3</td>\n",
       "      <td>0.14</td>\n",
       "      <td>0.10</td>\n",
       "      <td>0.18</td>\n",
       "      <td>0.67</td>\n",
       "      <td>1.64</td>\n",
       "      <td>202.40</td>\n",
       "      <td>195.20</td>\n",
       "      <td>230.03</td>\n",
       "      <td>113.91</td>\n",
       "      <td>2326.47</td>\n",
       "      <td>30251.4</td>\n",
       "      <td>10029.87</td>\n",
       "      <td>8.03</td>\n",
       "      <td>97.39</td>\n",
       "      <td>13652.5</td>\n",
       "      <td>14441.9</td>\n",
       "      <td>115.810</td>\n",
       "      <td>1119.187</td>\n",
       "    </tr>\n",
       "    <tr>\n",
       "      <th>211</th>\n",
       "      <td>2012Q4</td>\n",
       "      <td>0.16</td>\n",
       "      <td>0.09</td>\n",
       "      <td>0.17</td>\n",
       "      <td>0.69</td>\n",
       "      <td>1.71</td>\n",
       "      <td>202.27</td>\n",
       "      <td>196.20</td>\n",
       "      <td>231.28</td>\n",
       "      <td>114.18</td>\n",
       "      <td>2436.73</td>\n",
       "      <td>30938.8</td>\n",
       "      <td>10319.60</td>\n",
       "      <td>7.83</td>\n",
       "      <td>98.01</td>\n",
       "      <td>13665.4</td>\n",
       "      <td>14505.4</td>\n",
       "      <td>116.089</td>\n",
       "      <td>1147.623</td>\n",
       "    </tr>\n",
       "  </tbody>\n",
       "</table>\n",
       "</div>"
      ],
      "text/plain": [
       "       DATE   FFR  Tbill  Tb1yr    r5   r10  PPINSA  Finished     CPI  \\\n",
       "209  2012Q2  0.15   0.09   0.19  0.79  1.82  201.80    192.83  228.84   \n",
       "210  2012Q3  0.14   0.10   0.18  0.67  1.64  202.40    195.20  230.03   \n",
       "211  2012Q4  0.16   0.09   0.17  0.69  1.71  202.27    196.20  231.28   \n",
       "\n",
       "     CPICORE    M1NSA     M2SA     M2NSA  Unemp  IndProd     RGDP   Potent  \\\n",
       "209   113.60  2258.30  29611.6   9888.97   8.17    97.27  13548.5  14379.3   \n",
       "210   113.91  2326.47  30251.4  10029.87   8.03    97.39  13652.5  14441.9   \n",
       "211   114.18  2436.73  30938.8  10319.60   7.83    98.01  13665.4  14505.4   \n",
       "\n",
       "     Deflator      Curr  \n",
       "209   115.035  1104.500  \n",
       "210   115.810  1119.187  \n",
       "211   116.089  1147.623  "
      ]
     },
     "execution_count": 163,
     "metadata": {},
     "output_type": "execute_result"
    }
   ],
   "source": [
    "df.tail(3)"
   ]
  },
  {
   "cell_type": "code",
   "execution_count": 164,
   "id": "d551e5bc",
   "metadata": {},
   "outputs": [
    {
     "data": {
      "text/plain": [
       "(212, 19)"
      ]
     },
     "execution_count": 164,
     "metadata": {},
     "output_type": "execute_result"
    }
   ],
   "source": [
    "df.shape"
   ]
  },
  {
   "cell_type": "code",
   "execution_count": 165,
   "id": "bc151fe4",
   "metadata": {
    "scrolled": true
   },
   "outputs": [
    {
     "name": "stdout",
     "output_type": "stream",
     "text": [
      "<class 'pandas.core.frame.DataFrame'>\n",
      "RangeIndex: 212 entries, 0 to 211\n",
      "Data columns (total 19 columns):\n",
      " #   Column    Non-Null Count  Dtype  \n",
      "---  ------    --------------  -----  \n",
      " 0   DATE      212 non-null    object \n",
      " 1   FFR       212 non-null    float64\n",
      " 2   Tbill     212 non-null    float64\n",
      " 3   Tb1yr     212 non-null    float64\n",
      " 4   r5        212 non-null    float64\n",
      " 5   r10       212 non-null    float64\n",
      " 6   PPINSA    212 non-null    float64\n",
      " 7   Finished  212 non-null    float64\n",
      " 8   CPI       212 non-null    float64\n",
      " 9   CPICORE   212 non-null    float64\n",
      " 10  M1NSA     212 non-null    float64\n",
      " 11  M2SA      212 non-null    float64\n",
      " 12  M2NSA     212 non-null    float64\n",
      " 13  Unemp     212 non-null    float64\n",
      " 14  IndProd   212 non-null    float64\n",
      " 15  RGDP      212 non-null    float64\n",
      " 16  Potent    212 non-null    float64\n",
      " 17  Deflator  212 non-null    float64\n",
      " 18  Curr      212 non-null    float64\n",
      "dtypes: float64(18), object(1)\n",
      "memory usage: 31.6+ KB\n"
     ]
    }
   ],
   "source": [
    "df.info()"
   ]
  },
  {
   "cell_type": "markdown",
   "id": "b271642e",
   "metadata": {},
   "source": [
    "We can see that there are no missing values in this dataset. However, as asked, we make sure of dropping them using `df.dropna()`"
   ]
  },
  {
   "cell_type": "code",
   "execution_count": 166,
   "id": "f65a3d1c",
   "metadata": {},
   "outputs": [],
   "source": [
    "df = df.dropna()"
   ]
  },
  {
   "cell_type": "markdown",
   "id": "abfe8990",
   "metadata": {},
   "source": [
    "We parse the datetimes to a more convenient format using `pd.to_datetime()`"
   ]
  },
  {
   "cell_type": "code",
   "execution_count": 167,
   "id": "cebbdd84",
   "metadata": {},
   "outputs": [],
   "source": [
    "df[\"DATE\"] = pd.to_datetime(df.DATE)"
   ]
  },
  {
   "cell_type": "code",
   "execution_count": 168,
   "id": "9b370e41",
   "metadata": {},
   "outputs": [
    {
     "data": {
      "text/html": [
       "<div>\n",
       "<style scoped>\n",
       "    .dataframe tbody tr th:only-of-type {\n",
       "        vertical-align: middle;\n",
       "    }\n",
       "\n",
       "    .dataframe tbody tr th {\n",
       "        vertical-align: top;\n",
       "    }\n",
       "\n",
       "    .dataframe thead th {\n",
       "        text-align: right;\n",
       "    }\n",
       "</style>\n",
       "<table border=\"1\" class=\"dataframe\">\n",
       "  <thead>\n",
       "    <tr style=\"text-align: right;\">\n",
       "      <th></th>\n",
       "      <th>DATE</th>\n",
       "      <th>FFR</th>\n",
       "      <th>Tbill</th>\n",
       "      <th>Tb1yr</th>\n",
       "      <th>r5</th>\n",
       "      <th>r10</th>\n",
       "      <th>PPINSA</th>\n",
       "      <th>Finished</th>\n",
       "      <th>CPI</th>\n",
       "      <th>CPICORE</th>\n",
       "      <th>M1NSA</th>\n",
       "      <th>M2SA</th>\n",
       "      <th>M2NSA</th>\n",
       "      <th>Unemp</th>\n",
       "      <th>IndProd</th>\n",
       "      <th>RGDP</th>\n",
       "      <th>Potent</th>\n",
       "      <th>Deflator</th>\n",
       "      <th>Curr</th>\n",
       "    </tr>\n",
       "  </thead>\n",
       "  <tbody>\n",
       "    <tr>\n",
       "      <th>0</th>\n",
       "      <td>1960-01-01</td>\n",
       "      <td>3.93</td>\n",
       "      <td>3.87</td>\n",
       "      <td>4.57</td>\n",
       "      <td>4.64</td>\n",
       "      <td>4.49</td>\n",
       "      <td>31.67</td>\n",
       "      <td>33.2</td>\n",
       "      <td>29.4</td>\n",
       "      <td>18.92</td>\n",
       "      <td>140.53</td>\n",
       "      <td>896.1</td>\n",
       "      <td>299.4</td>\n",
       "      <td>5.13</td>\n",
       "      <td>23.93</td>\n",
       "      <td>2845.3</td>\n",
       "      <td>2824.2</td>\n",
       "      <td>18.521</td>\n",
       "      <td>31.83</td>\n",
       "    </tr>\n",
       "  </tbody>\n",
       "</table>\n",
       "</div>"
      ],
      "text/plain": [
       "        DATE   FFR  Tbill  Tb1yr    r5   r10  PPINSA  Finished   CPI  CPICORE  \\\n",
       "0 1960-01-01  3.93   3.87   4.57  4.64  4.49   31.67      33.2  29.4    18.92   \n",
       "\n",
       "    M1NSA   M2SA  M2NSA  Unemp  IndProd    RGDP  Potent  Deflator   Curr  \n",
       "0  140.53  896.1  299.4   5.13    23.93  2845.3  2824.2    18.521  31.83  "
      ]
     },
     "execution_count": 168,
     "metadata": {},
     "output_type": "execute_result"
    }
   ],
   "source": [
    "df.head(1)"
   ]
  },
  {
   "cell_type": "markdown",
   "id": "fac9d4bc",
   "metadata": {},
   "source": [
    "We will make sure that the dataset is not missing information from any quarter:"
   ]
  },
  {
   "cell_type": "code",
   "execution_count": 169,
   "id": "cf564081",
   "metadata": {},
   "outputs": [
    {
     "data": {
      "text/plain": [
       "0"
      ]
     },
     "execution_count": 169,
     "metadata": {},
     "output_type": "execute_result"
    }
   ],
   "source": [
    "first_date = df.DATE[0]\n",
    "last_date = df.DATE[df.shape[0] - 1]\n",
    "qs = pd.date_range(start=first_date, end=last_date, freq='QS')\n",
    "len(qs.difference(df.DATE))"
   ]
  },
  {
   "cell_type": "markdown",
   "id": "a32626f5",
   "metadata": {},
   "source": [
    "With this result we have shown that there is no value missing for any quarter."
   ]
  },
  {
   "cell_type": "markdown",
   "id": "e2979897",
   "metadata": {},
   "source": [
    "<h3 style='color: #910c22;'>Question 2.2</h3>\n",
    "<h4 style='color: #910c22;'>Calculer inf, le taux d’inflation à partir de la variable CPI. Faire un graphique dans le temps de inf. Commentez.</h4>"
   ]
  },
  {
   "cell_type": "markdown",
   "id": "0e655210",
   "metadata": {},
   "source": [
    "The formula for computing inflation given the CPI can be written as:\n",
    "\n",
    "$$inf = 100 * \\frac{CPI_{final} - CPI_{initial}}{CPI_{initial}}$$"
   ]
  },
  {
   "cell_type": "code",
   "execution_count": 170,
   "id": "bc28e8f8",
   "metadata": {},
   "outputs": [],
   "source": [
    "# Create a new column to get the CPI from the previous quarter\n",
    "df[\"prev_CPI\"] = df.CPI.shift(1)"
   ]
  },
  {
   "cell_type": "code",
   "execution_count": 171,
   "id": "d4dd2c89",
   "metadata": {},
   "outputs": [
    {
     "data": {
      "text/html": [
       "<div>\n",
       "<style scoped>\n",
       "    .dataframe tbody tr th:only-of-type {\n",
       "        vertical-align: middle;\n",
       "    }\n",
       "\n",
       "    .dataframe tbody tr th {\n",
       "        vertical-align: top;\n",
       "    }\n",
       "\n",
       "    .dataframe thead th {\n",
       "        text-align: right;\n",
       "    }\n",
       "</style>\n",
       "<table border=\"1\" class=\"dataframe\">\n",
       "  <thead>\n",
       "    <tr style=\"text-align: right;\">\n",
       "      <th></th>\n",
       "      <th>DATE</th>\n",
       "      <th>FFR</th>\n",
       "      <th>Tbill</th>\n",
       "      <th>Tb1yr</th>\n",
       "      <th>r5</th>\n",
       "      <th>r10</th>\n",
       "      <th>PPINSA</th>\n",
       "      <th>Finished</th>\n",
       "      <th>CPI</th>\n",
       "      <th>CPICORE</th>\n",
       "      <th>M1NSA</th>\n",
       "      <th>M2SA</th>\n",
       "      <th>M2NSA</th>\n",
       "      <th>Unemp</th>\n",
       "      <th>IndProd</th>\n",
       "      <th>RGDP</th>\n",
       "      <th>Potent</th>\n",
       "      <th>Deflator</th>\n",
       "      <th>Curr</th>\n",
       "      <th>prev_CPI</th>\n",
       "    </tr>\n",
       "  </thead>\n",
       "  <tbody>\n",
       "    <tr>\n",
       "      <th>0</th>\n",
       "      <td>1960-01-01</td>\n",
       "      <td>3.93</td>\n",
       "      <td>3.87</td>\n",
       "      <td>4.57</td>\n",
       "      <td>4.64</td>\n",
       "      <td>4.49</td>\n",
       "      <td>31.67</td>\n",
       "      <td>33.20</td>\n",
       "      <td>29.40</td>\n",
       "      <td>18.92</td>\n",
       "      <td>140.53</td>\n",
       "      <td>896.1</td>\n",
       "      <td>299.40</td>\n",
       "      <td>5.13</td>\n",
       "      <td>23.93</td>\n",
       "      <td>2845.3</td>\n",
       "      <td>2824.2</td>\n",
       "      <td>18.521</td>\n",
       "      <td>31.830</td>\n",
       "      <td>NaN</td>\n",
       "    </tr>\n",
       "    <tr>\n",
       "      <th>1</th>\n",
       "      <td>1960-04-01</td>\n",
       "      <td>3.70</td>\n",
       "      <td>2.99</td>\n",
       "      <td>3.87</td>\n",
       "      <td>4.30</td>\n",
       "      <td>4.26</td>\n",
       "      <td>31.73</td>\n",
       "      <td>33.40</td>\n",
       "      <td>29.57</td>\n",
       "      <td>19.00</td>\n",
       "      <td>138.40</td>\n",
       "      <td>903.3</td>\n",
       "      <td>300.03</td>\n",
       "      <td>5.23</td>\n",
       "      <td>23.41</td>\n",
       "      <td>2832.0</td>\n",
       "      <td>2851.2</td>\n",
       "      <td>18.579</td>\n",
       "      <td>31.862</td>\n",
       "      <td>29.40</td>\n",
       "    </tr>\n",
       "    <tr>\n",
       "      <th>2</th>\n",
       "      <td>1960-07-01</td>\n",
       "      <td>2.94</td>\n",
       "      <td>2.36</td>\n",
       "      <td>3.07</td>\n",
       "      <td>3.67</td>\n",
       "      <td>3.83</td>\n",
       "      <td>31.63</td>\n",
       "      <td>33.43</td>\n",
       "      <td>29.59</td>\n",
       "      <td>19.07</td>\n",
       "      <td>139.60</td>\n",
       "      <td>919.4</td>\n",
       "      <td>305.50</td>\n",
       "      <td>5.53</td>\n",
       "      <td>23.02</td>\n",
       "      <td>2836.6</td>\n",
       "      <td>2878.7</td>\n",
       "      <td>18.648</td>\n",
       "      <td>32.217</td>\n",
       "      <td>29.57</td>\n",
       "    </tr>\n",
       "  </tbody>\n",
       "</table>\n",
       "</div>"
      ],
      "text/plain": [
       "        DATE   FFR  Tbill  Tb1yr    r5   r10  PPINSA  Finished    CPI  \\\n",
       "0 1960-01-01  3.93   3.87   4.57  4.64  4.49   31.67     33.20  29.40   \n",
       "1 1960-04-01  3.70   2.99   3.87  4.30  4.26   31.73     33.40  29.57   \n",
       "2 1960-07-01  2.94   2.36   3.07  3.67  3.83   31.63     33.43  29.59   \n",
       "\n",
       "   CPICORE   M1NSA   M2SA   M2NSA  Unemp  IndProd    RGDP  Potent  Deflator  \\\n",
       "0    18.92  140.53  896.1  299.40   5.13    23.93  2845.3  2824.2    18.521   \n",
       "1    19.00  138.40  903.3  300.03   5.23    23.41  2832.0  2851.2    18.579   \n",
       "2    19.07  139.60  919.4  305.50   5.53    23.02  2836.6  2878.7    18.648   \n",
       "\n",
       "     Curr  prev_CPI  \n",
       "0  31.830       NaN  \n",
       "1  31.862     29.40  \n",
       "2  32.217     29.57  "
      ]
     },
     "execution_count": 171,
     "metadata": {},
     "output_type": "execute_result"
    }
   ],
   "source": [
    "df.head(3)"
   ]
  },
  {
   "cell_type": "code",
   "execution_count": 172,
   "id": "b40bbfd6",
   "metadata": {},
   "outputs": [],
   "source": [
    "df[\"inf\"] = 100 * ((df.CPI - df.prev_CPI) / df.prev_CPI)"
   ]
  },
  {
   "cell_type": "code",
   "execution_count": 173,
   "id": "b2179e61",
   "metadata": {
    "scrolled": true
   },
   "outputs": [
    {
     "data": {
      "image/png": "[encoded data removed]",
      "text/plain": [
       "<Figure size 640x480 with 1 Axes>"
      ]
     },
     "metadata": {},
     "output_type": "display_data"
    }
   ],
   "source": [
    "inf = df.inf.to_numpy()[1:]\n",
    "\n",
    "plt.plot(df.DATE[1:], inf)\n",
    "plt.title('Inflation by quarter (1960-2012)', fontsize=12)\n",
    "plt.xlabel('Time quarter')\n",
    "plt.ylabel('Inflation [%]')\n",
    "plt.xlim(df.DATE[1], last_date)\n",
    "plt.grid()\n",
    "plt.show()"
   ]
  },
  {
   "cell_type": "code",
   "execution_count": 174,
   "id": "9ae5b12b",
   "metadata": {},
   "outputs": [
    {
     "data": {
      "text/plain": [
       "-2.2891346065978335"
      ]
     },
     "execution_count": 174,
     "metadata": {},
     "output_type": "execute_result"
    }
   ],
   "source": [
    "df.inf.min()"
   ]
  },
  {
   "cell_type": "code",
   "execution_count": 175,
   "id": "cb60ec6a",
   "metadata": {
    "scrolled": true
   },
   "outputs": [
    {
     "data": {
      "text/plain": [
       "count    211.000000\n",
       "mean       0.985290\n",
       "std        0.774504\n",
       "min       -2.289135\n",
       "25%        0.541995\n",
       "50%        0.857677\n",
       "75%        1.221306\n",
       "max        3.945811\n",
       "Name: inf, dtype: float64"
      ]
     },
     "execution_count": 175,
     "metadata": {},
     "output_type": "execute_result"
    }
   ],
   "source": [
    "df.inf.describe()"
   ]
  },
  {
   "cell_type": "code",
   "execution_count": 176,
   "id": "7b818208",
   "metadata": {},
   "outputs": [
    {
     "name": "stdout",
     "output_type": "stream",
     "text": [
      "Minimum inflation date: 2008-10-01\n",
      "Maximum inflation date: 1980-01-01\n"
     ]
    }
   ],
   "source": [
    "min_inf_date = pd.Timestamp(df[df.inf == df.inf.min()].DATE.values[0]).date()\n",
    "max_inf_date = pd.Timestamp(df[df.inf == df.inf.max()].DATE.values[0]).date()\n",
    "print(f\"Minimum inflation date: {min_inf_date}\")\n",
    "print(f\"Maximum inflation date: {max_inf_date}\")"
   ]
  },
  {
   "cell_type": "markdown",
   "id": "6a0fcb47",
   "metadata": {},
   "source": [
    "We can observe a general tendency where the inflation is always around 1% by quarter. However, between 1970 and 1980 we find some **peaks of growth**, reaching a **maximum value of almost 4%** by quarter in **1980**. After some research, we may conclude that this was mainly due to oil crisis. Then, we find the **minimum peak in 2008**, probably due to the [collapse of Lehman Brothers](https://www.investopedia.com/articles/economics/09/lehman-brothers-collapse.asp#:~:text=Lehman%20Brothers%20filed%20for%20bankruptcy,the%20financial%20and%20investment%20world.)."
   ]
  },
  {
   "cell_type": "markdown",
   "id": "67f45bd4",
   "metadata": {},
   "source": [
    "<h3 style='color: #910c22;'>Question 2.3</h3>\n",
    "<h4 style='color: #910c22;'>Interpréter l'autocorrélogramme et l'autocorrélogrammes partiels de inf. Quelle est la différence entre ces deux graphiques ?</h4>"
   ]
  },
  {
   "cell_type": "markdown",
   "id": "c97ccde7",
   "metadata": {},
   "source": [
    "The autocorrelogram for `inf` by definition is, given a `lag k`, the autocorrelation between the values of the series that are `k` intervals away.\n",
    "\n",
    "*Observation: value for lag `k = 0` will always be `1`!*"
   ]
  },
  {
   "cell_type": "code",
   "execution_count": 177,
   "id": "3c61a0d2",
   "metadata": {
    "scrolled": true
   },
   "outputs": [
    {
     "data": {
      "image/png": "[encoded data removed]",
      "text/plain": [
       "<Figure size 640x480 with 1 Axes>"
      ]
     },
     "metadata": {},
     "output_type": "display_data"
    }
   ],
   "source": [
    "plot_acf(inf)\n",
    "plt.title('Autocorrelogram for inflation by quarter (1960-2012)', fontsize=12)\n",
    "plt.xlabel('Time quarter')\n",
    "plt.ylabel('Autocorrelation')\n",
    "plt.ylim(-1.1, 1.1)\n",
    "plt.grid()\n",
    "plt.show()"
   ]
  },
  {
   "cell_type": "markdown",
   "id": "c2fe8c20",
   "metadata": {},
   "source": [
    "The values outside the blue region have a high statistical confidence (above 95%). We see that there is a high correlation for every value outside this region, in particular, for lag until `k=6` we find that the correlation is higher that 0.5."
   ]
  },
  {
   "cell_type": "markdown",
   "id": "d6bd03b6",
   "metadata": {},
   "source": [
    "Now we are interested in the partial autocorrelagram, that is the same as the autocorrelagram, but taking into account the values for intermediate intervals. This method allows us to mitigate the effects of the observations between `t` and `t - k` (`lag k`), removing indirect correlations included in the autocorrelogram.\n",
    "\n",
    "*Observation: we can expect, by definition, that for lag `k = 0` and `k = 1`, values will be the same that the ones seen in the previous graphic.*"
   ]
  },
  {
   "cell_type": "code",
   "execution_count": 178,
   "id": "eed787ee",
   "metadata": {
    "scrolled": true
   },
   "outputs": [
    {
     "name": "stderr",
     "output_type": "stream",
     "text": [
      "/home/mparafati/.local/lib/python3.10/site-packages/statsmodels/graphics/tsaplots.py:348: FutureWarning: The default method 'yw' can produce PACF values outside of the [-1,1] interval. After 0.13, the default will change tounadjusted Yule-Walker ('ywm'). You can use this method now by setting method='ywm'.\n",
      "  warnings.warn(\n"
     ]
    },
    {
     "data": {
      "image/png": "[encoded data removed]",
      "text/plain": [
       "<Figure size 640x480 with 1 Axes>"
      ]
     },
     "metadata": {},
     "output_type": "display_data"
    }
   ],
   "source": [
    "plot_pacf(inf)\n",
    "plt.title('Partial autocorrelogram for inflation by quarter (1960-2012)', fontsize=12)\n",
    "plt.xlabel('Lag')\n",
    "plt.ylabel('Autocorrelation')\n",
    "plt.ylim(-1.1, 1.1)\n",
    "plt.grid()\n",
    "plt.show()"
   ]
  },
  {
   "cell_type": "markdown",
   "id": "52e023e9",
   "metadata": {},
   "source": [
    "By definition, for any Autoregressive model of order `k`, the partial autocorrelations are 0 for every lag beyond `k`. Given that, in our case, we have values until `k = 3` that are non-zero and outside the blue region (confidence over 95%), we can estimate that inflation can be predicted with a model of order `k = 3`."
   ]
  },
  {
   "cell_type": "markdown",
   "id": "89d0a7c1",
   "metadata": {},
   "source": [
    "<h3 style='color: #910c22;'>Question 2.4</h3>\n",
    "<h4 style='color: #910c22;'>Quelle est la différence entre la stationnarité et l'ergodicité ? Pourquoi a-t-on besoin de ces deux conditions ?</h4>"
   ]
  },
  {
   "cell_type": "markdown",
   "id": "7a07260b",
   "metadata": {},
   "source": [
    "In the context of stationary series, we have:\n",
    "\n",
    "* A **stationary time series** if its properties do not depend on the time at which the series is observed. Future and past are similar.\n",
    "* A **ergodicity time series** if its statistics can be deduced from any (large enough) random sample given from the process, meaning that they do not depend on the initial conditions.\n",
    "\n",
    "We need these conditions to be true, since they are the **basic assumptions needed** to perform time series analysis. They are also needed to apply the *ergodic theorem*, which allows us to estimate the expectation of the process given the average of a sufficiently large sample."
   ]
  },
  {
   "cell_type": "markdown",
   "id": "cef5934c",
   "metadata": {},
   "source": [
    "<h3 style='color: #910c22;'>Question 2.5</h3>\n",
    "<h4 style='color: #910c22;'>Proposer une modélisation AR(p) de inf, en utilisant tous les outils vus au cours.</h4>"
   ]
  },
  {
   "cell_type": "markdown",
   "id": "19bd3419",
   "metadata": {},
   "source": [
    "We are building an Auto Regression model for inf, and we want to discover which is the order that maximizes likelihood. From question 3, we are expecting a value of 3 to be the optimal order. However, we are using [`ar_select_order`](https://www.statsmodels.org/devel/generated/statsmodels.tsa.ar_model.ar_select_order.html) from `statsmodel` API for Time Series to check the optimal lag value:"
   ]
  },
  {
   "cell_type": "code",
   "execution_count": 179,
   "id": "d6971022",
   "metadata": {},
   "outputs": [
    {
     "data": {
      "text/plain": [
       "[1, 3]"
      ]
     },
     "execution_count": 179,
     "metadata": {},
     "output_type": "execute_result"
    }
   ],
   "source": [
    "model = ARSelectOrder(inf, maxlag=10, glob=True)\n",
    "model.ar_lags"
   ]
  },
  {
   "cell_type": "code",
   "execution_count": 180,
   "id": "dd94fa20",
   "metadata": {},
   "outputs": [
    {
     "name": "stdout",
     "output_type": "stream",
     "text": [
      "                            AutoReg Model Results                             \n",
      "==============================================================================\n",
      "Dep. Variable:                      y   No. Observations:                  211\n",
      "Model:              Restr. AutoReg(3)   Log Likelihood                -138.549\n",
      "Method:               Conditional MLE   S.D. of innovations              0.471\n",
      "Date:                Sun, 11 Dec 2022   AIC                            285.099\n",
      "Time:                        02:56:44   BIC                            298.449\n",
      "Sample:                             3   HQIC                           290.497\n",
      "                                  211                                         \n",
      "==============================================================================\n",
      "                 coef    std err          z      P>|z|      [0.025      0.975]\n",
      "------------------------------------------------------------------------------\n",
      "const          0.1352      0.056      2.394      0.017       0.025       0.246\n",
      "y.L1           0.5742      0.056     10.321      0.000       0.465       0.683\n",
      "y.L3           0.2894      0.056      5.207      0.000       0.180       0.398\n",
      "                                    Roots                                    \n",
      "=============================================================================\n",
      "                  Real          Imaginary           Modulus         Frequency\n",
      "-----------------------------------------------------------------------------\n",
      "AR.1            1.0896           -0.0000j            1.0896           -0.0000\n",
      "AR.2           -0.5448           -1.6955j            1.7808           -0.2995\n",
      "AR.3           -0.5448           +1.6955j            1.7808            0.2995\n",
      "-----------------------------------------------------------------------------\n"
     ]
    }
   ],
   "source": [
    "print(model.model.fit().summary())"
   ]
  },
  {
   "cell_type": "markdown",
   "id": "c90d068e",
   "metadata": {},
   "source": [
    "<h3 style='color: #910c22;'>Question 2.6</h3>\n",
    "<h4 style='color: #910c22;'>Estimer le modèle de la courbe de Philips qui explique le taux de chômage (Unemp) en fonction du taux d’inflation courant et une constante.</h4>"
   ]
  },
  {
   "cell_type": "code",
   "execution_count": 181,
   "id": "376cff5f",
   "metadata": {
    "scrolled": true
   },
   "outputs": [
    {
     "data": {
      "text/html": [
       "<div>\n",
       "<style scoped>\n",
       "    .dataframe tbody tr th:only-of-type {\n",
       "        vertical-align: middle;\n",
       "    }\n",
       "\n",
       "    .dataframe tbody tr th {\n",
       "        vertical-align: top;\n",
       "    }\n",
       "\n",
       "    .dataframe thead th {\n",
       "        text-align: right;\n",
       "    }\n",
       "</style>\n",
       "<table border=\"1\" class=\"dataframe\">\n",
       "  <thead>\n",
       "    <tr style=\"text-align: right;\">\n",
       "      <th></th>\n",
       "      <th>DATE</th>\n",
       "      <th>FFR</th>\n",
       "      <th>Tbill</th>\n",
       "      <th>Tb1yr</th>\n",
       "      <th>r5</th>\n",
       "      <th>r10</th>\n",
       "      <th>PPINSA</th>\n",
       "      <th>Finished</th>\n",
       "      <th>CPI</th>\n",
       "      <th>CPICORE</th>\n",
       "      <th>...</th>\n",
       "      <th>M2SA</th>\n",
       "      <th>M2NSA</th>\n",
       "      <th>Unemp</th>\n",
       "      <th>IndProd</th>\n",
       "      <th>RGDP</th>\n",
       "      <th>Potent</th>\n",
       "      <th>Deflator</th>\n",
       "      <th>Curr</th>\n",
       "      <th>prev_CPI</th>\n",
       "      <th>inf</th>\n",
       "    </tr>\n",
       "  </thead>\n",
       "  <tbody>\n",
       "    <tr>\n",
       "      <th>0</th>\n",
       "      <td>1960-01-01</td>\n",
       "      <td>3.93</td>\n",
       "      <td>3.87</td>\n",
       "      <td>4.57</td>\n",
       "      <td>4.64</td>\n",
       "      <td>4.49</td>\n",
       "      <td>31.67</td>\n",
       "      <td>33.20</td>\n",
       "      <td>29.40</td>\n",
       "      <td>18.92</td>\n",
       "      <td>...</td>\n",
       "      <td>896.1</td>\n",
       "      <td>299.40</td>\n",
       "      <td>5.13</td>\n",
       "      <td>23.93</td>\n",
       "      <td>2845.3</td>\n",
       "      <td>2824.2</td>\n",
       "      <td>18.521</td>\n",
       "      <td>31.830</td>\n",
       "      <td>NaN</td>\n",
       "      <td>NaN</td>\n",
       "    </tr>\n",
       "    <tr>\n",
       "      <th>1</th>\n",
       "      <td>1960-04-01</td>\n",
       "      <td>3.70</td>\n",
       "      <td>2.99</td>\n",
       "      <td>3.87</td>\n",
       "      <td>4.30</td>\n",
       "      <td>4.26</td>\n",
       "      <td>31.73</td>\n",
       "      <td>33.40</td>\n",
       "      <td>29.57</td>\n",
       "      <td>19.00</td>\n",
       "      <td>...</td>\n",
       "      <td>903.3</td>\n",
       "      <td>300.03</td>\n",
       "      <td>5.23</td>\n",
       "      <td>23.41</td>\n",
       "      <td>2832.0</td>\n",
       "      <td>2851.2</td>\n",
       "      <td>18.579</td>\n",
       "      <td>31.862</td>\n",
       "      <td>29.40</td>\n",
       "      <td>0.578231</td>\n",
       "    </tr>\n",
       "    <tr>\n",
       "      <th>2</th>\n",
       "      <td>1960-07-01</td>\n",
       "      <td>2.94</td>\n",
       "      <td>2.36</td>\n",
       "      <td>3.07</td>\n",
       "      <td>3.67</td>\n",
       "      <td>3.83</td>\n",
       "      <td>31.63</td>\n",
       "      <td>33.43</td>\n",
       "      <td>29.59</td>\n",
       "      <td>19.07</td>\n",
       "      <td>...</td>\n",
       "      <td>919.4</td>\n",
       "      <td>305.50</td>\n",
       "      <td>5.53</td>\n",
       "      <td>23.02</td>\n",
       "      <td>2836.6</td>\n",
       "      <td>2878.7</td>\n",
       "      <td>18.648</td>\n",
       "      <td>32.217</td>\n",
       "      <td>29.57</td>\n",
       "      <td>0.067636</td>\n",
       "    </tr>\n",
       "    <tr>\n",
       "      <th>3</th>\n",
       "      <td>1960-10-01</td>\n",
       "      <td>2.30</td>\n",
       "      <td>2.31</td>\n",
       "      <td>2.99</td>\n",
       "      <td>3.75</td>\n",
       "      <td>3.89</td>\n",
       "      <td>31.70</td>\n",
       "      <td>33.67</td>\n",
       "      <td>29.78</td>\n",
       "      <td>19.14</td>\n",
       "      <td>...</td>\n",
       "      <td>932.8</td>\n",
       "      <td>312.30</td>\n",
       "      <td>6.27</td>\n",
       "      <td>22.47</td>\n",
       "      <td>2800.2</td>\n",
       "      <td>2906.7</td>\n",
       "      <td>18.700</td>\n",
       "      <td>32.624</td>\n",
       "      <td>29.59</td>\n",
       "      <td>0.642109</td>\n",
       "    </tr>\n",
       "    <tr>\n",
       "      <th>4</th>\n",
       "      <td>1961-01-01</td>\n",
       "      <td>2.00</td>\n",
       "      <td>2.35</td>\n",
       "      <td>2.87</td>\n",
       "      <td>3.64</td>\n",
       "      <td>3.79</td>\n",
       "      <td>31.80</td>\n",
       "      <td>33.63</td>\n",
       "      <td>29.84</td>\n",
       "      <td>19.17</td>\n",
       "      <td>...</td>\n",
       "      <td>948.9</td>\n",
       "      <td>317.10</td>\n",
       "      <td>6.80</td>\n",
       "      <td>22.13</td>\n",
       "      <td>2816.9</td>\n",
       "      <td>2934.8</td>\n",
       "      <td>18.743</td>\n",
       "      <td>32.073</td>\n",
       "      <td>29.78</td>\n",
       "      <td>0.201478</td>\n",
       "    </tr>\n",
       "  </tbody>\n",
       "</table>\n",
       "<p>5 rows × 21 columns</p>\n",
       "</div>"
      ],
      "text/plain": [
       "        DATE   FFR  Tbill  Tb1yr    r5   r10  PPINSA  Finished    CPI  \\\n",
       "0 1960-01-01  3.93   3.87   4.57  4.64  4.49   31.67     33.20  29.40   \n",
       "1 1960-04-01  3.70   2.99   3.87  4.30  4.26   31.73     33.40  29.57   \n",
       "2 1960-07-01  2.94   2.36   3.07  3.67  3.83   31.63     33.43  29.59   \n",
       "3 1960-10-01  2.30   2.31   2.99  3.75  3.89   31.70     33.67  29.78   \n",
       "4 1961-01-01  2.00   2.35   2.87  3.64  3.79   31.80     33.63  29.84   \n",
       "\n",
       "   CPICORE  ...   M2SA   M2NSA  Unemp  IndProd    RGDP  Potent  Deflator  \\\n",
       "0    18.92  ...  896.1  299.40   5.13    23.93  2845.3  2824.2    18.521   \n",
       "1    19.00  ...  903.3  300.03   5.23    23.41  2832.0  2851.2    18.579   \n",
       "2    19.07  ...  919.4  305.50   5.53    23.02  2836.6  2878.7    18.648   \n",
       "3    19.14  ...  932.8  312.30   6.27    22.47  2800.2  2906.7    18.700   \n",
       "4    19.17  ...  948.9  317.10   6.80    22.13  2816.9  2934.8    18.743   \n",
       "\n",
       "     Curr  prev_CPI       inf  \n",
       "0  31.830       NaN       NaN  \n",
       "1  31.862     29.40  0.578231  \n",
       "2  32.217     29.57  0.067636  \n",
       "3  32.624     29.59  0.642109  \n",
       "4  32.073     29.78  0.201478  \n",
       "\n",
       "[5 rows x 21 columns]"
      ]
     },
     "execution_count": 181,
     "metadata": {},
     "output_type": "execute_result"
    }
   ],
   "source": [
    "df.head()"
   ]
  },
  {
   "cell_type": "markdown",
   "id": "ae71d652",
   "metadata": {},
   "source": [
    "We build a model as learned in the course:"
   ]
  },
  {
   "cell_type": "code",
   "execution_count": 182,
   "id": "c279c759",
   "metadata": {
    "scrolled": true
   },
   "outputs": [
    {
     "name": "stdout",
     "output_type": "stream",
     "text": [
      "                            OLS Regression Results                            \n",
      "==============================================================================\n",
      "Dep. Variable:                      y   R-squared:                       0.000\n",
      "Model:                            OLS   Adj. R-squared:                 -0.005\n",
      "Method:                 Least Squares   F-statistic:                   0.01214\n",
      "Date:                Sun, 11 Dec 2022   Prob (F-statistic):              0.912\n",
      "Time:                        02:56:45   Log-Likelihood:                -400.28\n",
      "No. Observations:                 211   AIC:                             804.6\n",
      "Df Residuals:                     209   BIC:                             811.3\n",
      "Df Model:                           1                                         \n",
      "Covariance Type:            nonrobust                                         \n",
      "==============================================================================\n",
      "                 coef    std err          t      P>|t|      [0.025      0.975]\n",
      "------------------------------------------------------------------------------\n",
      "const          6.0708      0.181     33.576      0.000       5.714       6.427\n",
      "x1             0.0159      0.144      0.110      0.912      -0.269       0.301\n",
      "==============================================================================\n",
      "Omnibus:                       13.872   Durbin-Watson:                   0.044\n",
      "Prob(Omnibus):                  0.001   Jarque-Bera (JB):               15.356\n",
      "Skew:                           0.660   Prob(JB):                     0.000463\n",
      "Kurtosis:                       2.937   Cond. No.                         2.99\n",
      "==============================================================================\n",
      "\n",
      "Notes:\n",
      "[1] Standard Errors assume that the covariance matrix of the errors is correctly specified.\n"
     ]
    }
   ],
   "source": [
    "unemp = df.Unemp[1:].to_numpy()\n",
    "y = unemp\n",
    "const = np.ones(y.shape)\n",
    "X = np.column_stack((const, inf))\n",
    "\n",
    "results = sm.OLS(y, X).fit()\n",
    "print(results.summary())"
   ]
  },
  {
   "cell_type": "markdown",
   "id": "2197b409",
   "metadata": {},
   "source": [
    "The estimated model would be:\n",
    "$$Unemp = 6.0708 + 0.0159 Inf$$"
   ]
  },
  {
   "cell_type": "markdown",
   "id": "1abdf289",
   "metadata": {},
   "source": [
    "<h3 style='color: #910c22;'>Question 2.7</h3>\n",
    "<h4 style='color: #910c22;'>Tester l’autocorrélation des erreurs.</h4>"
   ]
  },
  {
   "cell_type": "markdown",
   "id": "ca6ed061",
   "metadata": {},
   "source": [
    "We will first plot the residuals and their autocorrelagram:"
   ]
  },
  {
   "cell_type": "code",
   "execution_count": 183,
   "id": "7aa82572",
   "metadata": {},
   "outputs": [],
   "source": [
    "res = results.resid"
   ]
  },
  {
   "cell_type": "code",
   "execution_count": 184,
   "id": "a2195170",
   "metadata": {},
   "outputs": [
    {
     "data": {
      "image/png": "[encoded data removed]",
      "text/plain": [
       "<Figure size 640x480 with 1 Axes>"
      ]
     },
     "metadata": {},
     "output_type": "display_data"
    }
   ],
   "source": [
    "plt.plot(res)\n",
    "plt.title('Residuals for Phillips Curve estimation', fontsize=12)\n",
    "plt.show()"
   ]
  },
  {
   "cell_type": "code",
   "execution_count": 185,
   "id": "71be56cd",
   "metadata": {
    "scrolled": true
   },
   "outputs": [
    {
     "data": {
      "image/png": "[encoded data removed]",
      "text/plain": [
       "<Figure size 640x480 with 1 Axes>"
      ]
     },
     "metadata": {},
     "output_type": "display_data"
    }
   ],
   "source": [
    "plot_acf(res)\n",
    "plt.title('Autocorrelogram for residuals', fontsize=12)\n",
    "plt.ylim(-1.1, 1.1)\n",
    "plt.grid()\n",
    "plt.show()"
   ]
  },
  {
   "cell_type": "markdown",
   "id": "bd30ec13",
   "metadata": {},
   "source": [
    "From this graphic, we can already see that they seem to be autocorrelated. Now let's confirm this theory using the course results. We know that for a model `AR(1)`, residuals can be written as:\n",
    "$$u_t = \\rho u_{t - 1} + e_t $$\n",
    "\n",
    "Then, we can set our hypothesis:\n",
    "$$H_0 : { \\rho = 0 };\\quad H_1 : { \\rho \\neq 0 }$$\n",
    "\n",
    "We build then our model `AR(1)` for the residuals of the Phillips Curve estimation from previous question:"
   ]
  },
  {
   "cell_type": "code",
   "execution_count": 186,
   "id": "d6e90050",
   "metadata": {
    "scrolled": true
   },
   "outputs": [
    {
     "data": {
      "text/plain": [
       "array([0.60058705, 0.        ])"
      ]
     },
     "execution_count": 186,
     "metadata": {},
     "output_type": "execute_result"
    }
   ],
   "source": [
    "res_model = AutoReg(res, lags=1)\n",
    "res_results = res_model.fit()\n",
    "res_results.pvalues"
   ]
  },
  {
   "cell_type": "markdown",
   "id": "9d973c2b",
   "metadata": {},
   "source": [
    "\n",
    "We observe that the p-value for $\\rho$ is (approximately) 0, so we reject the null hypothesis that errors are serially uncorrelated at 5%, to conclude that **they are autocorrelated**."
   ]
  },
  {
   "cell_type": "markdown",
   "id": "d9b9fcfa",
   "metadata": {},
   "source": [
    "<h3 style='color: #910c22;'>Question 2.8</h3>\n",
    "<h4 style='color: #910c22;'>Corriger l’autocorrélation des erreurs par la méthode vue en cours.</h4>"
   ]
  },
  {
   "cell_type": "markdown",
   "id": "1c39616b",
   "metadata": {},
   "source": [
    "We will correct this problem building the following model, from course results:\n",
    "\n",
    "$$y_t - \\rho y_{t - 1} = (1 - \\rho)\\beta_0 + \\beta_1(x_t - \\rho x_{t-1}) + e_t, \\quad t \\geq 2$$\n",
    "\n",
    "Renaming:\n",
    "$$\\tilde{y_t} = y_t - \\rho y_{t - 1}$$\n",
    "$$\\tilde{x_t} = x_t - \\rho x_{t-1}$$\n",
    "\n",
    "We have:\n",
    "\n",
    "$$\\tilde{y_t} = (1 - \\rho)\\beta_0 + \\beta_1\\tilde{x_t} + e_t, \\quad t \\geq 2$$"
   ]
  },
  {
   "cell_type": "code",
   "execution_count": 196,
   "id": "7b11b619",
   "metadata": {},
   "outputs": [],
   "source": [
    "# Create needed variables\n",
    "rho = res_results.params[1]\n",
    "y = unemp\n",
    "x = inf\n",
    "y_hat = y[1:] - rho * y[:-1]\n",
    "x_hat = x[1:] - rho * x[:-1]\n",
    "const = np.ones(len(y_hat))\n",
    "X_hat = np.column_stack((const - rho, x_hat))"
   ]
  },
  {
   "cell_type": "code",
   "execution_count": 197,
   "id": "4ae1b987",
   "metadata": {
    "scrolled": true
   },
   "outputs": [
    {
     "name": "stdout",
     "output_type": "stream",
     "text": [
      "                            OLS Regression Results                            \n",
      "==============================================================================\n",
      "Dep. Variable:                      y   R-squared:                       0.024\n",
      "Model:                            OLS   Adj. R-squared:                  0.020\n",
      "Method:                 Least Squares   F-statistic:                     5.203\n",
      "Date:                Sun, 11 Dec 2022   Prob (F-statistic):             0.0236\n",
      "Time:                        03:01:16   Log-Likelihood:                -66.797\n",
      "No. Observations:                 210   AIC:                             137.6\n",
      "Df Residuals:                     208   BIC:                             144.3\n",
      "Df Model:                           1                                         \n",
      "Covariance Type:            nonrobust                                         \n",
      "==============================================================================\n",
      "                 coef    std err          t      P>|t|      [0.025      0.975]\n",
      "------------------------------------------------------------------------------\n",
      "x1             6.7936      1.152      5.899      0.000       4.523       9.064\n",
      "x2            -0.0996      0.044     -2.281      0.024      -0.186      -0.014\n",
      "==============================================================================\n",
      "Omnibus:                       82.032   Durbin-Watson:                   0.725\n",
      "Prob(Omnibus):                  0.000   Jarque-Bera (JB):              283.478\n",
      "Skew:                           1.600   Prob(JB):                     2.78e-62\n",
      "Kurtosis:                       7.707   Cond. No.                         26.4\n",
      "==============================================================================\n",
      "\n",
      "Notes:\n",
      "[1] Standard Errors assume that the covariance matrix of the errors is correctly specified.\n"
     ]
    }
   ],
   "source": [
    "# Model with corrected variables\n",
    "results = sm.OLS(y_hat, X_hat).fit()\n",
    "print(results.summary())"
   ]
  },
  {
   "cell_type": "markdown",
   "id": "33eed8c7",
   "metadata": {},
   "source": [
    "And we can confirm that this model reduces autocorrelation by comparing with a new autocorrelogram:"
   ]
  },
  {
   "cell_type": "code",
   "execution_count": 202,
   "id": "f098d70c",
   "metadata": {
    "scrolled": false
   },
   "outputs": [
    {
     "data": {
      "image/png": "[encoded data removed]",
      "text/plain": [
       "<Figure size 640x480 with 1 Axes>"
      ]
     },
     "metadata": {},
     "output_type": "display_data"
    }
   ],
   "source": [
    "res = results.resid\n",
    "plot_acf(res)\n",
    "plt.title('Autocorrelogram for residuals (corrected)', fontsize=12)\n",
    "plt.ylim(-1.1, 1.1)\n",
    "plt.grid()\n",
    "plt.show()"
   ]
  },
  {
   "cell_type": "markdown",
   "id": "5e9d3dbc",
   "metadata": {},
   "source": [
    "<h3 style='color: #910c22;'>Question 2.9</h3>\n",
    "<h4 style='color: #910c22;'>Tester la stabilité de la relation chômage-inflation sur deux sous-périodes de taille identique (test de changement de structure avant et après la moitié de la période d’observation).</h4>"
   ]
  },
  {
   "cell_type": "markdown",
   "id": "a8d1f8e0",
   "metadata": {},
   "source": [
    "First we will create our subsamples:"
   ]
  },
  {
   "cell_type": "code",
   "execution_count": 209,
   "id": "9d0de214",
   "metadata": {},
   "outputs": [],
   "source": [
    "assert len(inf) == len(unemp)\n",
    "inf_1, inf_2 = np.array_split(inf, 2)\n",
    "unemp_1, unemp_2 = np.array_split(unemp, 2)"
   ]
  },
  {
   "cell_type": "markdown",
   "id": "f41d3851",
   "metadata": {},
   "source": [
    "We will perform a Chow test, to reject our null hypothesis:\n",
    "\n",
    "$$H_0 \\quad : \\quad \\text{\"splitting the sample and fitting each subsample does not improve the results\"}$$"
   ]
  },
  {
   "cell_type": "markdown",
   "id": "3bf59c2c",
   "metadata": {},
   "source": [
    "*For coding facility, we write the whole process of fitting and correcting the residuals autocorrelation problem in a function:*"
   ]
  },
  {
   "cell_type": "code",
   "execution_count": 226,
   "id": "149002ec",
   "metadata": {},
   "outputs": [],
   "source": [
    "def fit_corrected_phillips_model(x, y):\n",
    "    ## Model\n",
    "    const = np.ones(y.shape)\n",
    "    X = np.column_stack((const, x))\n",
    "    results = sm.OLS(y, X).fit()\n",
    "\n",
    "    ## Residuals autocorrelation correction\n",
    "    res = results.resid\n",
    "    res_model = AutoReg(res, lags=1)\n",
    "    res_results = res_model.fit()\n",
    "    rho = res_results.params[1]\n",
    "    y_hat = y[1:] - rho * y[:-1]\n",
    "    x_hat = x[1:] - rho * x[:-1]\n",
    "    const = np.ones(len(y_hat))\n",
    "    X_hat = np.column_stack((const - rho, x_hat))\n",
    "\n",
    "    return sm.OLS(y_hat, X_hat).fit()"
   ]
  },
  {
   "cell_type": "markdown",
   "id": "f7e544c5",
   "metadata": {},
   "source": [
    "We get the SSRs:"
   ]
  },
  {
   "cell_type": "code",
   "execution_count": 229,
   "id": "6cde15ba",
   "metadata": {},
   "outputs": [
    {
     "name": "stdout",
     "output_type": "stream",
     "text": [
      "SSR with whole sample: 23.228733673653537\n",
      "SSR for first subsample: 13.591902095456348\n",
      "SSR for second subsample: 8.78549520917094\n"
     ]
    }
   ],
   "source": [
    "SSR0 = fit_corrected_phillips_model(inf, unemp).ssr\n",
    "SSR1 = fit_corrected_phillips_model(inf_1, unemp_1).ssr\n",
    "SSR2 = fit_corrected_phillips_model(inf_2, unemp_2).ssr\n",
    "print(f\"SSR with whole sample: {SSR0}\")\n",
    "print(f\"SSR for first subsample: {SSR1}\")\n",
    "print(f\"SSR for second subsample: {SSR2}\")"
   ]
  },
  {
   "cell_type": "markdown",
   "id": "bf90bacc",
   "metadata": {},
   "source": [
    "And now we use these SSRs to apply the Chow test, using its Fisher statistic.\n",
    "We have $k = 2$ since we have two explanatory variables, and $n$ is the total number of samples."
   ]
  },
  {
   "cell_type": "code",
   "execution_count": 236,
   "id": "7a6c7f06",
   "metadata": {},
   "outputs": [
    {
     "name": "stdout",
     "output_type": "stream",
     "text": [
      "F-statistic for Chow test: 3.937603332269405\n"
     ]
    }
   ],
   "source": [
    "n = len(inf)\n",
    "k = 2\n",
    "F = ((SSR0 - (SSR1 + SSR2)) / k) / ((SSR1 + SSR2) / (n - 2 * k))\n",
    "print(f\"F-statistic for Chow test: {F}\")"
   ]
  },
  {
   "cell_type": "markdown",
   "id": "bc2a783d",
   "metadata": {},
   "source": [
    "And getting the p-value we can decide if we reject or not:"
   ]
  },
  {
   "cell_type": "code",
   "execution_count": 238,
   "id": "9ef2bdb3",
   "metadata": {},
   "outputs": [
    {
     "name": "stdout",
     "output_type": "stream",
     "text": [
      "p-value: 0.020972390686846358\n"
     ]
    }
   ],
   "source": [
    "p_v = f.sf(F, k, n - 2 * k)\n",
    "print(f\"p-value: {p_v}\")"
   ]
  },
  {
   "cell_type": "markdown",
   "id": "86b4b0e4",
   "metadata": {},
   "source": [
    "As $p\\_value \\lt 5\\%$, we reject the null hypothesis, concluding that **the model is not stable throughout time**."
   ]
  },
  {
   "cell_type": "markdown",
   "id": "aef67eed",
   "metadata": {},
   "source": [
    "<h3 style='color: #910c22;'>Question 2.10</h3>\n",
    "<h4 style='color: #910c22;'>Estimer la courbe de Philips en supprimant l'inflation courante des variables explicatives mais en ajoutant les délais d’ordre 1, 2, 3 et 4 de l’inflation et du chômage. Faire le test de\n",
    "Granger de non causalité de l’inflation sur le chômage. Donnez la p-valeur.</h4>"
   ]
  },
  {
   "cell_type": "markdown",
   "id": "3f51d197",
   "metadata": {},
   "source": [
    "We first build the requested model (unrestricted model for the later test to be done):"
   ]
  },
  {
   "cell_type": "code",
   "execution_count": 263,
   "id": "69b2cc48",
   "metadata": {},
   "outputs": [],
   "source": [
    "def lag_values(values, max_lag):\n",
    "    lagged = {}\n",
    "    for lag in range(1, max_lag + 1):\n",
    "        lagged[lag] = values[(max_lag - lag):-lag]\n",
    "    \n",
    "    return lagged"
   ]
  },
  {
   "cell_type": "code",
   "execution_count": 267,
   "id": "b622a1e1",
   "metadata": {},
   "outputs": [],
   "source": [
    "max_lag = 4\n",
    "lagged_infs = lag_values(inf, max_lag)\n",
    "lagged_unemps = lag_values(unemp, max_lag)\n",
    "n = len(inf) - max_lag\n",
    "const = np.ones(n)\n",
    "y = unemp[max_lag:]"
   ]
  },
  {
   "cell_type": "code",
   "execution_count": 279,
   "id": "4c13f0b4",
   "metadata": {
    "scrolled": false
   },
   "outputs": [
    {
     "name": "stdout",
     "output_type": "stream",
     "text": [
      "                            OLS Regression Results                            \n",
      "==============================================================================\n",
      "Dep. Variable:                      y   R-squared:                       0.979\n",
      "Model:                            OLS   Adj. R-squared:                  0.978\n",
      "Method:                 Least Squares   F-statistic:                     1145.\n",
      "Date:                Sun, 11 Dec 2022   Prob (F-statistic):          2.80e-161\n",
      "Time:                        04:06:55   Log-Likelihood:                 4.6497\n",
      "No. Observations:                 207   AIC:                             8.701\n",
      "Df Residuals:                     198   BIC:                             38.70\n",
      "Df Model:                           8                                         \n",
      "Covariance Type:            nonrobust                                         \n",
      "==============================================================================\n",
      "                 coef    std err          t      P>|t|      [0.025      0.975]\n",
      "------------------------------------------------------------------------------\n",
      "const          0.1457      0.072      2.014      0.045       0.003       0.288\n",
      "x1             0.0311      0.038      0.827      0.409      -0.043       0.105\n",
      "x2            -0.0236      0.041     -0.577      0.565      -0.104       0.057\n",
      "x3             0.0689      0.040      1.729      0.085      -0.010       0.148\n",
      "x4             0.0163      0.038      0.435      0.664      -0.058       0.090\n",
      "x5             1.5937      0.071     22.383      0.000       1.453       1.734\n",
      "x6            -0.6472      0.134     -4.832      0.000      -0.911      -0.383\n",
      "x7             0.0222      0.135      0.164      0.870      -0.245       0.289\n",
      "x8            -0.0080      0.070     -0.114      0.910      -0.146       0.130\n",
      "==============================================================================\n",
      "Omnibus:                       29.127   Durbin-Watson:                   1.997\n",
      "Prob(Omnibus):                  0.000   Jarque-Bera (JB):               68.886\n",
      "Skew:                           0.625   Prob(JB):                     1.10e-15\n",
      "Kurtosis:                       5.534   Cond. No.                         143.\n",
      "==============================================================================\n",
      "\n",
      "Notes:\n",
      "[1] Standard Errors assume that the covariance matrix of the errors is correctly specified.\n"
     ]
    }
   ],
   "source": [
    "# Unrestricted model\n",
    "\n",
    "X_ur = np.column_stack(\n",
    "    (const,\n",
    "     lagged_infs[1],\n",
    "     lagged_infs[2],\n",
    "     lagged_infs[3],\n",
    "     lagged_infs[4],\n",
    "     lagged_unemps[1],\n",
    "     lagged_unemps[2],\n",
    "     lagged_unemps[3],\n",
    "     lagged_unemps[4]\n",
    "    )\n",
    ")\n",
    "k_ur = X_ur.shape[1]\n",
    "\n",
    "results_ur = sm.OLS(y, X_ur).fit()\n",
    "print(results_ur.summary())"
   ]
  },
  {
   "cell_type": "markdown",
   "id": "864bb48c",
   "metadata": {},
   "source": [
    "We observe that every lagged value for inf (x1, x2, x3, x4) has a **p-value greater than 0.05**, meaning they are significative at a 5% level.\n",
    "\n",
    "Now we can do the Granger test by creating a restricted model (without inflation) and then computing the F-statistic to see if we can reject the null hypothesis (in this case, \"previous lagged values from inflation do not improve our fitting results\") by checking the p-value:"
   ]
  },
  {
   "cell_type": "code",
   "execution_count": 280,
   "id": "ddd72dce",
   "metadata": {},
   "outputs": [],
   "source": [
    "# Restricted model\n",
    "\n",
    "X_r = np.column_stack(\n",
    "    (const,\n",
    "     lagged_unemps[1],\n",
    "     lagged_unemps[2],\n",
    "     lagged_unemps[3],\n",
    "     lagged_unemps[4]\n",
    "    )\n",
    ")\n",
    "k_r = X_r.shape[1]\n",
    "\n",
    "results_r = sm.OLS(y, X_r).fit()"
   ]
  },
  {
   "cell_type": "code",
   "execution_count": 283,
   "id": "afd709c5",
   "metadata": {},
   "outputs": [
    {
     "name": "stdout",
     "output_type": "stream",
     "text": [
      "F-statistic for Granger test: 3.796699198205276\n",
      "p-value: 0.005351957807937583\n"
     ]
    }
   ],
   "source": [
    "# Test\n",
    "\n",
    "SSR_ur = results_ur.ssr\n",
    "SSR_r = results_r.ssr\n",
    "\n",
    "F = ((SSR_r - SSR_ur) / (k_ur - k_r)) / ((SSR_ur) / (n - k_ur))\n",
    "print(f\"F-statistic for Granger test: {F}\")\n",
    "\n",
    "p_v = f.sf(F, k_ur - k_r, n - k_ur)\n",
    "print(f\"p-value: {p_v}\")"
   ]
  },
  {
   "cell_type": "markdown",
   "id": "91be0fde",
   "metadata": {},
   "source": [
    "As $p\\_value \\lt 5\\%$, we can reject the null hypothesis, therefore accepting that the inflation lagged values improves the fitting. So, we conclude that we have causality between these lagged values from inflation and unemployement."
   ]
  },
  {
   "cell_type": "markdown",
   "id": "1b43e1e9",
   "metadata": {},
   "source": [
    "<h3 style='color: #910c22;'>Question 2.11</h3>\n",
    "<h4 style='color: #910c22;'>Représentez graphiquement les délais distribués et commentez. Calculer l’impact à long de terme de l’inflation sur le chômage.</h4>"
   ]
  },
  {
   "cell_type": "code",
   "execution_count": 294,
   "id": "82260114",
   "metadata": {
    "scrolled": true
   },
   "outputs": [
    {
     "data": {
      "image/png": "[encoded data removed]",
      "text/plain": [
       "<Figure size 640x480 with 1 Axes>"
      ]
     },
     "metadata": {},
     "output_type": "display_data"
    }
   ],
   "source": [
    "lags = np.arange(1, max_lag + 1)\n",
    "b_inf = results_ur.params[1:5]\n",
    "b_unemp = results_ur.params[5:]\n",
    "\n",
    "plt.plot(lags, b_inf, label=\"Inflation coef\")\n",
    "plt.plot(lags, b_unemp, label=\"Unemployment coef\")\n",
    "plt.title('Lag distribution (OLS estimation)', fontsize=12)\n",
    "plt.xlabel('Lag')\n",
    "plt.ylabel('Weight (in the model)')\n",
    "plt.xlim(lags[0], lags[-1])\n",
    "plt.grid()\n",
    "plt.legend()\n",
    "plt.show()"
   ]
  },
  {
   "cell_type": "markdown",
   "id": "f9a7f0c0",
   "metadata": {},
   "source": [
    "As can be seen in the graph, the variation in the previous unemployment values has much more impact than the variation in the previous inflation values (which is logical and expected).\n",
    "\n",
    "To calculate the long-term impact, we can add all the coefficients for the different values of inflation lag:"
   ]
  },
  {
   "cell_type": "code",
   "execution_count": 295,
   "id": "7394ecf5",
   "metadata": {},
   "outputs": [
    {
     "name": "stdout",
     "output_type": "stream",
     "text": [
      "Long-term impact of inflation on unemployment: 0.09280567909911851\n"
     ]
    }
   ],
   "source": [
    "print(f\"Long-term impact of inflation on unemployment: {sum(b_inf)}\")"
   ]
  }
 ],
 "metadata": {
  "kernelspec": {
   "display_name": "Python 3 (ipykernel)",
   "language": "python",
   "name": "python3"
  },
  "language_info": {
   "codemirror_mode": {
    "name": "ipython",
    "version": 3
   },
   "file_extension": ".py",
   "mimetype": "text/x-python",
   "name": "python",
   "nbconvert_exporter": "python",
   "pygments_lexer": "ipython3",
   "version": "3.10.6"
  }
 },
 "nbformat": 4,
 "nbformat_minor": 5
}
